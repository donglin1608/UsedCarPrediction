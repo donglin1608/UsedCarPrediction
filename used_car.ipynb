{
 "cells": [
  {
   "cell_type": "code",
   "id": "initial_id",
   "metadata": {
    "collapsed": true,
    "ExecuteTime": {
     "end_time": "2024-06-04T17:59:57.545036Z",
     "start_time": "2024-06-04T17:59:57.419895Z"
    }
   },
   "source": [
    "import pandas as pd\n",
    "\n",
    "train_df = pd.read_csv('/Users/donglinxiong/Documents/i-drive/Desktop/kagglex-cohort4/train.csv')\n",
    "test_df = pd.read_csv(\"/Users/donglinxiong/Documents/i-drive/Desktop/kagglex-cohort4/test.csv\")\n",
    "\n",
    "print(train_df.columns)\n",
    "print(test_df.columns)\n"
   ],
   "outputs": [
    {
     "name": "stdout",
     "output_type": "stream",
     "text": [
      "Index(['id', 'brand', 'model', 'model_year', 'milage', 'fuel_type', 'engine',\n",
      "       'transmission', 'ext_col', 'int_col', 'accident', 'clean_title',\n",
      "       'price'],\n",
      "      dtype='object')\n",
      "Index(['id', 'brand', 'model', 'model_year', 'milage', 'fuel_type', 'engine',\n",
      "       'transmission', 'ext_col', 'int_col', 'accident', 'clean_title'],\n",
      "      dtype='object')\n"
     ]
    }
   ],
   "execution_count": 19
  },
  {
   "metadata": {
    "ExecuteTime": {
     "end_time": "2024-06-04T17:59:57.622118Z",
     "start_time": "2024-06-04T17:59:57.546036Z"
    }
   },
   "cell_type": "code",
   "source": [
    "def get_dataset_summary(df):\n",
    "    summary = {\n",
    "        'Number of Rows': df.shape[0],  # number of rows\n",
    "        'Number of Columns': df.shape[1],  # number of columns\n",
    "        'Missing Values': df.isnull().sum().sum(),\n",
    "        'Duplicates': df.duplicated().sum(),\n",
    "        'Memory_usage': df.memory_usage().sum(),\n",
    "        'Unique Values': df.nunique()\n",
    "    }\n",
    "    return summary\n",
    "\n",
    "\n",
    "#get summary for both datasets\n",
    "train_summary = get_dataset_summary(train_df)\n",
    "test_summary = get_dataset_summary(test_df)\n",
    "\n",
    "#Create a dataframe from the summary\n",
    "summary_df = pd.DataFrame([train_summary, test_summary], index=['train', 'test'])\n",
    "\n",
    "#print the summary table\n",
    "print(summary_df)\n"
   ],
   "id": "4f0c54017c8ce926",
   "outputs": [
    {
     "name": "stdout",
     "output_type": "stream",
     "text": [
      "       Number of Rows  Number of Columns  Missing Values  Duplicates  \\\n",
      "train           54273                 13               0           0   \n",
      "test            36183                 12               0           0   \n",
      "\n",
      "       Memory_usage                                      Unique Values  \n",
      "train       5644524  id              54273\n",
      "brand              53\n",
      "mo...  \n",
      "test        3473700  id              36183\n",
      "brand              53\n",
      "mo...  \n"
     ]
    }
   ],
   "execution_count": 20
  },
  {
   "metadata": {
    "ExecuteTime": {
     "end_time": "2024-06-04T17:59:57.624649Z",
     "start_time": "2024-06-04T17:59:57.622761Z"
    }
   },
   "cell_type": "code",
   "source": [
    "#I want to add a new column to test dataset called 'Price' and fill it with zeros\n",
    "test_df['price'] = 0\n"
   ],
   "id": "4f03c553b43596b3",
   "outputs": [],
   "execution_count": 21
  },
  {
   "metadata": {
    "ExecuteTime": {
     "end_time": "2024-06-04T17:59:57.712062Z",
     "start_time": "2024-06-04T17:59:57.625774Z"
    }
   },
   "cell_type": "code",
   "source": [
    "#Replace the Value \"‚Äì\" with Neighboring Value function\n",
    "def replace_with_neighbor(df):\n",
    "    for column in df.columns:\n",
    "        #convert the column to a list for easier manipulation\n",
    "        col_values = df[column].tolist()\n",
    "        for i in range(len(col_values)):\n",
    "            if col_values[i] == '‚Äì':\n",
    "                #replace the value with the previous value\n",
    "                if i > 0:\n",
    "                    #if the value is not the first value in the list\n",
    "                    col_values[i] = col_values[i - 1]\n",
    "                    #if the value is the first value in the list\n",
    "                elif i < len(col_values) - 1:\n",
    "                    col_values[i] = col_values[i + 1]\n",
    "\n",
    "        #update the column with the new values\n",
    "        df[column] = col_values\n",
    "    return df\n",
    "\n",
    "\n",
    "#replace the value \"‚Äì\" in both train and test\n",
    "train_df = replace_with_neighbor(train_df)\n",
    "test_df = replace_with_neighbor(test_df)\n",
    "\n",
    "#print the updated datasets\n",
    "print(\"Train dataset:\\n\", train_df.head(100))\n",
    "print(\"Test dataset:\\n\", test_df.head(100))\n",
    "\n"
   ],
   "id": "c56a8297757567ce",
   "outputs": [
    {
     "name": "stdout",
     "output_type": "stream",
     "text": [
      "Train dataset:\n",
      "     id    brand          model  model_year  milage fuel_type  \\\n",
      "0    0     Ford   F-150 Lariat        2018   74349  Gasoline   \n",
      "1    1      BMW          335 i        2007   80000  Gasoline   \n",
      "2    2   Jaguar      XF Luxury        2009   91491  Gasoline   \n",
      "3    3      BMW   X7 xDrive40i        2022    2437    Hybrid   \n",
      "4    4  Pontiac  Firebird Base        2001  111000  Gasoline   \n",
      "..  ..      ...            ...         ...     ...       ...   \n",
      "95  95  Lincoln       MKZ Base        2016   54000  Gasoline   \n",
      "96  96   Nissan      Maxima SL        2007  105000  Gasoline   \n",
      "97  97   Toyota     Tundra SR5        2016   74000  Gasoline   \n",
      "98  98   Subaru    BRZ Limited        2016   36000  Gasoline   \n",
      "99  99   Nissan    Wrangler SE        2003  106000  Gasoline   \n",
      "\n",
      "                                               engine  \\\n",
      "0       375.0HP 3.5L V6 Cylinder Engine Gasoline Fuel   \n",
      "1   300.0HP 3.0L Straight 6 Cylinder Engine Gasoli...   \n",
      "2        300.0HP 4.2L 8 Cylinder Engine Gasoline Fuel   \n",
      "3   335.0HP 3.0L Straight 6 Cylinder Engine Gasoli...   \n",
      "4       200.0HP 3.8L V6 Cylinder Engine Gasoline Fuel   \n",
      "..                                                ...   \n",
      "95      300.0HP 3.7L V6 Cylinder Engine Gasoline Fuel   \n",
      "96      255.0HP 3.5L V6 Cylinder Engine Gasoline Fuel   \n",
      "97       381.0HP 5.7L 8 Cylinder Engine Gasoline Fuel   \n",
      "98       228.0HP 2.4L 4 Cylinder Engine Gasoline Fuel   \n",
      "99       150.0HP 2.4L 4 Cylinder Engine Gasoline Fuel   \n",
      "\n",
      "                      transmission ext_col int_col  \\\n",
      "0                     10-Speed A/T    Blue    Gray   \n",
      "1                      6-Speed M/T   Black   Black   \n",
      "2                      6-Speed A/T  Purple   Beige   \n",
      "3   Transmission w/Dual Shift Mode    Gray   Brown   \n",
      "4                              A/T   White   Black   \n",
      "..                             ...     ...     ...   \n",
      "95                     6-Speed A/T   White   Black   \n",
      "96                             A/T  Silver    Gray   \n",
      "97                     6-Speed A/T   White   Black   \n",
      "98  Transmission w/Dual Shift Mode    Gray   Black   \n",
      "99                     5-Speed M/T     Red    Gray   \n",
      "\n",
      "                                  accident clean_title  price  \n",
      "0                            None reported         Yes  11000  \n",
      "1                            None reported         Yes   8250  \n",
      "2                            None reported         Yes  15000  \n",
      "3                            None reported         Yes  63500  \n",
      "4                            None reported         Yes   7850  \n",
      "..                                     ...         ...    ...  \n",
      "95  At least 1 accident or damage reported         Yes  16000  \n",
      "96                           None reported         Yes  13300  \n",
      "97                           None reported         Yes  36000  \n",
      "98                           None reported         Yes  36000  \n",
      "99  At least 1 accident or damage reported         Yes   6700  \n",
      "\n",
      "[100 rows x 13 columns]\n",
      "Test dataset:\n",
      "        id          brand                                              model  \\\n",
      "0   54273  Mercedes-Benz                                      E-Class E 350   \n",
      "1   54274          Lexus                                        RX 350 Base   \n",
      "2   54275  Mercedes-Benz                                      C-Class C 300   \n",
      "3   54276           Land  Rover Range Rover 5.0L Supercharged Autobiogra...   \n",
      "4   54277            BMW                                       X6 xDrive40i   \n",
      "..    ...            ...                                                ...   \n",
      "95  54368       INFINITI                                              G37 x   \n",
      "96  54369           Ford                                       F-150 Lariat   \n",
      "97  54370           Land                                      Rover LR4 HSE   \n",
      "98  54371         Nissan                       NV Passenger NV3500 HD SL V8   \n",
      "99  54372        Porsche                                      Cayenne Turbo   \n",
      "\n",
      "    model_year  milage fuel_type  \\\n",
      "0         2014   73000  Gasoline   \n",
      "1         2015  128032  Gasoline   \n",
      "2         2015   51983  Gasoline   \n",
      "3         2018   29500  Gasoline   \n",
      "4         2020   90000  Gasoline   \n",
      "..         ...     ...       ...   \n",
      "95        2016  102665  Gasoline   \n",
      "96        2016  162000  Gasoline   \n",
      "97        2014  117000  Gasoline   \n",
      "98        2017   57500  Gasoline   \n",
      "99        2015   69600  Gasoline   \n",
      "\n",
      "                                               engine  \\\n",
      "0       302.0HP 3.5L V6 Cylinder Engine Gasoline Fuel   \n",
      "1       275.0HP 3.5L V6 Cylinder Engine Gasoline Fuel   \n",
      "2        241.0HP 2.0L 4 Cylinder Engine Gasoline Fuel   \n",
      "3        518.0HP 5.0L 8 Cylinder Engine Gasoline Fuel   \n",
      "4   335.0HP 3.0L Straight 6 Cylinder Engine Gasoli...   \n",
      "..                                                ...   \n",
      "95      328.0HP 3.7L V6 Cylinder Engine Gasoline Fuel   \n",
      "96      365.0HP 3.5L V6 Cylinder Engine Gasoline Fuel   \n",
      "97       375.0HP 5.0L 8 Cylinder Engine Gasoline Fuel   \n",
      "98       375.0HP 5.6L 8 Cylinder Engine Gasoline Fuel   \n",
      "99       550.0HP 4.8L 8 Cylinder Engine Gasoline Fuel   \n",
      "\n",
      "                      transmission ext_col int_col  \\\n",
      "0                              A/T   White   Beige   \n",
      "1                      8-Speed A/T  Silver   Black   \n",
      "2                      7-Speed A/T    Blue   White   \n",
      "3   Transmission w/Dual Shift Mode   White   White   \n",
      "4                      8-Speed A/T   White   Black   \n",
      "..                             ...     ...     ...   \n",
      "95                             A/T   Black   Black   \n",
      "96                             A/T   White   Black   \n",
      "97                             A/T   White   Brown   \n",
      "98                             A/T   White    Gray   \n",
      "99                     8-Speed A/T   White   Black   \n",
      "\n",
      "                                  accident clean_title  price  \n",
      "0                            None reported         Yes      0  \n",
      "1                            None reported         Yes      0  \n",
      "2                            None reported         Yes      0  \n",
      "3   At least 1 accident or damage reported         Yes      0  \n",
      "4   At least 1 accident or damage reported         Yes      0  \n",
      "..                                     ...         ...    ...  \n",
      "95                           None reported         Yes      0  \n",
      "96                           None reported         Yes      0  \n",
      "97                           None reported         Yes      0  \n",
      "98                           None reported         Yes      0  \n",
      "99  At least 1 accident or damage reported         Yes      0  \n",
      "\n",
      "[100 rows x 13 columns]\n"
     ]
    }
   ],
   "execution_count": 22
  },
  {
   "metadata": {
    "ExecuteTime": {
     "end_time": "2024-06-04T18:00:01.699758Z",
     "start_time": "2024-06-04T17:59:57.712582Z"
    }
   },
   "cell_type": "code",
   "source": [
    "#Function to Find Rows Containing \"‚Äì\" in a Dataset\n",
    "def find_rows_with_value(df, value=\"‚Äì\"):\n",
    "    #finde the rows containing the specified value\n",
    "    rows_with_value = df.apply(lambda row: row.astype(str).str.contains(value).any(),\n",
    "                               axis=1)  #axis=1 means we are looking at rows\n",
    "    return df[rows_with_value]\n",
    "\n",
    "\n",
    "#find rows containing \",Äì\" in the train dataset\n",
    "rows_with_value_train = find_rows_with_value(train_df, value=\"‚Äì\")\n",
    "rows_with_value_test = find_rows_with_value(test_df, value=\"‚Äì\")\n",
    "print(rows_with_value_train)\n",
    "print(rows_with_value_test)\n"
   ],
   "id": "b80c49701677f781",
   "outputs": [
    {
     "name": "stdout",
     "output_type": "stream",
     "text": [
      "Empty DataFrame\n",
      "Columns: [id, brand, model, model_year, milage, fuel_type, engine, transmission, ext_col, int_col, accident, clean_title, price]\n",
      "Index: []\n",
      "Empty DataFrame\n",
      "Columns: [id, brand, model, model_year, milage, fuel_type, engine, transmission, ext_col, int_col, accident, clean_title, price]\n",
      "Index: []\n"
     ]
    }
   ],
   "execution_count": 23
  },
  {
   "metadata": {
    "ExecuteTime": {
     "end_time": "2024-06-04T18:00:01.701940Z",
     "start_time": "2024-06-04T18:00:01.700367Z"
    }
   },
   "cell_type": "code",
   "source": [
    "#print all columns name in the train dataset\n",
    "print(test_df.columns)"
   ],
   "id": "3a4013b4c39be139",
   "outputs": [
    {
     "name": "stdout",
     "output_type": "stream",
     "text": [
      "Index(['id', 'brand', 'model', 'model_year', 'milage', 'fuel_type', 'engine',\n",
      "       'transmission', 'ext_col', 'int_col', 'accident', 'clean_title',\n",
      "       'price'],\n",
      "      dtype='object')\n"
     ]
    }
   ],
   "execution_count": 24
  },
  {
   "metadata": {
    "ExecuteTime": {
     "end_time": "2024-06-04T18:00:01.704393Z",
     "start_time": "2024-06-04T18:00:01.702602Z"
    }
   },
   "cell_type": "code",
   "source": "print(train_df.columns)\n",
   "id": "7b5d772929bc26f2",
   "outputs": [
    {
     "name": "stdout",
     "output_type": "stream",
     "text": [
      "Index(['id', 'brand', 'model', 'model_year', 'milage', 'fuel_type', 'engine',\n",
      "       'transmission', 'ext_col', 'int_col', 'accident', 'clean_title',\n",
      "       'price'],\n",
      "      dtype='object')\n"
     ]
    }
   ],
   "execution_count": 25
  },
  {
   "metadata": {
    "ExecuteTime": {
     "end_time": "2024-06-04T18:00:01.711398Z",
     "start_time": "2024-06-04T18:00:01.704898Z"
    }
   },
   "cell_type": "code",
   "source": [
    "#columns to be removed\n",
    "columns_to_remove = ['fuel_type', 'ext_col', 'int_col', 'clean_title']\n",
    "\n",
    "#remove the columns from both datasets\n",
    "train_df = train_df.drop(columns=columns_to_remove)\n",
    "test_df = test_df.drop(columns=columns_to_remove)\n",
    "\n",
    "print(\"Updated Train dataset:\\n\", train_df.columns)\n",
    "print(\"Updated Test dataset:\\n\", test_df.columns)"
   ],
   "id": "971f946d86ef9108",
   "outputs": [
    {
     "name": "stdout",
     "output_type": "stream",
     "text": [
      "Updated Train dataset:\n",
      " Index(['id', 'brand', 'model', 'model_year', 'milage', 'engine',\n",
      "       'transmission', 'accident', 'price'],\n",
      "      dtype='object')\n",
      "Updated Test dataset:\n",
      " Index(['id', 'brand', 'model', 'model_year', 'milage', 'engine',\n",
      "       'transmission', 'accident', 'price'],\n",
      "      dtype='object')\n"
     ]
    }
   ],
   "execution_count": 26
  },
  {
   "metadata": {
    "ExecuteTime": {
     "end_time": "2024-06-04T18:00:01.733236Z",
     "start_time": "2024-06-04T18:00:01.711876Z"
    }
   },
   "cell_type": "code",
   "source": [
    "# identify number of unique values in each column of the train dataset and test dataset \n",
    "train_unique_counts = train_df.nunique()\n",
    "test_unique_counts = test_df.nunique()\n",
    "\n",
    "# create a dataframe from the unique counts\n",
    "summary_df = pd.DataFrame({\n",
    "    'train_unique_counts': train_unique_counts,\n",
    "    'test_unique_counts': test_unique_counts\n",
    "\n",
    "})\n",
    "\n",
    "#Display the summary table\n",
    "print(\"Summary of unique values in each column:\\n\", summary_df)"
   ],
   "id": "da2828ace30f1399",
   "outputs": [
    {
     "name": "stdout",
     "output_type": "stream",
     "text": [
      "Summary of unique values in each column:\n",
      "               train_unique_counts  test_unique_counts\n",
      "id                          54273               36183\n",
      "brand                          53                  53\n",
      "model                        1827                1791\n",
      "model_year                     34                  34\n",
      "milage                       3212                2973\n",
      "engine                       1061                1038\n",
      "transmission                   46                  44\n",
      "accident                        2                   2\n",
      "price                        1481                   1\n"
     ]
    }
   ],
   "execution_count": 27
  },
  {
   "metadata": {
    "ExecuteTime": {
     "end_time": "2024-06-04T18:00:01.745902Z",
     "start_time": "2024-06-04T18:00:01.735423Z"
    }
   },
   "cell_type": "code",
   "source": [
    "#compare the 'model' column between the train_df and test_df datasets, and print out the rows from train_df that have values in the 'model' column not present in the test_df.\n",
    "test_models = set(test_df['model'].unique())  #get unique values in the 'model' column of test_df\n",
    "\n",
    "#identify rows in train_df that where 'model' value are not in test_df\n",
    "train_df_filtered = train_df[train_df['model'].isin(test_models)]\n",
    "#unmatched_rows = train_df[~train_df['model'].isin(test_models)] #get rows in train_df where 'model' value is not in test_models\n",
    "\n",
    "#Print the unmatched rows from train_df \n",
    "print(train_df_filtered)"
   ],
   "id": "484ecbea5e28a9e4",
   "outputs": [
    {
     "name": "stdout",
     "output_type": "stream",
     "text": [
      "          id    brand                             model  model_year  milage  \\\n",
      "0          0     Ford                      F-150 Lariat        2018   74349   \n",
      "1          1      BMW                             335 i        2007   80000   \n",
      "2          2   Jaguar                         XF Luxury        2009   91491   \n",
      "3          3      BMW                      X7 xDrive40i        2022    2437   \n",
      "4          4  Pontiac                     Firebird Base        2001  111000   \n",
      "...      ...      ...                               ...         ...     ...   \n",
      "54268  54268      BMW                      X6 xDrive50i        2017   29000   \n",
      "54269  54269     Audi                   A4 2.0T Premium        2015   94634   \n",
      "54270  54270  Porsche                         Cayenne S        2013   40989   \n",
      "54271  54271  Porsche                 911 Carrera 4 GTS        2023    1518   \n",
      "54272  54272     Audi  A5 Sportback S line Premium Plus        2021   35000   \n",
      "\n",
      "                                                  engine  \\\n",
      "0          375.0HP 3.5L V6 Cylinder Engine Gasoline Fuel   \n",
      "1      300.0HP 3.0L Straight 6 Cylinder Engine Gasoli...   \n",
      "2           300.0HP 4.2L 8 Cylinder Engine Gasoline Fuel   \n",
      "3      335.0HP 3.0L Straight 6 Cylinder Engine Gasoli...   \n",
      "4          200.0HP 3.8L V6 Cylinder Engine Gasoline Fuel   \n",
      "...                                                  ...   \n",
      "54268       445.0HP 4.4L 8 Cylinder Engine Gasoline Fuel   \n",
      "54269  220.0HP 2.0L 4 Cylinder Engine Flex Fuel Capab...   \n",
      "54270      420.0HP 3.6L V6 Cylinder Engine Gasoline Fuel   \n",
      "54271                               4.0L H6 24V GDI DOHC   \n",
      "54272  261.0HP 2.0L 4 Cylinder Engine Gasoline/Mild E...   \n",
      "\n",
      "                            transmission  \\\n",
      "0                           10-Speed A/T   \n",
      "1                            6-Speed M/T   \n",
      "2                            6-Speed A/T   \n",
      "3         Transmission w/Dual Shift Mode   \n",
      "4                                    A/T   \n",
      "...                                  ...   \n",
      "54268                        8-Speed A/T   \n",
      "54269                        6-Speed A/T   \n",
      "54270     Transmission w/Dual Shift Mode   \n",
      "54271  8-Speed Automatic with Auto-Shift   \n",
      "54272                        8-Speed A/T   \n",
      "\n",
      "                                     accident   price  \n",
      "0                               None reported   11000  \n",
      "1                               None reported    8250  \n",
      "2                               None reported   15000  \n",
      "3                               None reported   63500  \n",
      "4                               None reported    7850  \n",
      "...                                       ...     ...  \n",
      "54268                           None reported   29000  \n",
      "54269  At least 1 accident or damage reported    6500  \n",
      "54270  At least 1 accident or damage reported   18950  \n",
      "54271                           None reported  194965  \n",
      "54272                           None reported   37499  \n",
      "\n",
      "[54088 rows x 9 columns]\n"
     ]
    }
   ],
   "execution_count": 28
  },
  {
   "metadata": {
    "ExecuteTime": {
     "end_time": "2024-06-04T18:00:01.769562Z",
     "start_time": "2024-06-04T18:00:01.746422Z"
    }
   },
   "cell_type": "code",
   "source": [
    "# identify number of unique values in each column of the train dataset and test dataset \n",
    "train_unique_counts = train_df_filtered.nunique()\n",
    "test_unique_counts = test_df.nunique()\n",
    "\n",
    "# create a dataframe from the unique counts\n",
    "summary_df = pd.DataFrame({\n",
    "    'train_unique_counts': train_unique_counts,\n",
    "    'test_unique_counts': test_unique_counts\n",
    "\n",
    "})\n",
    "\n",
    "#Display the summary table\n",
    "print(\"Summary of unique values in each column:\\n\", summary_df)"
   ],
   "id": "27bf0ccc8ba93285",
   "outputs": [
    {
     "name": "stdout",
     "output_type": "stream",
     "text": [
      "Summary of unique values in each column:\n",
      "               train_unique_counts  test_unique_counts\n",
      "id                          54088               36183\n",
      "brand                          52                  53\n",
      "model                        1759                1791\n",
      "model_year                     34                  34\n",
      "milage                       3205                2973\n",
      "engine                       1049                1038\n",
      "transmission                   45                  44\n",
      "accident                        2                   2\n",
      "price                        1480                   1\n"
     ]
    }
   ],
   "execution_count": 29
  },
  {
   "metadata": {
    "ExecuteTime": {
     "end_time": "2024-06-04T18:00:01.771805Z",
     "start_time": "2024-06-04T18:00:01.770278Z"
    }
   },
   "cell_type": "code",
   "source": [
    "#create sets of tuples containing the unique combinations of brand and model \n",
    "# train_combinations = set(train_df[['brand', 'model']].apply(tuple, axis=1))\n",
    "# test_combinations = set(test_df[['brand', 'model']].apply(tuple, axis=1))\n",
    "\n",
    "#identify combinations in te st_df that are not in train_df\n",
    "# unmatched_combinations = test_combinations - train_combinations\n",
    "\n",
    "#Fileter the rows in test_df with the unmatch 'brand' and 'model' combinations\n",
    "# unmatched_rows = test_df[test_df[['brand', 'model']].apply(tuple, axis=1).isin(unmatched_combinations)]\n",
    "\n",
    "#Append the unmatched rows to train_df\n",
    "# train_df = pd.concat([train_df, unmatched_rows], ignore_index=True)\n",
    "\n",
    "#Print the updated train_df\n",
    "# print(train_df)"
   ],
   "id": "1e657300a72a7c9a",
   "outputs": [],
   "execution_count": 30
  },
  {
   "metadata": {
    "ExecuteTime": {
     "end_time": "2024-06-04T18:00:01.773786Z",
     "start_time": "2024-06-04T18:00:01.772448Z"
    }
   },
   "cell_type": "code",
   "source": [
    "#identify number of unique values in each column of the train dataset and test dataset \n",
    "# /\n",
    "# train_unique_counts = train_df.nunique()\n",
    "# test_unique_counts = test_df.nunique()\n",
    "# \n",
    "# create a dataframe from the unique counts\n",
    "# summary_df = pd.DataFrame({\n",
    "#      'train_unique_counts': train_unique_counts,\n",
    "#      'test_unique_counts': test_unique_counts DataFrame})\n",
    "\n",
    "# Display the summary table\n",
    "# print(\"Summary of unique values in each column:\\n\", summary_df)\n",
    "# /"
   ],
   "id": "3ed8ae9394dbdcad",
   "outputs": [],
   "execution_count": 31
  },
  {
   "metadata": {
    "ExecuteTime": {
     "end_time": "2024-06-04T18:00:01.775603Z",
     "start_time": "2024-06-04T18:00:01.774320Z"
    }
   },
   "cell_type": "code",
   "source": [
    "#download the updated train_df to a csv file\n",
    "# train_df.to_csv('/Users/donglinxiong/Documents/i-drive/Desktop/kagglex-cohort4/train_updated.csv', index=False)/"
   ],
   "id": "68d02f225b88c71",
   "outputs": [],
   "execution_count": 32
  },
  {
   "metadata": {
    "ExecuteTime": {
     "end_time": "2024-06-04T18:00:01.777340Z",
     "start_time": "2024-06-04T18:00:01.776149Z"
    }
   },
   "cell_type": "code",
   "source": [
    "#download the updated test_df to a csv file\n",
    "#test_df.to_csv('/Users/donglinxiong/Documents/i-drive/Desktop/kagglex-cohort4/test_updated.csv', index=False)\n"
   ],
   "id": "383f247f8c643640",
   "outputs": [],
   "execution_count": 33
  },
  {
   "metadata": {
    "ExecuteTime": {
     "end_time": "2024-06-04T18:00:01.782276Z",
     "start_time": "2024-06-04T18:00:01.777875Z"
    }
   },
   "cell_type": "code",
   "source": [
    "#change model_year column to mode_age current_year - model_year \n",
    "current_year = 2024\n",
    "train_df['model_year'] = current_year - train_df['model_year']\n",
    "test_df['model_year'] = current_year - test_df['model_year']\n",
    "\n",
    "#print the updated datasets\n",
    "print(\"Train dataset:\\n\", train_df.head())\n",
    "print(\"Test dataset:\\n\", test_df.head())"
   ],
   "id": "445f56df22c6f467",
   "outputs": [
    {
     "name": "stdout",
     "output_type": "stream",
     "text": [
      "Train dataset:\n",
      "    id    brand          model  model_year  milage  \\\n",
      "0   0     Ford   F-150 Lariat           6   74349   \n",
      "1   1      BMW          335 i          17   80000   \n",
      "2   2   Jaguar      XF Luxury          15   91491   \n",
      "3   3      BMW   X7 xDrive40i           2    2437   \n",
      "4   4  Pontiac  Firebird Base          23  111000   \n",
      "\n",
      "                                              engine  \\\n",
      "0      375.0HP 3.5L V6 Cylinder Engine Gasoline Fuel   \n",
      "1  300.0HP 3.0L Straight 6 Cylinder Engine Gasoli...   \n",
      "2       300.0HP 4.2L 8 Cylinder Engine Gasoline Fuel   \n",
      "3  335.0HP 3.0L Straight 6 Cylinder Engine Gasoli...   \n",
      "4      200.0HP 3.8L V6 Cylinder Engine Gasoline Fuel   \n",
      "\n",
      "                     transmission       accident  price  \n",
      "0                    10-Speed A/T  None reported  11000  \n",
      "1                     6-Speed M/T  None reported   8250  \n",
      "2                     6-Speed A/T  None reported  15000  \n",
      "3  Transmission w/Dual Shift Mode  None reported  63500  \n",
      "4                             A/T  None reported   7850  \n",
      "Test dataset:\n",
      "       id          brand                                              model  \\\n",
      "0  54273  Mercedes-Benz                                      E-Class E 350   \n",
      "1  54274          Lexus                                        RX 350 Base   \n",
      "2  54275  Mercedes-Benz                                      C-Class C 300   \n",
      "3  54276           Land  Rover Range Rover 5.0L Supercharged Autobiogra...   \n",
      "4  54277            BMW                                       X6 xDrive40i   \n",
      "\n",
      "   model_year  milage                                             engine  \\\n",
      "0          10   73000      302.0HP 3.5L V6 Cylinder Engine Gasoline Fuel   \n",
      "1           9  128032      275.0HP 3.5L V6 Cylinder Engine Gasoline Fuel   \n",
      "2           9   51983       241.0HP 2.0L 4 Cylinder Engine Gasoline Fuel   \n",
      "3           6   29500       518.0HP 5.0L 8 Cylinder Engine Gasoline Fuel   \n",
      "4           4   90000  335.0HP 3.0L Straight 6 Cylinder Engine Gasoli...   \n",
      "\n",
      "                     transmission                                accident  \\\n",
      "0                             A/T                           None reported   \n",
      "1                     8-Speed A/T                           None reported   \n",
      "2                     7-Speed A/T                           None reported   \n",
      "3  Transmission w/Dual Shift Mode  At least 1 accident or damage reported   \n",
      "4                     8-Speed A/T  At least 1 accident or damage reported   \n",
      "\n",
      "   price  \n",
      "0      0  \n",
      "1      0  \n",
      "2      0  \n",
      "3      0  \n",
      "4      0  \n"
     ]
    }
   ],
   "execution_count": 34
  },
  {
   "metadata": {
    "ExecuteTime": {
     "end_time": "2024-06-04T21:13:10.630301Z",
     "start_time": "2024-06-04T21:13:10.079292Z"
    }
   },
   "cell_type": "code",
   "source": "",
   "id": "b86847631ee0042b",
   "outputs": [
    {
     "ename": "KeyError",
     "evalue": "\"None of [MultiIndex([('Acura',  1, 38170),\\n            ('Acura',  2, 22753),\\n            ('Acura',  3,  8252),\\n            ('Acura',  3, 33835),\\n            ('Acura',  3, 34049),\\n            ('Acura',  4,  4911),\\n            ('Acura',  4,  9762),\\n            ('Acura',  4, 48232),\\n            ('Acura',  5,  8219),\\n            ('Acura',  5, 24406),\\n            ...\\n            ('Volvo', 13, 18261),\\n            ('Volvo', 13, 34704),\\n            ('Volvo', 14, 51796),\\n            ('Volvo', 15, 21358),\\n            ('Volvo', 16,  2954),\\n            ('Volvo', 16,  6928),\\n            ('Volvo', 19, 39376),\\n            ('Volvo', 19, 51593),\\n            ('Volvo', 20, 33765),\\n            ('Volvo', 29, 28930)],\\n           names=['brand', 'model_year', None], length=3443)] are in the [index]\"",
     "output_type": "error",
     "traceback": [
      "\u001B[0;31m---------------------------------------------------------------------------\u001B[0m",
      "\u001B[0;31mKeyError\u001B[0m                                  Traceback (most recent call last)",
      "Cell \u001B[0;32mIn[55], line 27\u001B[0m\n\u001B[1;32m     24\u001B[0m outlier_indices_train \u001B[38;5;241m=\u001B[39m outliers_train[outliers_train]\u001B[38;5;241m.\u001B[39mindex\n\u001B[1;32m     26\u001B[0m \u001B[38;5;66;03m# Display outliers\u001B[39;00m\n\u001B[0;32m---> 27\u001B[0m outliers_train_data \u001B[38;5;241m=\u001B[39m train_df\u001B[38;5;241m.\u001B[39mloc[outlier_indices_train]\n\u001B[1;32m     28\u001B[0m \u001B[38;5;28mprint\u001B[39m(\u001B[38;5;124m\"\u001B[39m\u001B[38;5;124mOutlier data in Train dataset:\u001B[39m\u001B[38;5;124m\"\u001B[39m)\n\u001B[1;32m     29\u001B[0m \u001B[38;5;28mprint\u001B[39m(outliers_train_data)\n",
      "File \u001B[0;32m/opt/anaconda3/lib/python3.11/site-packages/pandas/core/indexing.py:1153\u001B[0m, in \u001B[0;36m_LocationIndexer.__getitem__\u001B[0;34m(self, key)\u001B[0m\n\u001B[1;32m   1150\u001B[0m axis \u001B[38;5;241m=\u001B[39m \u001B[38;5;28mself\u001B[39m\u001B[38;5;241m.\u001B[39maxis \u001B[38;5;129;01mor\u001B[39;00m \u001B[38;5;241m0\u001B[39m\n\u001B[1;32m   1152\u001B[0m maybe_callable \u001B[38;5;241m=\u001B[39m com\u001B[38;5;241m.\u001B[39mapply_if_callable(key, \u001B[38;5;28mself\u001B[39m\u001B[38;5;241m.\u001B[39mobj)\n\u001B[0;32m-> 1153\u001B[0m \u001B[38;5;28;01mreturn\u001B[39;00m \u001B[38;5;28mself\u001B[39m\u001B[38;5;241m.\u001B[39m_getitem_axis(maybe_callable, axis\u001B[38;5;241m=\u001B[39maxis)\n",
      "File \u001B[0;32m/opt/anaconda3/lib/python3.11/site-packages/pandas/core/indexing.py:1382\u001B[0m, in \u001B[0;36m_LocIndexer._getitem_axis\u001B[0;34m(self, key, axis)\u001B[0m\n\u001B[1;32m   1379\u001B[0m     \u001B[38;5;28;01mif\u001B[39;00m \u001B[38;5;28mhasattr\u001B[39m(key, \u001B[38;5;124m\"\u001B[39m\u001B[38;5;124mndim\u001B[39m\u001B[38;5;124m\"\u001B[39m) \u001B[38;5;129;01mand\u001B[39;00m key\u001B[38;5;241m.\u001B[39mndim \u001B[38;5;241m>\u001B[39m \u001B[38;5;241m1\u001B[39m:\n\u001B[1;32m   1380\u001B[0m         \u001B[38;5;28;01mraise\u001B[39;00m \u001B[38;5;167;01mValueError\u001B[39;00m(\u001B[38;5;124m\"\u001B[39m\u001B[38;5;124mCannot index with multidimensional key\u001B[39m\u001B[38;5;124m\"\u001B[39m)\n\u001B[0;32m-> 1382\u001B[0m     \u001B[38;5;28;01mreturn\u001B[39;00m \u001B[38;5;28mself\u001B[39m\u001B[38;5;241m.\u001B[39m_getitem_iterable(key, axis\u001B[38;5;241m=\u001B[39maxis)\n\u001B[1;32m   1384\u001B[0m \u001B[38;5;66;03m# nested tuple slicing\u001B[39;00m\n\u001B[1;32m   1385\u001B[0m \u001B[38;5;28;01mif\u001B[39;00m is_nested_tuple(key, labels):\n",
      "File \u001B[0;32m/opt/anaconda3/lib/python3.11/site-packages/pandas/core/indexing.py:1322\u001B[0m, in \u001B[0;36m_LocIndexer._getitem_iterable\u001B[0;34m(self, key, axis)\u001B[0m\n\u001B[1;32m   1319\u001B[0m \u001B[38;5;28mself\u001B[39m\u001B[38;5;241m.\u001B[39m_validate_key(key, axis)\n\u001B[1;32m   1321\u001B[0m \u001B[38;5;66;03m# A collection of keys\u001B[39;00m\n\u001B[0;32m-> 1322\u001B[0m keyarr, indexer \u001B[38;5;241m=\u001B[39m \u001B[38;5;28mself\u001B[39m\u001B[38;5;241m.\u001B[39m_get_listlike_indexer(key, axis)\n\u001B[1;32m   1323\u001B[0m \u001B[38;5;28;01mreturn\u001B[39;00m \u001B[38;5;28mself\u001B[39m\u001B[38;5;241m.\u001B[39mobj\u001B[38;5;241m.\u001B[39m_reindex_with_indexers(\n\u001B[1;32m   1324\u001B[0m     {axis: [keyarr, indexer]}, copy\u001B[38;5;241m=\u001B[39m\u001B[38;5;28;01mTrue\u001B[39;00m, allow_dups\u001B[38;5;241m=\u001B[39m\u001B[38;5;28;01mTrue\u001B[39;00m\n\u001B[1;32m   1325\u001B[0m )\n",
      "File \u001B[0;32m/opt/anaconda3/lib/python3.11/site-packages/pandas/core/indexing.py:1520\u001B[0m, in \u001B[0;36m_LocIndexer._get_listlike_indexer\u001B[0;34m(self, key, axis)\u001B[0m\n\u001B[1;32m   1517\u001B[0m ax \u001B[38;5;241m=\u001B[39m \u001B[38;5;28mself\u001B[39m\u001B[38;5;241m.\u001B[39mobj\u001B[38;5;241m.\u001B[39m_get_axis(axis)\n\u001B[1;32m   1518\u001B[0m axis_name \u001B[38;5;241m=\u001B[39m \u001B[38;5;28mself\u001B[39m\u001B[38;5;241m.\u001B[39mobj\u001B[38;5;241m.\u001B[39m_get_axis_name(axis)\n\u001B[0;32m-> 1520\u001B[0m keyarr, indexer \u001B[38;5;241m=\u001B[39m ax\u001B[38;5;241m.\u001B[39m_get_indexer_strict(key, axis_name)\n\u001B[1;32m   1522\u001B[0m \u001B[38;5;28;01mreturn\u001B[39;00m keyarr, indexer\n",
      "File \u001B[0;32m/opt/anaconda3/lib/python3.11/site-packages/pandas/core/indexes/base.py:6115\u001B[0m, in \u001B[0;36mIndex._get_indexer_strict\u001B[0;34m(self, key, axis_name)\u001B[0m\n\u001B[1;32m   6112\u001B[0m \u001B[38;5;28;01melse\u001B[39;00m:\n\u001B[1;32m   6113\u001B[0m     keyarr, indexer, new_indexer \u001B[38;5;241m=\u001B[39m \u001B[38;5;28mself\u001B[39m\u001B[38;5;241m.\u001B[39m_reindex_non_unique(keyarr)\n\u001B[0;32m-> 6115\u001B[0m \u001B[38;5;28mself\u001B[39m\u001B[38;5;241m.\u001B[39m_raise_if_missing(keyarr, indexer, axis_name)\n\u001B[1;32m   6117\u001B[0m keyarr \u001B[38;5;241m=\u001B[39m \u001B[38;5;28mself\u001B[39m\u001B[38;5;241m.\u001B[39mtake(indexer)\n\u001B[1;32m   6118\u001B[0m \u001B[38;5;28;01mif\u001B[39;00m \u001B[38;5;28misinstance\u001B[39m(key, Index):\n\u001B[1;32m   6119\u001B[0m     \u001B[38;5;66;03m# GH 42790 - Preserve name from an Index\u001B[39;00m\n",
      "File \u001B[0;32m/opt/anaconda3/lib/python3.11/site-packages/pandas/core/indexes/base.py:6176\u001B[0m, in \u001B[0;36mIndex._raise_if_missing\u001B[0;34m(self, key, indexer, axis_name)\u001B[0m\n\u001B[1;32m   6174\u001B[0m     \u001B[38;5;28;01mif\u001B[39;00m use_interval_msg:\n\u001B[1;32m   6175\u001B[0m         key \u001B[38;5;241m=\u001B[39m \u001B[38;5;28mlist\u001B[39m(key)\n\u001B[0;32m-> 6176\u001B[0m     \u001B[38;5;28;01mraise\u001B[39;00m \u001B[38;5;167;01mKeyError\u001B[39;00m(\u001B[38;5;124mf\u001B[39m\u001B[38;5;124m\"\u001B[39m\u001B[38;5;124mNone of [\u001B[39m\u001B[38;5;132;01m{\u001B[39;00mkey\u001B[38;5;132;01m}\u001B[39;00m\u001B[38;5;124m] are in the [\u001B[39m\u001B[38;5;132;01m{\u001B[39;00maxis_name\u001B[38;5;132;01m}\u001B[39;00m\u001B[38;5;124m]\u001B[39m\u001B[38;5;124m\"\u001B[39m)\n\u001B[1;32m   6178\u001B[0m not_found \u001B[38;5;241m=\u001B[39m \u001B[38;5;28mlist\u001B[39m(ensure_index(key)[missing_mask\u001B[38;5;241m.\u001B[39mnonzero()[\u001B[38;5;241m0\u001B[39m]]\u001B[38;5;241m.\u001B[39munique())\n\u001B[1;32m   6179\u001B[0m \u001B[38;5;28;01mraise\u001B[39;00m \u001B[38;5;167;01mKeyError\u001B[39;00m(\u001B[38;5;124mf\u001B[39m\u001B[38;5;124m\"\u001B[39m\u001B[38;5;132;01m{\u001B[39;00mnot_found\u001B[38;5;132;01m}\u001B[39;00m\u001B[38;5;124m not in index\u001B[39m\u001B[38;5;124m\"\u001B[39m)\n",
      "\u001B[0;31mKeyError\u001B[0m: \"None of [MultiIndex([('Acura',  1, 38170),\\n            ('Acura',  2, 22753),\\n            ('Acura',  3,  8252),\\n            ('Acura',  3, 33835),\\n            ('Acura',  3, 34049),\\n            ('Acura',  4,  4911),\\n            ('Acura',  4,  9762),\\n            ('Acura',  4, 48232),\\n            ('Acura',  5,  8219),\\n            ('Acura',  5, 24406),\\n            ...\\n            ('Volvo', 13, 18261),\\n            ('Volvo', 13, 34704),\\n            ('Volvo', 14, 51796),\\n            ('Volvo', 15, 21358),\\n            ('Volvo', 16,  2954),\\n            ('Volvo', 16,  6928),\\n            ('Volvo', 19, 39376),\\n            ('Volvo', 19, 51593),\\n            ('Volvo', 20, 33765),\\n            ('Volvo', 29, 28930)],\\n           names=['brand', 'model_year', None], length=3443)] are in the [index]\""
     ]
    }
   ],
   "execution_count": 55
  },
  {
   "metadata": {},
   "cell_type": "code",
   "outputs": [],
   "execution_count": null,
   "source": "",
   "id": "e01125ff8898b300"
  }
 ],
 "metadata": {
  "kernelspec": {
   "display_name": "Python 3",
   "language": "python",
   "name": "python3"
  },
  "language_info": {
   "codemirror_mode": {
    "name": "ipython",
    "version": 2
   },
   "file_extension": ".py",
   "mimetype": "text/x-python",
   "name": "python",
   "nbconvert_exporter": "python",
   "pygments_lexer": "ipython2",
   "version": "2.7.6"
  }
 },
 "nbformat": 4,
 "nbformat_minor": 5
}
