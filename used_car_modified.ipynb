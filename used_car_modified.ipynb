{
 "cells": [
  {
   "metadata": {},
   "cell_type": "markdown",
   "source": "# Importing Libraries and data",
   "id": "b330b24d15857601"
  },
  {
   "cell_type": "code",
   "id": "initial_id",
   "metadata": {
    "collapsed": true,
    "ExecuteTime": {
     "end_time": "2024-06-05T21:37:08.045066Z",
     "start_time": "2024-06-05T21:37:07.924485Z"
    }
   },
   "source": [
    "import pandas as pd\n",
    "\n",
    "try:\n",
    "    train_df = pd.read_csv('/Users/donglinxiong/Documents/i-drive/Desktop/kagglex-cohort4/train.csv')\n",
    "    test_df = pd.read_csv(\"/Users/donglinxiong/Documents/i-drive/Desktop/kagglex-cohort4/test.csv\")\n",
    "\n",
    "    print(\"Training Data Columns:\", train_df.columns)\n",
    "    print(\"Test Data Columns:\", test_df.columns)\n",
    "except Exception as e:\n",
    "    print(f\"Error reading files: {e}\")\n"
   ],
   "outputs": [
    {
     "name": "stdout",
     "output_type": "stream",
     "text": [
      "Training Data Columns: Index(['id', 'brand', 'model', 'model_year', 'milage', 'fuel_type', 'engine',\n",
      "       'transmission', 'ext_col', 'int_col', 'accident', 'clean_title',\n",
      "       'price'],\n",
      "      dtype='object')\n",
      "Test Data Columns: Index(['id', 'brand', 'model', 'model_year', 'milage', 'fuel_type', 'engine',\n",
      "       'transmission', 'ext_col', 'int_col', 'accident', 'clean_title'],\n",
      "      dtype='object')\n"
     ]
    }
   ],
   "execution_count": 85
  },
  {
   "metadata": {},
   "cell_type": "markdown",
   "source": "#Learning about the data",
   "id": "dec4ad626d0b1aa5"
  },
  {
   "cell_type": "code",
   "id": "4f0c54017c8ce926",
   "metadata": {
    "ExecuteTime": {
     "end_time": "2024-06-05T21:37:28.312986Z",
     "start_time": "2024-06-05T21:37:28.232333Z"
    }
   },
   "source": [
    "def get_dataset_summary(df):\n",
    "    summary = {\n",
    "        'Number of Rows': df.shape[0],\n",
    "        'Number of Columns': df.shape[1],\n",
    "        'Missing Values': df.isnull().sum().sum(),\n",
    "        'Duplicates': df.duplicated().sum(),\n",
    "        'Memory Usage (bytes)': df.memory_usage().sum(),\n",
    "        'Unique Values': df.nunique().to_dict()\n",
    "    }\n",
    "    return summary\n",
    "\n",
    "\n",
    "try:\n",
    "    train_summary = get_dataset_summary(train_df)\n",
    "    test_summary = get_dataset_summary(test_df)\n",
    "\n",
    "    summary_df = pd.DataFrame([train_summary, test_summary], index=['train', 'test'])\n",
    "\n",
    "    print(\"Dataset Summary:\\n\", summary_df)\n",
    "except Exception as e:\n",
    "    print(f\"Error generating summary: {e}\")\n"
   ],
   "outputs": [
    {
     "name": "stdout",
     "output_type": "stream",
     "text": [
      "Dataset Summary:\n",
      "        Number of Rows  Number of Columns  Missing Values  Duplicates  \\\n",
      "train           54273                 13            1722           0   \n",
      "test            36183                 12            1158           0   \n",
      "\n",
      "       Memory Usage (bytes)                                      Unique Values  \n",
      "train               5644524  {'id': 54273, 'brand': 53, 'model': 1827, 'mod...  \n",
      "test                3473700  {'id': 36183, 'brand': 53, 'model': 1791, 'mod...  \n"
     ]
    }
   ],
   "execution_count": 86
  },
  {
   "metadata": {},
   "cell_type": "markdown",
   "source": "# Data Cleaning ",
   "id": "26bff2162aaffc8b"
  },
  {
   "metadata": {},
   "cell_type": "markdown",
   "source": "## locate missing value columns",
   "id": "454994a281e5719b"
  },
  {
   "metadata": {
    "ExecuteTime": {
     "end_time": "2024-06-05T22:15:33.005362Z",
     "start_time": "2024-06-05T22:15:32.958462Z"
    }
   },
   "cell_type": "code",
   "source": [
    "# Check for missing values in train_df\n",
    "missing_train = train_df.isnull().sum()\n",
    "columns_with_missing_train = missing_train[missing_train > 0].index.tolist()\n",
    "print(\"Columns with missing values in train_df:\", columns_with_missing_train)\n",
    "\n",
    "# Check for missing values in test_df\n",
    "missing_test = test_df.isnull().sum()\n",
    "columns_with_missing_test = missing_test[missing_test > 0].index.tolist()\n",
    "print(\"Columns with missing values in test_df:\", columns_with_missing_test)\n"
   ],
   "id": "d971ec14739b362e",
   "outputs": [
    {
     "name": "stdout",
     "output_type": "stream",
     "text": [
      "Columns with missing values in train_df: ['fuel_type', 'engine', 'transmission', 'ext_col', 'int_col']\n",
      "Columns with missing values in test_df: ['fuel_type', 'engine', 'transmission', 'ext_col', 'int_col']\n"
     ]
    }
   ],
   "execution_count": 87
  },
  {
   "metadata": {},
   "cell_type": "markdown",
   "source": "## handle missing values \n",
   "id": "18c8adf02fc11b42"
  },
  {
   "metadata": {
    "ExecuteTime": {
     "end_time": "2024-06-05T22:21:21.562999Z",
     "start_time": "2024-06-05T22:21:21.480059Z"
    }
   },
   "cell_type": "code",
   "source": [
    "# Fill missing values in train_df\n",
    "train_df.ffill(inplace=True)  # Fill forward\n",
    "train_df.bfill(inplace=True)  # Fill backward if there are still NaNs left\n",
    "\n",
    "# Fill missing values in test_df\n",
    "test_df.ffill(inplace=True)  # Fill forward\n",
    "test_df.bfill(inplace=True)  # Fill backward if there are still NaNs left\n"
   ],
   "id": "d949cd45fbcf1306",
   "outputs": [],
   "execution_count": 90
  },
  {
   "metadata": {
    "ExecuteTime": {
     "end_time": "2024-06-05T22:23:11.730647Z",
     "start_time": "2024-06-05T22:23:11.708678Z"
    }
   },
   "cell_type": "code",
   "source": [
    "# Verify if all missing values are filled in train_df\n",
    "missing_train = train_df.isnull().sum().sum()\n",
    "print(\"Total missing values in train_df after filling:\", missing_train)\n",
    "\n",
    "# Verify if all missing values are filled in test_df\n",
    "missing_test = test_df.isnull().sum().sum()\n",
    "print(\"Total missing values in test_df after filling:\", missing_test)\n"
   ],
   "id": "7a43bd5047504bc6",
   "outputs": [
    {
     "name": "stdout",
     "output_type": "stream",
     "text": [
      "Total missing values in train_df after filling: 0\n",
      "Total missing values in test_df after filling: 0\n"
     ]
    }
   ],
   "execution_count": 93
  },
  {
   "metadata": {},
   "cell_type": "markdown",
   "source": "## Handling columns (remove and add columns)",
   "id": "b06294b5c8e2841b"
  },
  {
   "metadata": {
    "ExecuteTime": {
     "end_time": "2024-06-05T22:35:03.062455Z",
     "start_time": "2024-06-05T22:35:03.034396Z"
    }
   },
   "cell_type": "code",
   "source": [
    "# Remove unwanted columns from train_df\n",
    "train_df.drop(columns=['ext_col', 'int_col', 'clean_title'], inplace=True)\n",
    "\n",
    "# Remove unwanted columns from test_df\n",
    "test_df.drop(columns=['ext_col', 'int_col', 'clean_title'], inplace=True)\n"
   ],
   "id": "2522b13716419024",
   "outputs": [
    {
     "ename": "KeyError",
     "evalue": "\"['ext_col', 'int_col', 'clean_title'] not found in axis\"",
     "output_type": "error",
     "traceback": [
      "\u001B[0;31m---------------------------------------------------------------------------\u001B[0m",
      "\u001B[0;31mKeyError\u001B[0m                                  Traceback (most recent call last)",
      "Cell \u001B[0;32mIn[96], line 2\u001B[0m\n\u001B[1;32m      1\u001B[0m \u001B[38;5;66;03m# Remove unwanted columns from train_df\u001B[39;00m\n\u001B[0;32m----> 2\u001B[0m train_df\u001B[38;5;241m.\u001B[39mdrop(columns\u001B[38;5;241m=\u001B[39m[\u001B[38;5;124m'\u001B[39m\u001B[38;5;124mext_col\u001B[39m\u001B[38;5;124m'\u001B[39m, \u001B[38;5;124m'\u001B[39m\u001B[38;5;124mint_col\u001B[39m\u001B[38;5;124m'\u001B[39m, \u001B[38;5;124m'\u001B[39m\u001B[38;5;124mclean_title\u001B[39m\u001B[38;5;124m'\u001B[39m], inplace\u001B[38;5;241m=\u001B[39m\u001B[38;5;28;01mTrue\u001B[39;00m)\n\u001B[1;32m      4\u001B[0m \u001B[38;5;66;03m# Remove unwanted columns from test_df\u001B[39;00m\n\u001B[1;32m      5\u001B[0m test_df\u001B[38;5;241m.\u001B[39mdrop(columns\u001B[38;5;241m=\u001B[39m[\u001B[38;5;124m'\u001B[39m\u001B[38;5;124mext_col\u001B[39m\u001B[38;5;124m'\u001B[39m, \u001B[38;5;124m'\u001B[39m\u001B[38;5;124mint_col\u001B[39m\u001B[38;5;124m'\u001B[39m, \u001B[38;5;124m'\u001B[39m\u001B[38;5;124mclean_title\u001B[39m\u001B[38;5;124m'\u001B[39m], inplace\u001B[38;5;241m=\u001B[39m\u001B[38;5;28;01mTrue\u001B[39;00m)\n",
      "File \u001B[0;32m/opt/anaconda3/lib/python3.11/site-packages/pandas/core/frame.py:5344\u001B[0m, in \u001B[0;36mDataFrame.drop\u001B[0;34m(self, labels, axis, index, columns, level, inplace, errors)\u001B[0m\n\u001B[1;32m   5196\u001B[0m \u001B[38;5;28;01mdef\u001B[39;00m \u001B[38;5;21mdrop\u001B[39m(\n\u001B[1;32m   5197\u001B[0m     \u001B[38;5;28mself\u001B[39m,\n\u001B[1;32m   5198\u001B[0m     labels: IndexLabel \u001B[38;5;241m|\u001B[39m \u001B[38;5;28;01mNone\u001B[39;00m \u001B[38;5;241m=\u001B[39m \u001B[38;5;28;01mNone\u001B[39;00m,\n\u001B[0;32m   (...)\u001B[0m\n\u001B[1;32m   5205\u001B[0m     errors: IgnoreRaise \u001B[38;5;241m=\u001B[39m \u001B[38;5;124m\"\u001B[39m\u001B[38;5;124mraise\u001B[39m\u001B[38;5;124m\"\u001B[39m,\n\u001B[1;32m   5206\u001B[0m ) \u001B[38;5;241m-\u001B[39m\u001B[38;5;241m>\u001B[39m DataFrame \u001B[38;5;241m|\u001B[39m \u001B[38;5;28;01mNone\u001B[39;00m:\n\u001B[1;32m   5207\u001B[0m \u001B[38;5;250m    \u001B[39m\u001B[38;5;124;03m\"\"\"\u001B[39;00m\n\u001B[1;32m   5208\u001B[0m \u001B[38;5;124;03m    Drop specified labels from rows or columns.\u001B[39;00m\n\u001B[1;32m   5209\u001B[0m \n\u001B[0;32m   (...)\u001B[0m\n\u001B[1;32m   5342\u001B[0m \u001B[38;5;124;03m            weight  1.0     0.8\u001B[39;00m\n\u001B[1;32m   5343\u001B[0m \u001B[38;5;124;03m    \"\"\"\u001B[39;00m\n\u001B[0;32m-> 5344\u001B[0m     \u001B[38;5;28;01mreturn\u001B[39;00m \u001B[38;5;28msuper\u001B[39m()\u001B[38;5;241m.\u001B[39mdrop(\n\u001B[1;32m   5345\u001B[0m         labels\u001B[38;5;241m=\u001B[39mlabels,\n\u001B[1;32m   5346\u001B[0m         axis\u001B[38;5;241m=\u001B[39maxis,\n\u001B[1;32m   5347\u001B[0m         index\u001B[38;5;241m=\u001B[39mindex,\n\u001B[1;32m   5348\u001B[0m         columns\u001B[38;5;241m=\u001B[39mcolumns,\n\u001B[1;32m   5349\u001B[0m         level\u001B[38;5;241m=\u001B[39mlevel,\n\u001B[1;32m   5350\u001B[0m         inplace\u001B[38;5;241m=\u001B[39minplace,\n\u001B[1;32m   5351\u001B[0m         errors\u001B[38;5;241m=\u001B[39merrors,\n\u001B[1;32m   5352\u001B[0m     )\n",
      "File \u001B[0;32m/opt/anaconda3/lib/python3.11/site-packages/pandas/core/generic.py:4711\u001B[0m, in \u001B[0;36mNDFrame.drop\u001B[0;34m(self, labels, axis, index, columns, level, inplace, errors)\u001B[0m\n\u001B[1;32m   4709\u001B[0m \u001B[38;5;28;01mfor\u001B[39;00m axis, labels \u001B[38;5;129;01min\u001B[39;00m axes\u001B[38;5;241m.\u001B[39mitems():\n\u001B[1;32m   4710\u001B[0m     \u001B[38;5;28;01mif\u001B[39;00m labels \u001B[38;5;129;01mis\u001B[39;00m \u001B[38;5;129;01mnot\u001B[39;00m \u001B[38;5;28;01mNone\u001B[39;00m:\n\u001B[0;32m-> 4711\u001B[0m         obj \u001B[38;5;241m=\u001B[39m obj\u001B[38;5;241m.\u001B[39m_drop_axis(labels, axis, level\u001B[38;5;241m=\u001B[39mlevel, errors\u001B[38;5;241m=\u001B[39merrors)\n\u001B[1;32m   4713\u001B[0m \u001B[38;5;28;01mif\u001B[39;00m inplace:\n\u001B[1;32m   4714\u001B[0m     \u001B[38;5;28mself\u001B[39m\u001B[38;5;241m.\u001B[39m_update_inplace(obj)\n",
      "File \u001B[0;32m/opt/anaconda3/lib/python3.11/site-packages/pandas/core/generic.py:4753\u001B[0m, in \u001B[0;36mNDFrame._drop_axis\u001B[0;34m(self, labels, axis, level, errors, only_slice)\u001B[0m\n\u001B[1;32m   4751\u001B[0m         new_axis \u001B[38;5;241m=\u001B[39m axis\u001B[38;5;241m.\u001B[39mdrop(labels, level\u001B[38;5;241m=\u001B[39mlevel, errors\u001B[38;5;241m=\u001B[39merrors)\n\u001B[1;32m   4752\u001B[0m     \u001B[38;5;28;01melse\u001B[39;00m:\n\u001B[0;32m-> 4753\u001B[0m         new_axis \u001B[38;5;241m=\u001B[39m axis\u001B[38;5;241m.\u001B[39mdrop(labels, errors\u001B[38;5;241m=\u001B[39merrors)\n\u001B[1;32m   4754\u001B[0m     indexer \u001B[38;5;241m=\u001B[39m axis\u001B[38;5;241m.\u001B[39mget_indexer(new_axis)\n\u001B[1;32m   4756\u001B[0m \u001B[38;5;66;03m# Case for non-unique axis\u001B[39;00m\n\u001B[1;32m   4757\u001B[0m \u001B[38;5;28;01melse\u001B[39;00m:\n",
      "File \u001B[0;32m/opt/anaconda3/lib/python3.11/site-packages/pandas/core/indexes/base.py:7000\u001B[0m, in \u001B[0;36mIndex.drop\u001B[0;34m(self, labels, errors)\u001B[0m\n\u001B[1;32m   6998\u001B[0m \u001B[38;5;28;01mif\u001B[39;00m mask\u001B[38;5;241m.\u001B[39many():\n\u001B[1;32m   6999\u001B[0m     \u001B[38;5;28;01mif\u001B[39;00m errors \u001B[38;5;241m!=\u001B[39m \u001B[38;5;124m\"\u001B[39m\u001B[38;5;124mignore\u001B[39m\u001B[38;5;124m\"\u001B[39m:\n\u001B[0;32m-> 7000\u001B[0m         \u001B[38;5;28;01mraise\u001B[39;00m \u001B[38;5;167;01mKeyError\u001B[39;00m(\u001B[38;5;124mf\u001B[39m\u001B[38;5;124m\"\u001B[39m\u001B[38;5;132;01m{\u001B[39;00mlabels[mask]\u001B[38;5;241m.\u001B[39mtolist()\u001B[38;5;132;01m}\u001B[39;00m\u001B[38;5;124m not found in axis\u001B[39m\u001B[38;5;124m\"\u001B[39m)\n\u001B[1;32m   7001\u001B[0m     indexer \u001B[38;5;241m=\u001B[39m indexer[\u001B[38;5;241m~\u001B[39mmask]\n\u001B[1;32m   7002\u001B[0m \u001B[38;5;28;01mreturn\u001B[39;00m \u001B[38;5;28mself\u001B[39m\u001B[38;5;241m.\u001B[39mdelete(indexer)\n",
      "\u001B[0;31mKeyError\u001B[0m: \"['ext_col', 'int_col', 'clean_title'] not found in axis\""
     ]
    }
   ],
   "execution_count": 96
  },
  {
   "metadata": {
    "ExecuteTime": {
     "end_time": "2024-06-06T02:31:51.110644Z",
     "start_time": "2024-06-06T02:31:51.075100Z"
    }
   },
   "cell_type": "code",
   "source": [
    "# Add a new column to the Test_df dataset with a value of 0\n",
    "test_df['price'] = 0"
   ],
   "id": "2182fb7a524c26fe",
   "outputs": [],
   "execution_count": 99
  },
  {
   "metadata": {
    "ExecuteTime": {
     "end_time": "2024-06-06T02:33:15.774200Z",
     "start_time": "2024-06-06T02:33:15.768254Z"
    }
   },
   "cell_type": "code",
   "source": [
    "# Verify if the columns are removed from train_df\n",
    "print(\"Columns in train_df after removal:\", train_df.columns)\n",
    "print(\"Columns in test_df after removal:\", test_df.columns)"
   ],
   "id": "5c4a2e4a761deff0",
   "outputs": [
    {
     "name": "stdout",
     "output_type": "stream",
     "text": [
      "Columns in train_df after removal: Index(['id', 'brand', 'model', 'model_year', 'milage', 'fuel_type', 'engine',\n",
      "       'transmission', 'accident', 'price'],\n",
      "      dtype='object')\n",
      "Columns in test_df after removal: Index(['id', 'brand', 'model', 'model_year', 'milage', 'fuel_type', 'engine',\n",
      "       'transmission', 'accident', 'price'],\n",
      "      dtype='object')\n"
     ]
    }
   ],
   "execution_count": 101
  },
  {
   "metadata": {},
   "cell_type": "markdown",
   "source": "## Handling variables in columns equal features in train and test datasets\n",
   "id": "d6ac1dd2a4b3b7a5"
  },
  {
   "metadata": {
    "ExecuteTime": {
     "end_time": "2024-06-06T02:43:41.332666Z",
     "start_time": "2024-06-06T02:43:41.275582Z"
    }
   },
   "cell_type": "code",
   "source": [
    "\n",
    "print(\"This is a summary of the train dataset: \", get_dataset_summary(train_df))"
   ],
   "id": "a39c04668d752de7",
   "outputs": [
    {
     "name": "stdout",
     "output_type": "stream",
     "text": [
      "This is a summary of the train dataset:  {'Number of Rows': 54273, 'Number of Columns': 10, 'Missing Values': 0, 'Duplicates': 0, 'Memory Usage (bytes)': 4341972, 'Unique Values': {'id': 54273, 'brand': 53, 'model': 1827, 'model_year': 34, 'milage': 3212, 'fuel_type': 6, 'engine': 1060, 'transmission': 45, 'accident': 2, 'price': 1481}}\n"
     ]
    }
   ],
   "execution_count": 105
  },
  {
   "metadata": {
    "ExecuteTime": {
     "end_time": "2024-06-06T02:44:02.375932Z",
     "start_time": "2024-06-06T02:44:02.327800Z"
    }
   },
   "cell_type": "code",
   "source": "print(\"This is a summary of the test dataset: \", get_dataset_summary(test_df))\n",
   "id": "d8b6df2809b25ef",
   "outputs": [
    {
     "name": "stdout",
     "output_type": "stream",
     "text": [
      "This is a summary of the test dataset:  {'Number of Rows': 36183, 'Number of Columns': 10, 'Missing Values': 0, 'Duplicates': 0, 'Memory Usage (bytes)': 2894772, 'Unique Values': {'id': 36183, 'brand': 53, 'model': 1791, 'model_year': 34, 'milage': 2973, 'fuel_type': 6, 'engine': 1037, 'transmission': 43, 'accident': 2, 'price': 1}}\n"
     ]
    }
   ],
   "execution_count": 106
  },
  {
   "metadata": {
    "ExecuteTime": {
     "end_time": "2024-06-06T03:05:54.332135Z",
     "start_time": "2024-06-06T03:05:54.290525Z"
    }
   },
   "cell_type": "code",
   "source": [
    "import pandas as pd\n",
    "\n",
    "# Assuming train_df and test_df are your training and test dataframes\n",
    "\n",
    "# Identify unique categories in the test set\n",
    "missing_models = set(test_df['model']).difference(set(train_df['model']))\n",
    "missing_engines = set(test_df['engine']).difference(set(train_df['engine']))\n",
    "missing_transmissions = set(test_df['transmission']).difference(set(train_df['transmission']))\n",
    "\n",
    "# Create dummy rows for the missing categories\n",
    "dummy_rows = []\n",
    "for model in missing_models:\n",
    "    dummy_rows.append({'model': model, 'price': train_df['price'].mean()})\n",
    "for engine in missing_engines:\n",
    "    dummy_rows.append({'engine': engine, 'price': train_df['price'].mean()})\n",
    "for transmission in missing_transmissions:\n",
    "    dummy_rows.append({'transmission': transmission, 'price': train_df['price'].mean()})\n",
    "\n",
    "# Convert the list of dictionaries to a DataFrame\n",
    "dummy_df = pd.DataFrame(dummy_rows)\n",
    "\n",
    "# Append the dummy rows to the training data\n",
    "train_df = pd.concat([train_df, dummy_df], ignore_index=True)\n",
    "\n",
    "# Proceed with the model training\n"
   ],
   "id": "e2cbdbe9d46e17f5",
   "outputs": [],
   "execution_count": 107
  },
  {
   "metadata": {
    "ExecuteTime": {
     "end_time": "2024-06-06T03:47:04.232691Z",
     "start_time": "2024-06-06T03:47:04.089666Z"
    }
   },
   "cell_type": "code",
   "source": [
    "import pandas as pd\n",
    "from sklearn.preprocessing import LabelEncoder\n",
    "\n",
    "# Assuming train_df and test_df are your training and test dataframes\n",
    "\n",
    "# List of categorical columns to encode\n",
    "categorical_columns = ['brand', 'model', 'fuel_type', 'engine', 'transmission', 'accident']\n",
    "\n",
    "# Initialize the label encoder for each categorical column\n",
    "label_encoders = {column: LabelEncoder() for column in categorical_columns}\n",
    "\n",
    "# Combine train and test data to ensure consistent encoding\n",
    "combined_df = pd.concat([train_df, test_df], keys=['train', 'test'])\n",
    "\n",
    "# Apply label encoding to each categorical column\n",
    "for column in categorical_columns:\n",
    "    combined_df[column] = label_encoders[column].fit_transform(combined_df[column])\n",
    "\n",
    "# Separate the combined dataframe back into train and test dataframes\n",
    "train_df = combined_df.xs('train').copy()\n",
    "test_df = combined_df.xs('test').copy()\n",
    "\n",
    "# Replace 'model_year' with 'model_age' in both train and test data\n",
    "train_df['model_age'] = 2024 - train_df['model_year']\n",
    "test_df['model_age'] = 2024 - test_df['model_year']\n",
    "\n",
    "# Drop the 'model_year' column\n",
    "train_df = train_df.drop(columns=['model_year'])\n",
    "test_df = test_df.drop(columns=['model_year'])\n",
    "\n",
    "# Ensure that the target variable (price) is not encoded in the test data\n",
    "# Assuming 'price' is the target variable in the training data and needs to be excluded from the test data\n",
    "#test_df.loc[:, 'price'] = None  # Placeholder, as 'price' in test data should be unknown or not present\n",
    "\n",
    "# Drop the target variable from the test data if it was added as a placeholder\n",
    "#test_df = test_df.drop(columns=['price'])\n",
    "\n",
    "# Now train_df and test_df have the same categorical variables encoded consistently\n",
    "train_df['price/milage'] = train_df['price'] / train_df['milage']\n",
    "train_df['price/year'] = train_df['price'] / train_df['model_year']\n",
    "\n",
    "test_df['price/milage'] = 0\n",
    "test_df['price/year'] = 0\n",
    "test_df['price'] = 0\n",
    "\n",
    "# Saving the processed train and test DataFrames to CSV files\n",
    "train_df.to_csv('/Users/donglinxiong/Documents/i-drive/Desktop/kagglex-cohort4/Tuesday/clean_train_with_ratios.csv',\n",
    "                index=False)\n",
    "test_df.to_csv('/Users/donglinxiong/Documents/i-drive/Desktop/kagglex-cohort4/Tuesday/clean_test_with_ratios.csv',\n",
    "               index=False)\n",
    "\n",
    "# Display the cleaned DataFrames\n",
    "print(\"Clean Train DataFrame with Ratios:\")\n",
    "print(train_df.head())\n",
    "\n",
    "print(\"\\nClean Test DataFrame with Ratios:\")\n",
    "print(test_df.head())"
   ],
   "id": "1c8bdea070ca8f3a",
   "outputs": [
    {
     "name": "stderr",
     "output_type": "stream",
     "text": [
      "/var/folders/s5/khp0yllx5vzfw75znst21wc80000gn/T/ipykernel_1859/2434165347.py:13: FutureWarning: The behavior of DataFrame concatenation with empty or all-NA entries is deprecated. In a future version, this will no longer exclude empty or all-NA columns when determining the result dtypes. To retain the old behavior, exclude the relevant entries before the concat operation.\n",
      "  combined_df = pd.concat([train_df, test_df], keys=['train', 'test'])\n"
     ]
    },
    {
     "ename": "KeyError",
     "evalue": "'model_year'",
     "output_type": "error",
     "traceback": [
      "\u001B[0;31m---------------------------------------------------------------------------\u001B[0m",
      "\u001B[0;31mKeyError\u001B[0m                                  Traceback (most recent call last)",
      "File \u001B[0;32m/opt/anaconda3/lib/python3.11/site-packages/pandas/core/indexes/base.py:3791\u001B[0m, in \u001B[0;36mIndex.get_loc\u001B[0;34m(self, key)\u001B[0m\n\u001B[1;32m   3790\u001B[0m \u001B[38;5;28;01mtry\u001B[39;00m:\n\u001B[0;32m-> 3791\u001B[0m     \u001B[38;5;28;01mreturn\u001B[39;00m \u001B[38;5;28mself\u001B[39m\u001B[38;5;241m.\u001B[39m_engine\u001B[38;5;241m.\u001B[39mget_loc(casted_key)\n\u001B[1;32m   3792\u001B[0m \u001B[38;5;28;01mexcept\u001B[39;00m \u001B[38;5;167;01mKeyError\u001B[39;00m \u001B[38;5;28;01mas\u001B[39;00m err:\n",
      "File \u001B[0;32mindex.pyx:152\u001B[0m, in \u001B[0;36mpandas._libs.index.IndexEngine.get_loc\u001B[0;34m()\u001B[0m\n",
      "File \u001B[0;32mindex.pyx:181\u001B[0m, in \u001B[0;36mpandas._libs.index.IndexEngine.get_loc\u001B[0;34m()\u001B[0m\n",
      "File \u001B[0;32mpandas/_libs/hashtable_class_helper.pxi:7080\u001B[0m, in \u001B[0;36mpandas._libs.hashtable.PyObjectHashTable.get_item\u001B[0;34m()\u001B[0m\n",
      "File \u001B[0;32mpandas/_libs/hashtable_class_helper.pxi:7088\u001B[0m, in \u001B[0;36mpandas._libs.hashtable.PyObjectHashTable.get_item\u001B[0;34m()\u001B[0m\n",
      "\u001B[0;31mKeyError\u001B[0m: 'model_year'",
      "\nThe above exception was the direct cause of the following exception:\n",
      "\u001B[0;31mKeyError\u001B[0m                                  Traceback (most recent call last)",
      "Cell \u001B[0;32mIn[115], line 40\u001B[0m\n\u001B[1;32m     31\u001B[0m \u001B[38;5;66;03m# Ensure that the target variable (price) is not encoded in the test data\u001B[39;00m\n\u001B[1;32m     32\u001B[0m \u001B[38;5;66;03m# Assuming 'price' is the target variable in the training data and needs to be excluded from the test data\u001B[39;00m\n\u001B[1;32m     33\u001B[0m \u001B[38;5;66;03m#test_df.loc[:, 'price'] = None  # Placeholder, as 'price' in test data should be unknown or not present\u001B[39;00m\n\u001B[0;32m   (...)\u001B[0m\n\u001B[1;32m     37\u001B[0m \n\u001B[1;32m     38\u001B[0m \u001B[38;5;66;03m# Now train_df and test_df have the same categorical variables encoded consistently\u001B[39;00m\n\u001B[1;32m     39\u001B[0m train_df[\u001B[38;5;124m'\u001B[39m\u001B[38;5;124mprice/milage\u001B[39m\u001B[38;5;124m'\u001B[39m] \u001B[38;5;241m=\u001B[39m train_df[\u001B[38;5;124m'\u001B[39m\u001B[38;5;124mprice\u001B[39m\u001B[38;5;124m'\u001B[39m] \u001B[38;5;241m/\u001B[39m train_df[\u001B[38;5;124m'\u001B[39m\u001B[38;5;124mmilage\u001B[39m\u001B[38;5;124m'\u001B[39m]\n\u001B[0;32m---> 40\u001B[0m train_df[\u001B[38;5;124m'\u001B[39m\u001B[38;5;124mprice/year\u001B[39m\u001B[38;5;124m'\u001B[39m] \u001B[38;5;241m=\u001B[39m train_df[\u001B[38;5;124m'\u001B[39m\u001B[38;5;124mprice\u001B[39m\u001B[38;5;124m'\u001B[39m]\u001B[38;5;241m/\u001B[39mtrain_df[\u001B[38;5;124m'\u001B[39m\u001B[38;5;124mmodel_year\u001B[39m\u001B[38;5;124m'\u001B[39m]\n\u001B[1;32m     42\u001B[0m test_df[\u001B[38;5;124m'\u001B[39m\u001B[38;5;124mprice/milage\u001B[39m\u001B[38;5;124m'\u001B[39m] \u001B[38;5;241m=\u001B[39m\u001B[38;5;241m0\u001B[39m\n\u001B[1;32m     43\u001B[0m test_df[\u001B[38;5;124m'\u001B[39m\u001B[38;5;124mprice/year\u001B[39m\u001B[38;5;124m'\u001B[39m] \u001B[38;5;241m=\u001B[39m\u001B[38;5;241m0\u001B[39m\n",
      "File \u001B[0;32m/opt/anaconda3/lib/python3.11/site-packages/pandas/core/frame.py:3893\u001B[0m, in \u001B[0;36mDataFrame.__getitem__\u001B[0;34m(self, key)\u001B[0m\n\u001B[1;32m   3891\u001B[0m \u001B[38;5;28;01mif\u001B[39;00m \u001B[38;5;28mself\u001B[39m\u001B[38;5;241m.\u001B[39mcolumns\u001B[38;5;241m.\u001B[39mnlevels \u001B[38;5;241m>\u001B[39m \u001B[38;5;241m1\u001B[39m:\n\u001B[1;32m   3892\u001B[0m     \u001B[38;5;28;01mreturn\u001B[39;00m \u001B[38;5;28mself\u001B[39m\u001B[38;5;241m.\u001B[39m_getitem_multilevel(key)\n\u001B[0;32m-> 3893\u001B[0m indexer \u001B[38;5;241m=\u001B[39m \u001B[38;5;28mself\u001B[39m\u001B[38;5;241m.\u001B[39mcolumns\u001B[38;5;241m.\u001B[39mget_loc(key)\n\u001B[1;32m   3894\u001B[0m \u001B[38;5;28;01mif\u001B[39;00m is_integer(indexer):\n\u001B[1;32m   3895\u001B[0m     indexer \u001B[38;5;241m=\u001B[39m [indexer]\n",
      "File \u001B[0;32m/opt/anaconda3/lib/python3.11/site-packages/pandas/core/indexes/base.py:3798\u001B[0m, in \u001B[0;36mIndex.get_loc\u001B[0;34m(self, key)\u001B[0m\n\u001B[1;32m   3793\u001B[0m     \u001B[38;5;28;01mif\u001B[39;00m \u001B[38;5;28misinstance\u001B[39m(casted_key, \u001B[38;5;28mslice\u001B[39m) \u001B[38;5;129;01mor\u001B[39;00m (\n\u001B[1;32m   3794\u001B[0m         \u001B[38;5;28misinstance\u001B[39m(casted_key, abc\u001B[38;5;241m.\u001B[39mIterable)\n\u001B[1;32m   3795\u001B[0m         \u001B[38;5;129;01mand\u001B[39;00m \u001B[38;5;28many\u001B[39m(\u001B[38;5;28misinstance\u001B[39m(x, \u001B[38;5;28mslice\u001B[39m) \u001B[38;5;28;01mfor\u001B[39;00m x \u001B[38;5;129;01min\u001B[39;00m casted_key)\n\u001B[1;32m   3796\u001B[0m     ):\n\u001B[1;32m   3797\u001B[0m         \u001B[38;5;28;01mraise\u001B[39;00m InvalidIndexError(key)\n\u001B[0;32m-> 3798\u001B[0m     \u001B[38;5;28;01mraise\u001B[39;00m \u001B[38;5;167;01mKeyError\u001B[39;00m(key) \u001B[38;5;28;01mfrom\u001B[39;00m \u001B[38;5;21;01merr\u001B[39;00m\n\u001B[1;32m   3799\u001B[0m \u001B[38;5;28;01mexcept\u001B[39;00m \u001B[38;5;167;01mTypeError\u001B[39;00m:\n\u001B[1;32m   3800\u001B[0m     \u001B[38;5;66;03m# If we have a listlike key, _check_indexing_error will raise\u001B[39;00m\n\u001B[1;32m   3801\u001B[0m     \u001B[38;5;66;03m#  InvalidIndexError. Otherwise we fall through and re-raise\u001B[39;00m\n\u001B[1;32m   3802\u001B[0m     \u001B[38;5;66;03m#  the TypeError.\u001B[39;00m\n\u001B[1;32m   3803\u001B[0m     \u001B[38;5;28mself\u001B[39m\u001B[38;5;241m.\u001B[39m_check_indexing_error(key)\n",
      "\u001B[0;31mKeyError\u001B[0m: 'model_year'"
     ]
    }
   ],
   "execution_count": 115
  },
  {
   "metadata": {},
   "cell_type": "markdown",
   "source": "",
   "id": "ac14da692fcae457"
  },
  {
   "metadata": {},
   "cell_type": "markdown",
   "source": "## Calculate columns , mode_age, price/mileage, price/year",
   "id": "75119b42ba6a9c4b"
  },
  {
   "metadata": {},
   "cell_type": "markdown",
   "source": "## Identify and cap outliers in the price column each brand and year",
   "id": "d3fdd8d569627e76"
  },
  {
   "metadata": {},
   "cell_type": "markdown",
   "source": "## identify and cap outliers in mileage, price/year and price/mileage both dataset\n",
   "id": "fc21c10a28b2b7f2"
  },
  {
   "metadata": {},
   "cell_type": "markdown",
   "source": "## Label encoding of categorical columns into numerical columns\n",
   "id": "babb00a211f681cf"
  },
  {
   "metadata": {
    "ExecuteTime": {
     "end_time": "2024-06-06T21:41:40.141925Z",
     "start_time": "2024-06-06T21:41:39.938234Z"
    }
   },
   "cell_type": "code",
   "source": [
    "import pandas as pd\n",
    "\n",
    "# Load the datasets\n",
    "test_df = pd.read_csv('/Users/donglinxiong/Documents/i-drive/Desktop/kagglex-cohort4/Tuesday/test_cleaned.csv')\n",
    "train_df = pd.read_csv('/Users/donglinxiong/Documents/i-drive/Desktop/kagglex-cohort4/Tuesday/train_cleaned.csv')\n",
    "\n",
    "# Ensure all columns are numeric\n",
    "test_df = test_df.apply(pd.to_numeric, errors='coerce')\n",
    "train_df = train_df.apply(pd.to_numeric, errors='coerce')\n",
    "\n",
    "# Format the datasets as tables\n",
    "test_table = test_df\n",
    "train_table = train_df\n",
    "\n",
    "#save the test_table to a csv file name test_table.csv\n",
    "test_table.to_csv('/Users/donglinxiong/Documents/i-drive/Desktop/kagglex-cohort4/Tuesday/test_table.csv', index=False)\n",
    "#save the train_table to a csv file name train_table.csv\n",
    "train_table.to_csv('/Users/donglinxiong/Documents/i-drive/Desktop/kagglex-cohort4/Tuesday/train_table.csv', index=False)"
   ],
   "id": "5501cde95c5c8191",
   "outputs": [],
   "execution_count": 16
  },
  {
   "metadata": {
    "ExecuteTime": {
     "end_time": "2024-06-06T21:22:14.234724Z",
     "start_time": "2024-06-06T21:22:11.965621Z"
    }
   },
   "cell_type": "code",
   "source": [
    "# Identify outliers in the price, price/milage, price/model_age column for each brand and year\n",
    "\n",
    "# Group by brand and year and identify outliers in the price column\n",
    "outliers_price = train_table.groupby(['brand', 'model_age']).apply(\n",
    "    lambda x: x[(x['price'] < x['price'].quantile(0.25) - 1.5 * (x['price'].quantile(0.75) - x['price'].quantile(0.25))) |\n",
    "                (x['price'] > x['price'].quantile(0.75) + 1.5 * (x['price'].quantile(0.75) - x['price'].quantile(0.25)))])\n",
    "\n",
    "# Group by brand and year and identify outliers in the price/milage column\n",
    "outliers_price_milage = train_table.groupby(['brand', 'model_age']).apply(\n",
    "    lambda x: x[(x['price/milage'] < x['price/milage'].quantile(0.25) - 1.5 * (\n",
    "            x['price/milage'].quantile(0.75) - x['price/milage'].quantile(0.25))) |\n",
    "                (x['price/milage'] > x['price/milage'].quantile(0.75) + 1.5 * (\n",
    "                        x['price/milage'].quantile(0.75) - x['price/milage'].quantile(0.25)))])\n",
    "\n",
    "# Group by brand and year and identify outliers in the price/year column\n",
    "outliers_price_year = train_table.groupby(['brand', 'model_age']).apply(\n",
    "    lambda x: x[(x['price/model_age'] < x['price/model_age'].quantile(0.25) - 1.5 * (\n",
    "            x['price/model_age'].quantile(0.75) - x['price/model_age'].quantile(0.25))) |\n",
    "                (x['price/model_age'] > x['price/model_age'].quantile(0.75) + 1.5 * (\n",
    "                        x['price/model_age'].quantile(0.75) - x['price/model_age'].quantile(0.25)))])\n",
    "\n",
    "# Display the outliers\n",
    "print(outliers_price)\n",
    "print(outliers_price_milage)\n",
    "print(outliers_price_year)\n",
    "\n"
   ],
   "id": "b66ba701b2ee2cee",
   "outputs": [
    {
     "name": "stdout",
     "output_type": "stream",
     "text": [
      "                          id  brand  model  model_age  milage  fuel_type  \\\n",
      "brand model_age                                                            \n",
      "0     1         38170  38170      0   1613          1    5400          2   \n",
      "      2         22753  22753      0   1608          2    1067          2   \n",
      "      3         8252    8252      0   1273          3   10376          2   \n",
      "                33835  33835      0    864          3   31112          2   \n",
      "                34049  34049      0   1272          3    2353          2   \n",
      "...                      ...    ...    ...        ...     ...        ...   \n",
      "53    16        6928    6928     53   1786         16  170000          2   \n",
      "      19        39376  39376     53   1439         19  220000          2   \n",
      "                51593  51593     53   1439         19  257700          2   \n",
      "      20        33765  33765     53   1788         20  141485          2   \n",
      "      29        28930  28930     53    137         29  111000          1   \n",
      "\n",
      "                       engine  transmission  accident    price  price/milage  \\\n",
      "brand model_age                                                                \n",
      "0     1         38170     695             2         1   113990         21.11   \n",
      "      2         22753     243            35         1   145000        135.90   \n",
      "      3         8252      187             3         1    83900          8.09   \n",
      "                33835     197             3         0   417500         13.42   \n",
      "                34049     187             3         1  2954083       1255.45   \n",
      "...                       ...           ...       ...      ...           ...   \n",
      "53    16        6928      303            35         0    41000          0.24   \n",
      "      19        39376     271            35         1     5500          0.03   \n",
      "                51593     271            19         1    39000          0.15   \n",
      "      20        33765     303            45         0    11500          0.08   \n",
      "      29        28930     485            35         1    29990          0.27   \n",
      "\n",
      "                       price/model_age  \n",
      "brand model_age                         \n",
      "0     1         38170        113990.00  \n",
      "      2         22753         72500.00  \n",
      "      3         8252          27966.67  \n",
      "                33835        139166.67  \n",
      "                34049        984694.33  \n",
      "...                                ...  \n",
      "53    16        6928           2562.50  \n",
      "      19        39376           289.47  \n",
      "                51593          2052.63  \n",
      "      20        33765           575.00  \n",
      "      29        28930          1034.14  \n",
      "\n",
      "[3443 rows x 12 columns]\n",
      "                          id  brand  model  model_age  milage  fuel_type  \\\n",
      "brand model_age                                                            \n",
      "0     2         11191  11191      0   1613          2    2108          2   \n",
      "                21236  21236      0   1613          2    1798          2   \n",
      "                22753  22753      0   1608          2    1067          2   \n",
      "                45499  45499      0   1613          2    1025          2   \n",
      "      3         8252    8252      0   1273          3   10376          2   \n",
      "...                      ...    ...    ...        ...     ...        ...   \n",
      "53    16        2954    2954     53   1786         16   60000          2   \n",
      "                6623    6623     53   1786         16   46700          2   \n",
      "                42833  42833     53   1458         16   58800          2   \n",
      "      19        39376  39376     53   1439         19  220000          2   \n",
      "      29        28930  28930     53    137         29  111000          1   \n",
      "\n",
      "                       engine  transmission  accident   price  price/milage  \\\n",
      "brand model_age                                                               \n",
      "0     2         11191     693             2         1   77900         36.95   \n",
      "                21236     695             2         1   53000         29.48   \n",
      "                22753     243            35         1  145000        135.90   \n",
      "                45499     695             2         1   53900         52.59   \n",
      "      3         8252      187             3         1   83900          8.09   \n",
      "...                       ...           ...       ...     ...           ...   \n",
      "53    16        2954      303            15         0   36750          0.61   \n",
      "                6623      303            15         1   27000          0.58   \n",
      "                42833     303            35         1   26800          0.46   \n",
      "      19        39376     271            35         1    5500          0.03   \n",
      "      29        28930     485            35         1   29990          0.27   \n",
      "\n",
      "                       price/model_age  \n",
      "brand model_age                         \n",
      "0     2         11191         38950.00  \n",
      "                21236         26500.00  \n",
      "                22753         72500.00  \n",
      "                45499         26950.00  \n",
      "      3         8252          27966.67  \n",
      "...                                ...  \n",
      "53    16        2954           2296.88  \n",
      "                6623           1687.50  \n",
      "                42833          1675.00  \n",
      "      19        39376           289.47  \n",
      "      29        28930          1034.14  \n",
      "\n",
      "[5673 rows x 12 columns]\n",
      "                          id  brand  model  model_age  milage  fuel_type  \\\n",
      "brand model_age                                                            \n",
      "0     1         38170  38170      0   1613          1    5400          2   \n",
      "      2         22753  22753      0   1608          2    1067          2   \n",
      "      3         8252    8252      0   1273          3   10376          2   \n",
      "                33835  33835      0    864          3   31112          2   \n",
      "                34049  34049      0   1272          3    2353          2   \n",
      "...                      ...    ...    ...        ...     ...        ...   \n",
      "53    16        6928    6928     53   1786         16  170000          2   \n",
      "      19        39376  39376     53   1439         19  220000          2   \n",
      "                51593  51593     53   1439         19  257700          2   \n",
      "      20        33765  33765     53   1788         20  141485          2   \n",
      "      29        28930  28930     53    137         29  111000          1   \n",
      "\n",
      "                       engine  transmission  accident    price  price/milage  \\\n",
      "brand model_age                                                                \n",
      "0     1         38170     695             2         1   113990         21.11   \n",
      "      2         22753     243            35         1   145000        135.90   \n",
      "      3         8252      187             3         1    83900          8.09   \n",
      "                33835     197             3         0   417500         13.42   \n",
      "                34049     187             3         1  2954083       1255.45   \n",
      "...                       ...           ...       ...      ...           ...   \n",
      "53    16        6928      303            35         0    41000          0.24   \n",
      "      19        39376     271            35         1     5500          0.03   \n",
      "                51593     271            19         1    39000          0.15   \n",
      "      20        33765     303            45         0    11500          0.08   \n",
      "      29        28930     485            35         1    29990          0.27   \n",
      "\n",
      "                       price/model_age  \n",
      "brand model_age                         \n",
      "0     1         38170        113990.00  \n",
      "      2         22753         72500.00  \n",
      "      3         8252          27966.67  \n",
      "                33835        139166.67  \n",
      "                34049        984694.33  \n",
      "...                                ...  \n",
      "53    16        6928           2562.50  \n",
      "      19        39376           289.47  \n",
      "                51593          2052.63  \n",
      "      20        33765           575.00  \n",
      "      29        28930          1034.14  \n",
      "\n",
      "[3439 rows x 12 columns]\n"
     ]
    }
   ],
   "execution_count": 11
  },
  {
   "metadata": {},
   "cell_type": "code",
   "outputs": [],
   "execution_count": null,
   "source": "",
   "id": "202ebf4a00a8b74a"
  },
  {
   "metadata": {
    "ExecuteTime": {
     "end_time": "2024-06-06T22:44:26.508966Z",
     "start_time": "2024-06-06T22:44:25.789646Z"
    }
   },
   "cell_type": "code",
   "source": [
    "import numpy as np\n",
    "\n",
    "# Cap the outliers in the price column\n",
    "def cap_outliers(df, column):\n",
    "    Q1 = df[column].quantile(0.25)\n",
    "    Q3 = df[column].quantile(0.75)\n",
    "    IQR = Q3 - Q1\n",
    "    lower_bound = Q1 - 1.5 * IQR\n",
    "    upper_bound = Q3 + 1.5 * IQR\n",
    "\n",
    "    df[column] = np.where(df[column] < lower_bound, lower_bound, df[column])\n",
    "    df[column] = np.where(df[column] > upper_bound, upper_bound, df[column])\n",
    "    return df\n",
    "\n",
    "# cap the outliers in price/milage column\n",
    "def cap_outliers(df, column):\n",
    "    Q1 = df[column].quantile(0.25)\n",
    "    Q3 = df[column].quantile(0.75)\n",
    "    IQR = Q3 - Q1\n",
    "    lower_bound = Q1 - 1.5 * IQR\n",
    "    upper_bound = Q3 + 1.5 * IQR\n",
    "\n",
    "    df[column] = np.where(df[column] < lower_bound, lower_bound, df[column])\n",
    "    df[column] = np.where(df[column] > upper_bound, upper_bound, df[column])\n",
    "    return df\n",
    "\n",
    "# cap the outliers in price/model_age column\n",
    "# Cap the outliers in the price column\n",
    "def cap_outliers(df, column):\n",
    "    Q1 = df[column].quantile(0.25)\n",
    "    Q3 = df[column].quantile(0.75)\n",
    "    IQR = Q3 - Q1\n",
    "    lower_bound = Q1 - 1.5 * IQR\n",
    "    upper_bound = Q3 + 1.5 * IQR\n",
    "\n",
    "    df[column] = np.where(df[column] < lower_bound, lower_bound, df[column])\n",
    "    df[column] = np.where(df[column] > upper_bound, upper_bound, df[column])\n",
    "    return df\n",
    "#define capped_df dataframe\n",
    "capped_df = train_table.groupby(['brand', 'model_age']).apply(lambda x: cap_outliers(x, 'price')).reset_index(drop=True)\n",
    "#save the capped_df to a csv file name train_capped.csv\n",
    "capped_df.to_csv('/Users/donglinxiong/Documents/i-drive/Desktop/kagglex-cohort4/Tuesday/train_capped.csv', index=False)\n",
    "\n",
    "#print the capped_df dataframe headers\n",
    "print(capped_df.head())"
   ],
   "id": "c6358c724734529a",
   "outputs": [
    {
     "name": "stdout",
     "output_type": "stream",
     "text": [
      "     id  brand  model  model_age  milage  fuel_type  engine  transmission  \\\n",
      "0   410      0   1612          1   13600          2     695             2   \n",
      "1   721      0   1612          1   15500          2     695            35   \n",
      "2  3427      0   1612          1    6900          2     465            32   \n",
      "3  4939      0   1613          1    4200          2     695             2   \n",
      "4  7920      0   1615          1   13600          2     465             2   \n",
      "\n",
      "   accident    price  price/milage  price/model_age  \n",
      "0         1  60000.0          4.41          60000.0  \n",
      "1         1  44000.0          2.84          44000.0  \n",
      "2         1  35500.0          5.14          35500.0  \n",
      "3         1  85000.0         20.24          85000.0  \n",
      "4         1  39500.0          2.90          39500.0  \n"
     ]
    }
   ],
   "execution_count": 25
  },
  {
   "metadata": {
    "ExecuteTime": {
     "end_time": "2024-06-06T22:50:19.655773Z",
     "start_time": "2024-06-06T22:50:19.558437Z"
    }
   },
   "cell_type": "code",
   "source": [
    "import pandas as pd\n",
    "\n",
    "# Load the datasets\n",
    "train_df = pd.read_csv('/Users/donglinxiong/Documents/i-drive/Desktop/kagglex-cohort4/Tuesday/train_capped.csv')\n",
    "test_df = pd.read_csv('/Users/donglinxiong/Documents/i-drive/Desktop/kagglex-cohort4/Tuesday/test_cleaned.csv')\n",
    "\n",
    "# Ensure all columns are numeric\n",
    "test_df = test_df.apply(pd.to_numeric, errors='coerce')\n",
    "train_df = train_df.apply(pd.to_numeric, errors='coerce')\n",
    "\n",
    "# Locate missing values in the train dataset\n",
    "train_missing = train_df.isnull().sum()\n",
    "train_missing = train_missing[train_missing > 0]\n",
    "\n",
    "# Locate missing values in the test dataset\n",
    "test_missing = test_df.isnull().sum()\n",
    "test_missing = test_missing[test_missing > 0]\n",
    "\n",
    "# Print out missing values\n",
    "print(\"Missing values in the train dataset:\")\n",
    "print(train_missing)\n",
    "print(\"\\nMissing values in the test dataset:\")\n",
    "print(test_missing)\n"
   ],
   "id": "38d0fdc35cae5c0e",
   "outputs": [
    {
     "name": "stdout",
     "output_type": "stream",
     "text": [
      "Missing values in the train dataset:\n",
      "price/model_age    42\n",
      "dtype: int64\n",
      "\n",
      "Missing values in the test dataset:\n",
      "Series([], dtype: int64)\n"
     ]
    }
   ],
   "execution_count": 28
  },
  {
   "metadata": {},
   "cell_type": "markdown",
   "source": "# Machine Learning\n",
   "id": "f39e234ec34d27aa"
  },
  {
   "metadata": {},
   "cell_type": "code",
   "outputs": [],
   "execution_count": null,
   "source": "#import libraries for machine learning \n",
   "id": "de51928d27615e88"
  },
  {
   "metadata": {},
   "cell_type": "markdown",
   "source": "## Train a model to predict the price of the cars ",
   "id": "15f7211ccf23a278"
  },
  {
   "metadata": {
    "ExecuteTime": {
     "end_time": "2024-06-06T22:28:32.975670Z",
     "start_time": "2024-06-06T22:28:32.917569Z"
    }
   },
   "cell_type": "code",
   "source": [
    "#Pre train \n",
    "test_df = pd.read_csv('/Users/donglinxiong/Documents/i-drive/Desktop/kagglex-cohort4/Tuesday/test_table.csv')\n",
    "train_df = pd.read_csv('/Users/donglinxiong/Documents/i-drive/Desktop/kagglex-cohort4/Tuesday/train_capped.csv')\n",
    "\n",
    "print(\"Train dataset:\\n\", train_df.head())\n",
    "print(\"Test dataset:\\n\", test_df.head())"
   ],
   "id": "52417eb3d7e849de",
   "outputs": [
    {
     "name": "stdout",
     "output_type": "stream",
     "text": [
      "Train dataset:\n",
      "      id  brand  model  model_age  milage  fuel_type  engine  transmission  \\\n",
      "0   410      0   1612          1   13600          2     695             2   \n",
      "1   721      0   1612          1   15500          2     695            35   \n",
      "2  3427      0   1612          1    6900          2     465            32   \n",
      "3  4939      0   1613          1    4200          2     695             2   \n",
      "4  7920      0   1615          1   13600          2     465             2   \n",
      "\n",
      "   accident    price  price/milage  price/model_age  \n",
      "0         1  60000.0          4.41          60000.0  \n",
      "1         1  44000.0          2.84          44000.0  \n",
      "2         1  35500.0          5.14          35500.0  \n",
      "3         1  85000.0         20.24          85000.0  \n",
      "4         1  39500.0          2.90          39500.0  \n",
      "Test dataset:\n",
      "       id  brand  model  milage  fuel_type  engine  transmission  accident  \\\n",
      "0  54273     35    542   73000          2     564            35         1   \n",
      "1  54274     26   1294  128032          2     422            28         1   \n",
      "2  54275     35    328   51983          2     321            22         1   \n",
      "3  54276     25   1373   29500          2     945            45         0   \n",
      "4  54277      4   1775   90000          2     656            28         0   \n",
      "\n",
      "   price  price/milage  price/model_age  model_age  \n",
      "0      0             0                0         10  \n",
      "1      0             0                0          9  \n",
      "2      0             0                0          9  \n",
      "3      0             0                0          6  \n",
      "4      0             0                0          4  \n"
     ]
    }
   ],
   "execution_count": 24
  },
  {
   "metadata": {},
   "cell_type": "markdown",
   "source": "#### Linear Regression\n",
   "id": "7457f5ab079de23b"
  },
  {
   "metadata": {
    "ExecuteTime": {
     "end_time": "2024-06-06T22:26:03.874046Z",
     "start_time": "2024-06-06T22:26:03.804151Z"
    }
   },
   "cell_type": "code",
   "source": [
    "from sklearn.impute import SimpleImputer\n",
    "import pandas as pd\n",
    "from sklearn.linear_model import LinearRegression\n",
    "from sklearn.model_selection import train_test_split\n",
    "from sklearn.metrics import mean_squared_error, r2_score\n",
    "\n",
    "test_df = pd.read_csv('/Users/donglinxiong/Documents/i-drive/Desktop/kagglex-cohort4/Tuesday/test_table.csv')\n",
    "train_df = pd.read_csv('/Users/donglinxiong/Documents/i-drive/Desktop/kagglex-cohort4/Tuesday/train_capped.csv')\n",
    "\n",
    "\n",
    "\n",
    "#Define features and target variable\n",
    "x_train = train_df.drop(columns=['price'])\n",
    "y_train = train_df['price']\n",
    "x_text = test_df.drop(columns=['price'])\n",
    "\n",
    "\n",
    "# Handle missing values\n",
    "imputer = SimpleImputer(strategy='mean')\n",
    "x_train = imputer.fit_transform(x_train)\n",
    "x_test = imputer.transform(x_test)\n",
    "\n",
    "#Train a linear regression model\n",
    "from sklearn.linear_model import LinearRegression\n",
    "model = LinearRegression()\n",
    "model.fit(x_train, y_train)\n",
    "\n",
    "#Predict the price of the cars in the test dataset\n",
    "y_pred = model.predict(x_test)\n",
    "\n",
    "#Add the predicted prices to the test dataset\n",
    "test_df['predicted_price'] = y_pred\n",
    "test_df.to_csv('/Users/donglinxiong/Documents/i-drive/Desktop/kagglex-cohort4/Tuesday/test_predicted.csv', index=False)\n"
   ],
   "id": "a32dbed470637ab7",
   "outputs": [
    {
     "ename": "NameError",
     "evalue": "name 'x_test' is not defined",
     "output_type": "error",
     "traceback": [
      "\u001B[0;31m---------------------------------------------------------------------------\u001B[0m",
      "\u001B[0;31mNameError\u001B[0m                                 Traceback (most recent call last)",
      "Cell \u001B[0;32mIn[23], line 21\u001B[0m\n\u001B[1;32m     19\u001B[0m imputer \u001B[38;5;241m=\u001B[39m SimpleImputer(strategy\u001B[38;5;241m=\u001B[39m\u001B[38;5;124m'\u001B[39m\u001B[38;5;124mmean\u001B[39m\u001B[38;5;124m'\u001B[39m)\n\u001B[1;32m     20\u001B[0m x_train \u001B[38;5;241m=\u001B[39m imputer\u001B[38;5;241m.\u001B[39mfit_transform(x_train)\n\u001B[0;32m---> 21\u001B[0m x_test \u001B[38;5;241m=\u001B[39m imputer\u001B[38;5;241m.\u001B[39mtransform(x_test)\n\u001B[1;32m     23\u001B[0m \u001B[38;5;66;03m#Train a linear regression model\u001B[39;00m\n\u001B[1;32m     24\u001B[0m \u001B[38;5;28;01mfrom\u001B[39;00m \u001B[38;5;21;01msklearn\u001B[39;00m\u001B[38;5;21;01m.\u001B[39;00m\u001B[38;5;21;01mlinear_model\u001B[39;00m \u001B[38;5;28;01mimport\u001B[39;00m LinearRegression\n",
      "\u001B[0;31mNameError\u001B[0m: name 'x_test' is not defined"
     ]
    }
   ],
   "execution_count": 23
  },
  {
   "metadata": {},
   "cell_type": "markdown",
   "source": "#### Random Forest Regressor\n",
   "id": "fe732eb76382022c"
  },
  {
   "metadata": {},
   "cell_type": "markdown",
   "source": "#### Gradient Boosting Regressor",
   "id": "6381c6d9f2ad1e39"
  },
  {
   "metadata": {},
   "cell_type": "markdown",
   "source": "#### Hyperparameter Tuning",
   "id": "3becc7fd02fc9b89"
  },
  {
   "metadata": {},
   "cell_type": "markdown",
   "source": "#### XGBoost Regressor",
   "id": "c4130b541da9892"
  },
  {
   "metadata": {},
   "cell_type": "markdown",
   "source": "#### Cross Validation",
   "id": "e119a9ae7356b3e1"
  },
  {
   "metadata": {},
   "cell_type": "code",
   "outputs": [],
   "execution_count": null,
   "source": "\n",
   "id": "14755202b27dc31"
  },
  {
   "cell_type": "code",
   "id": "da2828ace30f1399",
   "metadata": {
    "ExecuteTime": {
     "end_time": "2024-06-05T21:30:29.967622Z",
     "start_time": "2024-06-05T21:30:29.921345Z"
    }
   },
   "source": [
    "# identify number of unique values in each column of the train dataset and test dataset \n",
    "train_unique_counts = train_df.nunique()\n",
    "test_unique_counts = test_df.nunique()\n",
    "\n",
    "# create a dataframe from the unique counts\n",
    "summary_df = pd.DataFrame({\n",
    "    'train_unique_counts': train_unique_counts,\n",
    "    'test_unique_counts': test_unique_counts\n",
    "\n",
    "})\n",
    "\n",
    "#Display the summary table\n",
    "print(\"Summary of unique values in each column:\\n\", summary_df)"
   ],
   "outputs": [
    {
     "name": "stdout",
     "output_type": "stream",
     "text": [
      "Summary of unique values in each column:\n",
      "               train_unique_counts  test_unique_counts\n",
      "id                          54273               36183\n",
      "brand                          53                  53\n",
      "model                        1827                1791\n",
      "model_year                     34                  34\n",
      "milage                       3212                2973\n",
      "engine                       1061                1038\n",
      "transmission                   46                  44\n",
      "accident                        2                   2\n",
      "price                        1481                   1\n"
     ]
    }
   ],
   "execution_count": 84
  },
  {
   "cell_type": "code",
   "id": "27bf0ccc8ba93285",
   "metadata": {
    "ExecuteTime": {
     "end_time": "2024-06-05T15:14:43.645691Z",
     "start_time": "2024-06-05T15:14:43.613835Z"
    }
   },
   "source": [
    "# identify number of unique values in each column of the train dataset and test dataset \n",
    "train_unique_counts = train_df_filtered.nunique()\n",
    "test_unique_counts = test_df.nunique()\n",
    "\n",
    "# create a dataframe from the unique counts\n",
    "summary_df = pd.DataFrame({\n",
    "    'train_unique_counts': train_unique_counts,\n",
    "    'test_unique_counts': test_unique_counts\n",
    "\n",
    "})\n",
    "\n",
    "#Display the summary table\n",
    "print(\"Summary of unique values in each column:\\n\", summary_df)"
   ],
   "outputs": [
    {
     "name": "stdout",
     "output_type": "stream",
     "text": [
      "Summary of unique values in each column:\n",
      "               train_unique_counts  test_unique_counts\n",
      "accident                        2                 2.0\n",
      "brand                          52                53.0\n",
      "engine                       1049              1038.0\n",
      "id                          54088             36183.0\n",
      "milage                       3205              2973.0\n",
      "model                        1759              1791.0\n",
      "model_year                     34                34.0\n",
      "price                        1480                 NaN\n",
      "transmission                   45                44.0\n"
     ]
    }
   ],
   "execution_count": 15
  },
  {
   "cell_type": "code",
   "id": "445f56df22c6f467",
   "metadata": {
    "ExecuteTime": {
     "end_time": "2024-06-05T15:15:10.050746Z",
     "start_time": "2024-06-05T15:15:10.034849Z"
    }
   },
   "source": [
    "#change model_year column to mode_age current_year - model_year \n",
    "current_year = 2024\n",
    "train_df['model_year'] = current_year - train_df['model_year']\n",
    "test_df['model_year'] = current_year - test_df['model_year']\n",
    "\n",
    "#print the updated datasets\n",
    "print(\"Train dataset:\\n\", train_df.head())\n",
    "print(\"Test dataset:\\n\", test_df.head())"
   ],
   "outputs": [
    {
     "name": "stdout",
     "output_type": "stream",
     "text": [
      "Train dataset:\n",
      "    id    brand          model  model_year  milage  \\\n",
      "0   0     Ford   F-150 Lariat           6   74349   \n",
      "1   1      BMW          335 i          17   80000   \n",
      "2   2   Jaguar      XF Luxury          15   91491   \n",
      "3   3      BMW   X7 xDrive40i           2    2437   \n",
      "4   4  Pontiac  Firebird Base          23  111000   \n",
      "\n",
      "                                              engine  \\\n",
      "0      375.0HP 3.5L V6 Cylinder Engine Gasoline Fuel   \n",
      "1  300.0HP 3.0L Straight 6 Cylinder Engine Gasoli...   \n",
      "2       300.0HP 4.2L 8 Cylinder Engine Gasoline Fuel   \n",
      "3  335.0HP 3.0L Straight 6 Cylinder Engine Gasoli...   \n",
      "4      200.0HP 3.8L V6 Cylinder Engine Gasoline Fuel   \n",
      "\n",
      "                     transmission       accident  price  \n",
      "0                    10-Speed A/T  None reported  11000  \n",
      "1                     6-Speed M/T  None reported   8250  \n",
      "2                     6-Speed A/T  None reported  15000  \n",
      "3  Transmission w/Dual Shift Mode  None reported  63500  \n",
      "4                             A/T  None reported   7850  \n",
      "Test dataset:\n",
      "       id          brand                                              model  \\\n",
      "0  54273  Mercedes-Benz                                      E-Class E 350   \n",
      "1  54274          Lexus                                        RX 350 Base   \n",
      "2  54275  Mercedes-Benz                                      C-Class C 300   \n",
      "3  54276           Land  Rover Range Rover 5.0L Supercharged Autobiogra...   \n",
      "4  54277            BMW                                       X6 xDrive40i   \n",
      "\n",
      "   model_year  milage                                             engine  \\\n",
      "0          10   73000      302.0HP 3.5L V6 Cylinder Engine Gasoline Fuel   \n",
      "1           9  128032      275.0HP 3.5L V6 Cylinder Engine Gasoline Fuel   \n",
      "2           9   51983       241.0HP 2.0L 4 Cylinder Engine Gasoline Fuel   \n",
      "3           6   29500       518.0HP 5.0L 8 Cylinder Engine Gasoline Fuel   \n",
      "4           4   90000  335.0HP 3.0L Straight 6 Cylinder Engine Gasoli...   \n",
      "\n",
      "                     transmission                                accident  \n",
      "0                             A/T                           None reported  \n",
      "1                     8-Speed A/T                           None reported  \n",
      "2                     7-Speed A/T                           None reported  \n",
      "3  Transmission w/Dual Shift Mode  At least 1 accident or damage reported  \n",
      "4                     8-Speed A/T  At least 1 accident or damage reported  \n"
     ]
    }
   ],
   "execution_count": 16
  },
  {
   "metadata": {
    "ExecuteTime": {
     "end_time": "2024-06-05T19:11:00.973958Z",
     "start_time": "2024-06-05T19:11:00.884133Z"
    }
   },
   "cell_type": "code",
   "source": [
    "#save test_df to a csv file name test_clean.csv\n",
    "test_df.to_csv('/Users/donglinxiong/Documents/i-drive/Desktop/kagglex-cohort4/test_clean.csv', index=False)"
   ],
   "id": "630c578947cea742",
   "outputs": [],
   "execution_count": 64
  },
  {
   "cell_type": "code",
   "id": "b86847631ee0042b",
   "metadata": {
    "ExecuteTime": {
     "end_time": "2024-06-05T19:11:05.367756Z",
     "start_time": "2024-06-05T19:11:04.852237Z"
    }
   },
   "source": [
    "def identify_outliers(df, column):\n",
    "    Q1 = df[column].quantile(0.25)\n",
    "    Q3 = df[column].quantile(0.75)\n",
    "    IQR = Q3 - Q1\n",
    "    lower_bound = Q1 - 1.5 * IQR\n",
    "    upper_bound = Q3 + 1.5 * IQR\n",
    "    return df[(df[column] < lower_bound) | (df[column] > upper_bound)]\n",
    "\n",
    "\n",
    "# Grouping by brand and year and identifying outliers\n",
    "outliers = train_df.groupby(['brand', 'model_year']).apply(lambda x: identify_outliers(x, 'price')).reset_index(\n",
    "    drop=True)\n",
    "\n",
    "# Display the outliers\n",
    "print(outliers)"
   ],
   "outputs": [
    {
     "name": "stdout",
     "output_type": "stream",
     "text": [
      "         id  brand                          model  model_year  milage  \\\n",
      "0     38170  Acura  TLX Type S w/Performance Tire           1    5400   \n",
      "1     22753  Acura                     TLX A-Spec           2    1067   \n",
      "2      8252  Acura         RDX Technology Package           3   10376   \n",
      "3     33835  Acura            ILX Premium Package           3   31112   \n",
      "4     34049  Acura                RDX PMC Edition           3    2353   \n",
      "...     ...    ...                            ...         ...     ...   \n",
      "3438   6928  Volvo                       XC70 3.2          16  170000   \n",
      "3439  39376  Volvo                         S40 T5          19  220000   \n",
      "3440  51593  Volvo                         S40 T5          19  257700   \n",
      "3441  33765  Volvo                       XC90 3.2          20  141485   \n",
      "3442  28930  Volvo                      850 Turbo          29  111000   \n",
      "\n",
      "                                                 engine  \\\n",
      "0         355.0HP 3.0L V6 Cylinder Engine Gasoline Fuel   \n",
      "1          206.0HP 2.4L 4 Cylinder Engine Gasoline Fuel   \n",
      "2                            2.0L I4 16V GDI DOHC Turbo   \n",
      "3                                  2.4L I4 16V GDI DOHC   \n",
      "4                            2.0L I4 16V GDI DOHC Turbo   \n",
      "...                                                 ...   \n",
      "3438  235.0HP 3.2L Straight 6 Cylinder Engine Gasoli...   \n",
      "3439       218.0HP 2.5L 5 Cylinder Engine Gasoline Fuel   \n",
      "3440       218.0HP 2.5L 5 Cylinder Engine Gasoline Fuel   \n",
      "3441  235.0HP 3.2L Straight 6 Cylinder Engine Gasoli...   \n",
      "3442                                                  –   \n",
      "\n",
      "                        transmission                                accident  \\\n",
      "0                       10-Speed A/T                           None reported   \n",
      "1                                A/T                           None reported   \n",
      "2                 10-Speed Automatic                           None reported   \n",
      "3                 10-Speed Automatic  At least 1 accident or damage reported   \n",
      "4                 10-Speed Automatic                           None reported   \n",
      "...                              ...                                     ...   \n",
      "3438                             A/T  At least 1 accident or damage reported   \n",
      "3439                             A/T                           None reported   \n",
      "3440                     6-Speed M/T                           None reported   \n",
      "3441  Transmission w/Dual Shift Mode  At least 1 accident or damage reported   \n",
      "3442                             A/T                           None reported   \n",
      "\n",
      "        price  \n",
      "0      113990  \n",
      "1      145000  \n",
      "2       83900  \n",
      "3      417500  \n",
      "4     2954083  \n",
      "...       ...  \n",
      "3438    41000  \n",
      "3439     5500  \n",
      "3440    39000  \n",
      "3441    11500  \n",
      "3442    29990  \n",
      "\n",
      "[3443 rows x 9 columns]\n"
     ]
    }
   ],
   "execution_count": 65
  },
  {
   "metadata": {
    "ExecuteTime": {
     "end_time": "2024-06-05T19:17:20.217284Z",
     "start_time": "2024-06-05T19:17:19.623330Z"
    }
   },
   "cell_type": "code",
   "source": [
    "import numpy as np\n",
    "\n",
    "\n",
    "#This cell to cut the outliers without deleting them with cap_outliers function\n",
    "def cap_outliers(df, column):\n",
    "    Q1 = df[column].quantile(0.25)\n",
    "    Q3 = df[column].quantile(0.75)\n",
    "    IQR = Q3 - Q1\n",
    "    lower_bound = Q1 - 1.5 * IQR\n",
    "    upper_bound = Q3 + 1.5 * IQR\n",
    "\n",
    "    df[column] = np.where(df[column] < lower_bound, lower_bound, df[column])\n",
    "    df[column] = np.where(df[column] > upper_bound, upper_bound, df[column])\n",
    "    return df\n",
    "\n",
    "\n",
    "# Grouping by brand and year and capping outliers in the price column\n",
    "capped_df = train_df.groupby(['brand', 'model_year']).apply(lambda x: cap_outliers(x, 'price')).reset_index(drop=True)\n",
    "\n",
    "# Display the capped dataframe\n",
    "print(capped_df)\n",
    "#save the capped_df to a csv file name train_capped.csv\n",
    "capped_df.to_csv('/Users/donglinxiong/Documents/i-drive/Desktop/kagglex-cohort4/train_capped.csv', index=False)"
   ],
   "id": "d2bbc4aa807def22",
   "outputs": [
    {
     "name": "stdout",
     "output_type": "stream",
     "text": [
      "          id  brand                          model  model_year  milage  \\\n",
      "0        410  Acura         TLX Type S PMC Edition           1   13600   \n",
      "1        721  Acura         TLX Type S PMC Edition           1   15500   \n",
      "2       3427  Acura         TLX Type S PMC Edition           1    6900   \n",
      "3       4939  Acura  TLX Type S w/Performance Tire           1    4200   \n",
      "4       7920  Acura                    TLX V6 Tech           1   13600   \n",
      "...      ...    ...                            ...         ...     ...   \n",
      "54268  28930  Volvo                      850 Turbo          29  111000   \n",
      "54269  29729  Volvo                      850 Turbo          29   94000   \n",
      "54270  29732  Volvo                      850 Turbo          29   94653   \n",
      "54271  30896  Volvo                      850 Turbo          29   94000   \n",
      "54272  38955  Volvo                      850 Turbo          29   94000   \n",
      "\n",
      "                                              engine  transmission  \\\n",
      "0      355.0HP 3.0L V6 Cylinder Engine Gasoline Fuel  10-Speed A/T   \n",
      "1      355.0HP 3.0L V6 Cylinder Engine Gasoline Fuel           A/T   \n",
      "2      290.0HP 3.5L V6 Cylinder Engine Gasoline Fuel   9-Speed A/T   \n",
      "3      355.0HP 3.0L V6 Cylinder Engine Gasoline Fuel  10-Speed A/T   \n",
      "4      290.0HP 3.5L V6 Cylinder Engine Gasoline Fuel  10-Speed A/T   \n",
      "...                                              ...           ...   \n",
      "54268                                              –           A/T   \n",
      "54269                                              –           A/T   \n",
      "54270                                              –           A/T   \n",
      "54271                                              –           A/T   \n",
      "54272                                              –           A/T   \n",
      "\n",
      "                                     accident    price  \n",
      "0                               None reported  60000.0  \n",
      "1                               None reported  44000.0  \n",
      "2                               None reported  35500.0  \n",
      "3                               None reported  85000.0  \n",
      "4                               None reported  39500.0  \n",
      "...                                       ...      ...  \n",
      "54268                           None reported  11250.0  \n",
      "54269                           None reported   2900.0  \n",
      "54270  At least 1 accident or damage reported   4500.0  \n",
      "54271                           None reported   7500.0  \n",
      "54272                           None reported   7500.0  \n",
      "\n",
      "[54273 rows x 9 columns]\n"
     ]
    }
   ],
   "execution_count": 71
  },
  {
   "metadata": {
    "ExecuteTime": {
     "end_time": "2024-06-05T19:11:17.428512Z",
     "start_time": "2024-06-05T19:11:16.460040Z"
    }
   },
   "cell_type": "code",
   "source": [
    "import matplotlib.pyplot as plt\n",
    "import seaborn as sns\n",
    "import numpy as np\n",
    "\n",
    "\n",
    "def cap_outliers(df, column):\n",
    "    Q1 = df[column].quantile(0.25)\n",
    "    Q3 = df[column].quantile(0.75)\n",
    "    IQR = Q3 - Q1\n",
    "    lower_bound = Q1 - 1.5 * IQR\n",
    "    upper_bound = Q3 + 1.5 * IQR\n",
    "\n",
    "    df[column] = np.where(df[column] < lower_bound, lower_bound, df[column])\n",
    "    df[column] = np.where(df[column] > upper_bound, upper_bound, df[column])\n",
    "    return df\n",
    "\n",
    "\n",
    "# Visualizing the distribution before and after capping outliers\n",
    "def plot_distribution(df, column, title):\n",
    "    plt.figure(figsize=(12, 6))\n",
    "    sns.histplot(df[column], bins=30, kde=True)\n",
    "    plt.title(title)\n",
    "    plt.show()\n",
    "\n",
    "\n",
    "# Plot distribution of price before capping\n",
    "plot_distribution(train_df, 'price', 'Price Distribution Before Capping Outliers')\n",
    "\n",
    "# Grouping by brand and year and capping outliers in the price column\n",
    "capped_df = train_df.groupby(['brand', 'model_year']).apply(lambda x: cap_outliers(x, 'price')).reset_index(drop=True)\n",
    "\n",
    "# Plot distribution of price after capping\n",
    "plot_distribution(capped_df, 'price', 'Price Distribution After Capping Outliers')\n",
    "\n",
    "# Display the capped dataframe\n",
    "print(capped_df)\n"
   ],
   "id": "2a2c81d2f203a5fc",
   "outputs": [
    {
     "name": "stderr",
     "output_type": "stream",
     "text": [
      "/opt/anaconda3/lib/python3.11/site-packages/seaborn/_oldcore.py:1119: FutureWarning: use_inf_as_na option is deprecated and will be removed in a future version. Convert inf values to NaN before operating instead.\n",
      "  with pd.option_context('mode.use_inf_as_na', True):\n"
     ]
    },
    {
     "data": {
      "text/plain": [
       "<Figure size 1200x600 with 1 Axes>"
      ],
      "image/png": "[encoded data removed]"
     },
     "metadata": {},
     "output_type": "display_data"
    },
    {
     "name": "stderr",
     "output_type": "stream",
     "text": [
      "/opt/anaconda3/lib/python3.11/site-packages/seaborn/_oldcore.py:1119: FutureWarning: use_inf_as_na option is deprecated and will be removed in a future version. Convert inf values to NaN before operating instead.\n",
      "  with pd.option_context('mode.use_inf_as_na', True):\n"
     ]
    },
    {
     "data": {
      "text/plain": [
       "<Figure size 1200x600 with 1 Axes>"
      ],
      "image/png": "[encoded data removed]"
     },
     "metadata": {},
     "output_type": "display_data"
    },
    {
     "name": "stdout",
     "output_type": "stream",
     "text": [
      "          id  brand                          model  model_year  milage  \\\n",
      "0        410  Acura         TLX Type S PMC Edition           1   13600   \n",
      "1        721  Acura         TLX Type S PMC Edition           1   15500   \n",
      "2       3427  Acura         TLX Type S PMC Edition           1    6900   \n",
      "3       4939  Acura  TLX Type S w/Performance Tire           1    4200   \n",
      "4       7920  Acura                    TLX V6 Tech           1   13600   \n",
      "...      ...    ...                            ...         ...     ...   \n",
      "54268  28930  Volvo                      850 Turbo          29  111000   \n",
      "54269  29729  Volvo                      850 Turbo          29   94000   \n",
      "54270  29732  Volvo                      850 Turbo          29   94653   \n",
      "54271  30896  Volvo                      850 Turbo          29   94000   \n",
      "54272  38955  Volvo                      850 Turbo          29   94000   \n",
      "\n",
      "                                              engine  transmission  \\\n",
      "0      355.0HP 3.0L V6 Cylinder Engine Gasoline Fuel  10-Speed A/T   \n",
      "1      355.0HP 3.0L V6 Cylinder Engine Gasoline Fuel           A/T   \n",
      "2      290.0HP 3.5L V6 Cylinder Engine Gasoline Fuel   9-Speed A/T   \n",
      "3      355.0HP 3.0L V6 Cylinder Engine Gasoline Fuel  10-Speed A/T   \n",
      "4      290.0HP 3.5L V6 Cylinder Engine Gasoline Fuel  10-Speed A/T   \n",
      "...                                              ...           ...   \n",
      "54268                                              –           A/T   \n",
      "54269                                              –           A/T   \n",
      "54270                                              –           A/T   \n",
      "54271                                              –           A/T   \n",
      "54272                                              –           A/T   \n",
      "\n",
      "                                     accident    price  \n",
      "0                               None reported  60000.0  \n",
      "1                               None reported  44000.0  \n",
      "2                               None reported  35500.0  \n",
      "3                               None reported  85000.0  \n",
      "4                               None reported  39500.0  \n",
      "...                                       ...      ...  \n",
      "54268                           None reported  11250.0  \n",
      "54269                           None reported   2900.0  \n",
      "54270  At least 1 accident or damage reported   4500.0  \n",
      "54271                           None reported   7500.0  \n",
      "54272                           None reported   7500.0  \n",
      "\n",
      "[54273 rows x 9 columns]\n"
     ]
    }
   ],
   "execution_count": 67
  },
  {
   "metadata": {
    "ExecuteTime": {
     "end_time": "2024-06-05T19:18:35.743863Z",
     "start_time": "2024-06-05T19:18:35.735252Z"
    }
   },
   "cell_type": "code",
   "source": [
    "# head of the capped_df\n",
    "print(capped_df.head())\n",
    "print(test_df.head())"
   ],
   "id": "3015ea9fa7440ba5",
   "outputs": [
    {
     "name": "stdout",
     "output_type": "stream",
     "text": [
      "     id  brand                          model  model_year  milage  \\\n",
      "0   410  Acura         TLX Type S PMC Edition           1   13600   \n",
      "1   721  Acura         TLX Type S PMC Edition           1   15500   \n",
      "2  3427  Acura         TLX Type S PMC Edition           1    6900   \n",
      "3  4939  Acura  TLX Type S w/Performance Tire           1    4200   \n",
      "4  7920  Acura                    TLX V6 Tech           1   13600   \n",
      "\n",
      "                                          engine  transmission       accident  \\\n",
      "0  355.0HP 3.0L V6 Cylinder Engine Gasoline Fuel  10-Speed A/T  None reported   \n",
      "1  355.0HP 3.0L V6 Cylinder Engine Gasoline Fuel           A/T  None reported   \n",
      "2  290.0HP 3.5L V6 Cylinder Engine Gasoline Fuel   9-Speed A/T  None reported   \n",
      "3  355.0HP 3.0L V6 Cylinder Engine Gasoline Fuel  10-Speed A/T  None reported   \n",
      "4  290.0HP 3.5L V6 Cylinder Engine Gasoline Fuel  10-Speed A/T  None reported   \n",
      "\n",
      "     price  \n",
      "0  60000.0  \n",
      "1  44000.0  \n",
      "2  35500.0  \n",
      "3  85000.0  \n",
      "4  39500.0  \n",
      "      id          brand                                              model  \\\n",
      "0  54273  Mercedes-Benz                                      E-Class E 350   \n",
      "1  54274          Lexus                                        RX 350 Base   \n",
      "2  54275  Mercedes-Benz                                      C-Class C 300   \n",
      "3  54276           Land  Rover Range Rover 5.0L Supercharged Autobiogra...   \n",
      "4  54277            BMW                                       X6 xDrive40i   \n",
      "\n",
      "   model_year  milage                                             engine  \\\n",
      "0          10   73000      302.0HP 3.5L V6 Cylinder Engine Gasoline Fuel   \n",
      "1           9  128032      275.0HP 3.5L V6 Cylinder Engine Gasoline Fuel   \n",
      "2           9   51983       241.0HP 2.0L 4 Cylinder Engine Gasoline Fuel   \n",
      "3           6   29500       518.0HP 5.0L 8 Cylinder Engine Gasoline Fuel   \n",
      "4           4   90000  335.0HP 3.0L Straight 6 Cylinder Engine Gasoli...   \n",
      "\n",
      "                     transmission                                accident  \n",
      "0                             A/T                           None reported  \n",
      "1                     8-Speed A/T                           None reported  \n",
      "2                     7-Speed A/T                           None reported  \n",
      "3  Transmission w/Dual Shift Mode  At least 1 accident or damage reported  \n",
      "4                     8-Speed A/T  At least 1 accident or damage reported  \n"
     ]
    }
   ],
   "execution_count": 73
  },
  {
   "metadata": {
    "ExecuteTime": {
     "end_time": "2024-06-05T19:21:16.495362Z",
     "start_time": "2024-06-05T19:21:16.481172Z"
    }
   },
   "cell_type": "code",
   "source": [
    "#add a new column to the test_df dataset name'price' with a value of 0. \n",
    "test_df['price'] = 0\n",
    "print(test_df.head())"
   ],
   "id": "b6ba4d30f0d2b767",
   "outputs": [
    {
     "name": "stdout",
     "output_type": "stream",
     "text": [
      "      id          brand                                              model  \\\n",
      "0  54273  Mercedes-Benz                                      E-Class E 350   \n",
      "1  54274          Lexus                                        RX 350 Base   \n",
      "2  54275  Mercedes-Benz                                      C-Class C 300   \n",
      "3  54276           Land  Rover Range Rover 5.0L Supercharged Autobiogra...   \n",
      "4  54277            BMW                                       X6 xDrive40i   \n",
      "\n",
      "   model_year  milage                                             engine  \\\n",
      "0          10   73000      302.0HP 3.5L V6 Cylinder Engine Gasoline Fuel   \n",
      "1           9  128032      275.0HP 3.5L V6 Cylinder Engine Gasoline Fuel   \n",
      "2           9   51983       241.0HP 2.0L 4 Cylinder Engine Gasoline Fuel   \n",
      "3           6   29500       518.0HP 5.0L 8 Cylinder Engine Gasoline Fuel   \n",
      "4           4   90000  335.0HP 3.0L Straight 6 Cylinder Engine Gasoli...   \n",
      "\n",
      "                     transmission                                accident  \\\n",
      "0                             A/T                           None reported   \n",
      "1                     8-Speed A/T                           None reported   \n",
      "2                     7-Speed A/T                           None reported   \n",
      "3  Transmission w/Dual Shift Mode  At least 1 accident or damage reported   \n",
      "4                     8-Speed A/T  At least 1 accident or damage reported   \n",
      "\n",
      "   price  \n",
      "0      0  \n",
      "1      0  \n",
      "2      0  \n",
      "3      0  \n",
      "4      0  \n"
     ]
    }
   ],
   "execution_count": 75
  },
  {
   "metadata": {
    "ExecuteTime": {
     "end_time": "2024-06-05T19:23:42.359206Z",
     "start_time": "2024-06-05T19:23:42.178346Z"
    }
   },
   "cell_type": "code",
   "source": [
    "#save the capped_df to a csv file name train_capped.csv\n",
    "capped_df.to_csv('/Users/donglinxiong/Documents/i-drive/Desktop/kagglex-cohort4/train_capped.csv', index=False)\n",
    "#save the test_df to a csv file name test_capped.csv\n",
    "test_df.to_csv('/Users/donglinxiong/Documents/i-drive/Desktop/kagglex-cohort4/test_capped.csv', index=False)"
   ],
   "id": "47b6764a4e72680",
   "outputs": [],
   "execution_count": 77
  },
  {
   "metadata": {},
   "cell_type": "markdown",
   "source": [
    "# to do list for the next  cells\n",
    "# 1. Load the train_capped.csv and test_capped.csv datasets\n",
    "# 2. Encode the categorical columns in the datasets\n",
    "# 3. keep original columns and variables in columns in test_capped.csv, modify variables in train_capped.csv to have exact same variables  in test_capped.csv. price column should keep as it is in train_capped.csv. \n",
    "# 4. Add two new columns to the train_capped.csv and test_capped dataset: price/year and price/mileage, where price/year = price/model_year and price/mileage = price/mileage\n",
    "# 5. Train a model to predict the price of the cars\n",
    "# 5. Predict the price of the cars in the test dataset\n",
    "# 6. Save the predicted prices to a csv file keep the original columns and rows in the test dataset"
   ],
   "id": "9b864d77a920cbfb"
  },
  {
   "metadata": {
    "ExecuteTime": {
     "end_time": "2024-06-05T19:15:10.147247Z",
     "start_time": "2024-06-05T19:14:54.302331Z"
    }
   },
   "cell_type": "code",
   "source": [
    "from sklearn.model_selection import train_test_split\n",
    "from sklearn.ensemble import RandomForestRegressor\n",
    "from sklearn.metrics import mean_squared_error, r2_score\n",
    "import numpy as np\n",
    "\n",
    "# Replace zero values in model_year and milage with a small number to avoid division by zero\n",
    "train_df_encoded['model_year'].replace(0, 0.1, inplace=True)\n",
    "train_df_encoded['milage'].replace(0, 0.1, inplace=True)\n",
    "test_df_encoded['model_year'].replace(0, 0.1, inplace=True)\n",
    "test_df_encoded['milage'].replace(0, 0.1, inplace=True)\n",
    "\n",
    "# Add new columns to the training dataset\n",
    "train_df_encoded['price/year'] = train_df_encoded['price'] / train_df_encoded['model_year']\n",
    "train_df_encoded['price/mileage'] = train_df_encoded['price'] / train_df_encoded['milage']\n",
    "\n",
    "# Prepare the data\n",
    "X = train_df_encoded.drop(columns=['price'])\n",
    "y = train_df_encoded['price']\n",
    "\n",
    "# Split the data into training and validation sets\n",
    "X_train, X_val, y_train, y_val = train_test_split(X, y, test_size=0.2, random_state=42)\n",
    "\n",
    "# Initialize and train the model\n",
    "model = RandomForestRegressor(random_state=42)\n",
    "model.fit(X_train, y_train)\n",
    "\n",
    "# Predict on the validation set\n",
    "y_pred_val = model.predict(X_val)\n",
    "\n",
    "# Evaluate the model\n",
    "mse = mean_squared_error(y_val, y_pred_val)\n",
    "r2 = r2_score(y_val, y_pred_val)\n",
    "print(f'Validation Mean Squared Error: {mse}')\n",
    "print(f'Validation R-squared: {r2}')\n",
    "\n",
    "# Add corresponding columns to the test dataset using placeholders\n",
    "test_df_encoded['price/year'] = np.nan\n",
    "test_df_encoded['price/mileage'] = np.nan\n",
    "\n",
    "# Prepare the test data\n",
    "X_test = test_df_encoded.drop(columns=['price', 'predicted_price'], errors='ignore')\n",
    "\n",
    "# Predict on the test set\n",
    "test_predictions = model.predict(X_test)\n",
    "\n",
    "# Add predicted price to test dataset\n",
    "test_df_encoded['predicted_price'] = test_predictions\n",
    "\n",
    "# Update the test dataset with the new features using the predicted prices\n",
    "test_df_encoded['predicted_price/year'] = test_df_encoded['predicted_price'] / test_df_encoded['model_year']\n",
    "test_df_encoded['predicted_price/mileage'] = test_df_encoded['predicted_price'] / test_df_encoded['milage']\n",
    "\n",
    "# Display the first few rows of the test dataframe with predictions\n",
    "print(test_df_encoded.head())\n",
    "\n",
    "#save the test_df_encoded to a csv file name test_predicted.csv\n",
    "test_df_encoded.to_csv('/Users/donglinxiong/Documents/i-drive/Desktop/kagglex-cohort4/test_predicted.csv', index=False)\n",
    "#save the train_df_encoded to a csv file name train_predicted.csv\n",
    "train_df_encoded.to_csv('/Users/donglinxiong/Documents/i-drive/Desktop/kagglex-cohort4/train_predicted.csv',\n",
    "                        index=False)"
   ],
   "id": "921b43abec8e9f53",
   "outputs": [
    {
     "name": "stdout",
     "output_type": "stream",
     "text": [
      "Validation Mean Squared Error: 24954368.68838846\n",
      "Validation R-squared: 0.9915077883796913\n"
     ]
    },
    {
     "ename": "ValueError",
     "evalue": "Input X contains NaN.\nRandomForestRegressor does not accept missing values encoded as NaN natively. For supervised learning, you might want to consider sklearn.ensemble.HistGradientBoostingClassifier and Regressor which accept missing values encoded as NaNs natively. Alternatively, it is possible to preprocess the data, for instance by using an imputer transformer in a pipeline or drop samples with missing values. See https://scikit-learn.org/stable/modules/impute.html You can find a list of all estimators that handle NaN values at the following page: https://scikit-learn.org/stable/modules/impute.html#estimators-that-handle-nan-values",
     "output_type": "error",
     "traceback": [
      "\u001B[0;31m---------------------------------------------------------------------------\u001B[0m",
      "\u001B[0;31mValueError\u001B[0m                                Traceback (most recent call last)",
      "Cell \u001B[0;32mIn[70], line 44\u001B[0m\n\u001B[1;32m     41\u001B[0m X_test \u001B[38;5;241m=\u001B[39m test_df_encoded\u001B[38;5;241m.\u001B[39mdrop(columns\u001B[38;5;241m=\u001B[39m[\u001B[38;5;124m'\u001B[39m\u001B[38;5;124mprice\u001B[39m\u001B[38;5;124m'\u001B[39m, \u001B[38;5;124m'\u001B[39m\u001B[38;5;124mpredicted_price\u001B[39m\u001B[38;5;124m'\u001B[39m], errors\u001B[38;5;241m=\u001B[39m\u001B[38;5;124m'\u001B[39m\u001B[38;5;124mignore\u001B[39m\u001B[38;5;124m'\u001B[39m)\n\u001B[1;32m     43\u001B[0m \u001B[38;5;66;03m# Predict on the test set\u001B[39;00m\n\u001B[0;32m---> 44\u001B[0m test_predictions \u001B[38;5;241m=\u001B[39m model\u001B[38;5;241m.\u001B[39mpredict(X_test)\n\u001B[1;32m     46\u001B[0m \u001B[38;5;66;03m# Add predicted price to test dataset\u001B[39;00m\n\u001B[1;32m     47\u001B[0m test_df_encoded[\u001B[38;5;124m'\u001B[39m\u001B[38;5;124mpredicted_price\u001B[39m\u001B[38;5;124m'\u001B[39m] \u001B[38;5;241m=\u001B[39m test_predictions\n",
      "File \u001B[0;32m/opt/anaconda3/lib/python3.11/site-packages/sklearn/ensemble/_forest.py:981\u001B[0m, in \u001B[0;36mForestRegressor.predict\u001B[0;34m(self, X)\u001B[0m\n\u001B[1;32m    979\u001B[0m check_is_fitted(\u001B[38;5;28mself\u001B[39m)\n\u001B[1;32m    980\u001B[0m \u001B[38;5;66;03m# Check data\u001B[39;00m\n\u001B[0;32m--> 981\u001B[0m X \u001B[38;5;241m=\u001B[39m \u001B[38;5;28mself\u001B[39m\u001B[38;5;241m.\u001B[39m_validate_X_predict(X)\n\u001B[1;32m    983\u001B[0m \u001B[38;5;66;03m# Assign chunk of trees to jobs\u001B[39;00m\n\u001B[1;32m    984\u001B[0m n_jobs, _, _ \u001B[38;5;241m=\u001B[39m _partition_estimators(\u001B[38;5;28mself\u001B[39m\u001B[38;5;241m.\u001B[39mn_estimators, \u001B[38;5;28mself\u001B[39m\u001B[38;5;241m.\u001B[39mn_jobs)\n",
      "File \u001B[0;32m/opt/anaconda3/lib/python3.11/site-packages/sklearn/ensemble/_forest.py:602\u001B[0m, in \u001B[0;36mBaseForest._validate_X_predict\u001B[0;34m(self, X)\u001B[0m\n\u001B[1;32m    599\u001B[0m \u001B[38;5;250m\u001B[39m\u001B[38;5;124;03m\"\"\"\u001B[39;00m\n\u001B[1;32m    600\u001B[0m \u001B[38;5;124;03mValidate X whenever one tries to predict, apply, predict_proba.\"\"\"\u001B[39;00m\n\u001B[1;32m    601\u001B[0m check_is_fitted(\u001B[38;5;28mself\u001B[39m)\n\u001B[0;32m--> 602\u001B[0m X \u001B[38;5;241m=\u001B[39m \u001B[38;5;28mself\u001B[39m\u001B[38;5;241m.\u001B[39m_validate_data(X, dtype\u001B[38;5;241m=\u001B[39mDTYPE, accept_sparse\u001B[38;5;241m=\u001B[39m\u001B[38;5;124m\"\u001B[39m\u001B[38;5;124mcsr\u001B[39m\u001B[38;5;124m\"\u001B[39m, reset\u001B[38;5;241m=\u001B[39m\u001B[38;5;28;01mFalse\u001B[39;00m)\n\u001B[1;32m    603\u001B[0m \u001B[38;5;28;01mif\u001B[39;00m issparse(X) \u001B[38;5;129;01mand\u001B[39;00m (X\u001B[38;5;241m.\u001B[39mindices\u001B[38;5;241m.\u001B[39mdtype \u001B[38;5;241m!=\u001B[39m np\u001B[38;5;241m.\u001B[39mintc \u001B[38;5;129;01mor\u001B[39;00m X\u001B[38;5;241m.\u001B[39mindptr\u001B[38;5;241m.\u001B[39mdtype \u001B[38;5;241m!=\u001B[39m np\u001B[38;5;241m.\u001B[39mintc):\n\u001B[1;32m    604\u001B[0m     \u001B[38;5;28;01mraise\u001B[39;00m \u001B[38;5;167;01mValueError\u001B[39;00m(\u001B[38;5;124m\"\u001B[39m\u001B[38;5;124mNo support for np.int64 index based sparse matrices\u001B[39m\u001B[38;5;124m\"\u001B[39m)\n",
      "File \u001B[0;32m/opt/anaconda3/lib/python3.11/site-packages/sklearn/base.py:565\u001B[0m, in \u001B[0;36mBaseEstimator._validate_data\u001B[0;34m(self, X, y, reset, validate_separately, **check_params)\u001B[0m\n\u001B[1;32m    563\u001B[0m     \u001B[38;5;28;01mraise\u001B[39;00m \u001B[38;5;167;01mValueError\u001B[39;00m(\u001B[38;5;124m\"\u001B[39m\u001B[38;5;124mValidation should be done on X, y or both.\u001B[39m\u001B[38;5;124m\"\u001B[39m)\n\u001B[1;32m    564\u001B[0m \u001B[38;5;28;01melif\u001B[39;00m \u001B[38;5;129;01mnot\u001B[39;00m no_val_X \u001B[38;5;129;01mand\u001B[39;00m no_val_y:\n\u001B[0;32m--> 565\u001B[0m     X \u001B[38;5;241m=\u001B[39m check_array(X, input_name\u001B[38;5;241m=\u001B[39m\u001B[38;5;124m\"\u001B[39m\u001B[38;5;124mX\u001B[39m\u001B[38;5;124m\"\u001B[39m, \u001B[38;5;241m*\u001B[39m\u001B[38;5;241m*\u001B[39mcheck_params)\n\u001B[1;32m    566\u001B[0m     out \u001B[38;5;241m=\u001B[39m X\n\u001B[1;32m    567\u001B[0m \u001B[38;5;28;01melif\u001B[39;00m no_val_X \u001B[38;5;129;01mand\u001B[39;00m \u001B[38;5;129;01mnot\u001B[39;00m no_val_y:\n",
      "File \u001B[0;32m/opt/anaconda3/lib/python3.11/site-packages/sklearn/utils/validation.py:921\u001B[0m, in \u001B[0;36mcheck_array\u001B[0;34m(array, accept_sparse, accept_large_sparse, dtype, order, copy, force_all_finite, ensure_2d, allow_nd, ensure_min_samples, ensure_min_features, estimator, input_name)\u001B[0m\n\u001B[1;32m    915\u001B[0m         \u001B[38;5;28;01mraise\u001B[39;00m \u001B[38;5;167;01mValueError\u001B[39;00m(\n\u001B[1;32m    916\u001B[0m             \u001B[38;5;124m\"\u001B[39m\u001B[38;5;124mFound array with dim \u001B[39m\u001B[38;5;132;01m%d\u001B[39;00m\u001B[38;5;124m. \u001B[39m\u001B[38;5;132;01m%s\u001B[39;00m\u001B[38;5;124m expected <= 2.\u001B[39m\u001B[38;5;124m\"\u001B[39m\n\u001B[1;32m    917\u001B[0m             \u001B[38;5;241m%\u001B[39m (array\u001B[38;5;241m.\u001B[39mndim, estimator_name)\n\u001B[1;32m    918\u001B[0m         )\n\u001B[1;32m    920\u001B[0m     \u001B[38;5;28;01mif\u001B[39;00m force_all_finite:\n\u001B[0;32m--> 921\u001B[0m         _assert_all_finite(\n\u001B[1;32m    922\u001B[0m             array,\n\u001B[1;32m    923\u001B[0m             input_name\u001B[38;5;241m=\u001B[39minput_name,\n\u001B[1;32m    924\u001B[0m             estimator_name\u001B[38;5;241m=\u001B[39mestimator_name,\n\u001B[1;32m    925\u001B[0m             allow_nan\u001B[38;5;241m=\u001B[39mforce_all_finite \u001B[38;5;241m==\u001B[39m \u001B[38;5;124m\"\u001B[39m\u001B[38;5;124mallow-nan\u001B[39m\u001B[38;5;124m\"\u001B[39m,\n\u001B[1;32m    926\u001B[0m         )\n\u001B[1;32m    928\u001B[0m \u001B[38;5;28;01mif\u001B[39;00m ensure_min_samples \u001B[38;5;241m>\u001B[39m \u001B[38;5;241m0\u001B[39m:\n\u001B[1;32m    929\u001B[0m     n_samples \u001B[38;5;241m=\u001B[39m _num_samples(array)\n",
      "File \u001B[0;32m/opt/anaconda3/lib/python3.11/site-packages/sklearn/utils/validation.py:161\u001B[0m, in \u001B[0;36m_assert_all_finite\u001B[0;34m(X, allow_nan, msg_dtype, estimator_name, input_name)\u001B[0m\n\u001B[1;32m    144\u001B[0m \u001B[38;5;28;01mif\u001B[39;00m estimator_name \u001B[38;5;129;01mand\u001B[39;00m input_name \u001B[38;5;241m==\u001B[39m \u001B[38;5;124m\"\u001B[39m\u001B[38;5;124mX\u001B[39m\u001B[38;5;124m\"\u001B[39m \u001B[38;5;129;01mand\u001B[39;00m has_nan_error:\n\u001B[1;32m    145\u001B[0m     \u001B[38;5;66;03m# Improve the error message on how to handle missing values in\u001B[39;00m\n\u001B[1;32m    146\u001B[0m     \u001B[38;5;66;03m# scikit-learn.\u001B[39;00m\n\u001B[1;32m    147\u001B[0m     msg_err \u001B[38;5;241m+\u001B[39m\u001B[38;5;241m=\u001B[39m (\n\u001B[1;32m    148\u001B[0m         \u001B[38;5;124mf\u001B[39m\u001B[38;5;124m\"\u001B[39m\u001B[38;5;130;01m\\n\u001B[39;00m\u001B[38;5;132;01m{\u001B[39;00mestimator_name\u001B[38;5;132;01m}\u001B[39;00m\u001B[38;5;124m does not accept missing values\u001B[39m\u001B[38;5;124m\"\u001B[39m\n\u001B[1;32m    149\u001B[0m         \u001B[38;5;124m\"\u001B[39m\u001B[38;5;124m encoded as NaN natively. For supervised learning, you might want\u001B[39m\u001B[38;5;124m\"\u001B[39m\n\u001B[0;32m   (...)\u001B[0m\n\u001B[1;32m    159\u001B[0m         \u001B[38;5;124m\"\u001B[39m\u001B[38;5;124m#estimators-that-handle-nan-values\u001B[39m\u001B[38;5;124m\"\u001B[39m\n\u001B[1;32m    160\u001B[0m     )\n\u001B[0;32m--> 161\u001B[0m \u001B[38;5;28;01mraise\u001B[39;00m \u001B[38;5;167;01mValueError\u001B[39;00m(msg_err)\n",
      "\u001B[0;31mValueError\u001B[0m: Input X contains NaN.\nRandomForestRegressor does not accept missing values encoded as NaN natively. For supervised learning, you might want to consider sklearn.ensemble.HistGradientBoostingClassifier and Regressor which accept missing values encoded as NaNs natively. Alternatively, it is possible to preprocess the data, for instance by using an imputer transformer in a pipeline or drop samples with missing values. See https://scikit-learn.org/stable/modules/impute.html You can find a list of all estimators that handle NaN values at the following page: https://scikit-learn.org/stable/modules/impute.html#estimators-that-handle-nan-values"
     ]
    }
   ],
   "execution_count": 70
  },
  {
   "metadata": {
    "ExecuteTime": {
     "end_time": "2024-06-05T17:10:42.943892Z",
     "start_time": "2024-06-05T17:10:41.808496Z"
    }
   },
   "cell_type": "code",
   "source": [
    "from sklearn.model_selection import train_test_split\n",
    "from sklearn.ensemble import HistGradientBoostingRegressor\n",
    "from sklearn.metrics import mean_squared_error, r2_score\n",
    "import numpy as np\n",
    "\n",
    "# Replace zero values in model_year and milage with a small number to avoid division by zero\n",
    "train_df_encoded['model_year'].replace(0, 0.1, inplace=True)\n",
    "train_df_encoded['milage'].replace(0, 0.1, inplace=True)\n",
    "test_df_encoded['model_year'].replace(0, 0.1, inplace=True)\n",
    "test_df_encoded['milage'].replace(0, 0.1, inplace=True)\n",
    "\n",
    "# Add new columns to the training dataset\n",
    "train_df_encoded['price/year'] = train_df_encoded['price'] / train_df_encoded['model_year']\n",
    "train_df_encoded['price/mileage'] = train_df_encoded['price'] / train_df_encoded['milage']\n",
    "\n",
    "# Prepare the data\n",
    "X = train_df_encoded.drop(columns=['price'])\n",
    "y = train_df_encoded['price']\n",
    "\n",
    "# Split the data into training and validation sets\n",
    "X_train, X_val, y_train, y_val = train_test_split(X, y, test_size=0.2, random_state=42)\n",
    "\n",
    "# Initialize and train the model\n",
    "model = HistGradientBoostingRegressor(random_state=42)\n",
    "model.fit(X_train, y_train)\n",
    "\n",
    "# Predict on the validation set\n",
    "y_pred_val = model.predict(X_val)\n",
    "\n",
    "# Evaluate the model\n",
    "mse = mean_squared_error(y_val, y_pred_val)\n",
    "r2 = r2_score(y_val, y_pred_val)\n",
    "print(f'Validation Mean Squared Error: {mse}')\n",
    "print(f'Validation R-squared: {r2}')\n",
    "\n",
    "# Add corresponding columns to the test dataset using placeholders\n",
    "test_df_encoded['price/year'] = np.nan\n",
    "test_df_encoded['price/mileage'] = np.nan\n",
    "\n",
    "# Prepare the test data\n",
    "X_test = test_df_encoded.drop(columns=['predicted_price'], errors='ignore')\n",
    "\n",
    "# Predict on the test set\n",
    "test_predictions = model.predict(X_test)\n",
    "\n",
    "# Add predicted price to test dataset\n",
    "test_df_encoded['predicted_price'] = test_predictions\n",
    "\n",
    "# Update the test dataset with the new features using the predicted prices\n",
    "test_df_encoded['predicted_price/year'] = test_df_encoded['predicted_price'] / test_df_encoded['model_year']\n",
    "test_df_encoded['predicted_price/mileage'] = test_df_encoded['predicted_price'] / test_df_encoded['milage']\n",
    "\n",
    "# Display the first few rows of the test dataframe with predictions\n",
    "print(test_df_encoded.head())\n"
   ],
   "id": "7bf36e50a96972dd",
   "outputs": [
    {
     "name": "stdout",
     "output_type": "stream",
     "text": [
      "Validation Mean Squared Error: 345337737.13746125\n",
      "Validation R-squared: 0.8824782473613746\n"
     ]
    },
    {
     "ename": "ValueError",
     "evalue": "The feature names should match those that were passed during fit.\nFeature names unseen at fit time:\n- predicted_price/mileage\n- predicted_price/year\n",
     "output_type": "error",
     "traceback": [
      "\u001B[0;31m---------------------------------------------------------------------------\u001B[0m",
      "\u001B[0;31mValueError\u001B[0m                                Traceback (most recent call last)",
      "Cell \u001B[0;32mIn[54], line 45\u001B[0m\n\u001B[1;32m     42\u001B[0m X_test \u001B[38;5;241m=\u001B[39m test_df_encoded\u001B[38;5;241m.\u001B[39mdrop(columns\u001B[38;5;241m=\u001B[39m[\u001B[38;5;124m'\u001B[39m\u001B[38;5;124mpredicted_price\u001B[39m\u001B[38;5;124m'\u001B[39m], errors\u001B[38;5;241m=\u001B[39m\u001B[38;5;124m'\u001B[39m\u001B[38;5;124mignore\u001B[39m\u001B[38;5;124m'\u001B[39m)\n\u001B[1;32m     44\u001B[0m \u001B[38;5;66;03m# Predict on the test set\u001B[39;00m\n\u001B[0;32m---> 45\u001B[0m test_predictions \u001B[38;5;241m=\u001B[39m model\u001B[38;5;241m.\u001B[39mpredict(X_test)\n\u001B[1;32m     47\u001B[0m \u001B[38;5;66;03m# Add predicted price to test dataset\u001B[39;00m\n\u001B[1;32m     48\u001B[0m test_df_encoded[\u001B[38;5;124m'\u001B[39m\u001B[38;5;124mpredicted_price\u001B[39m\u001B[38;5;124m'\u001B[39m] \u001B[38;5;241m=\u001B[39m test_predictions\n",
      "File \u001B[0;32m/opt/anaconda3/lib/python3.11/site-packages/sklearn/ensemble/_hist_gradient_boosting/gradient_boosting.py:1487\u001B[0m, in \u001B[0;36mHistGradientBoostingRegressor.predict\u001B[0;34m(self, X)\u001B[0m\n\u001B[1;32m   1484\u001B[0m check_is_fitted(\u001B[38;5;28mself\u001B[39m)\n\u001B[1;32m   1485\u001B[0m \u001B[38;5;66;03m# Return inverse link of raw predictions after converting\u001B[39;00m\n\u001B[1;32m   1486\u001B[0m \u001B[38;5;66;03m# shape (n_samples, 1) to (n_samples,)\u001B[39;00m\n\u001B[0;32m-> 1487\u001B[0m \u001B[38;5;28;01mreturn\u001B[39;00m \u001B[38;5;28mself\u001B[39m\u001B[38;5;241m.\u001B[39m_loss\u001B[38;5;241m.\u001B[39mlink\u001B[38;5;241m.\u001B[39minverse(\u001B[38;5;28mself\u001B[39m\u001B[38;5;241m.\u001B[39m_raw_predict(X)\u001B[38;5;241m.\u001B[39mravel())\n",
      "File \u001B[0;32m/opt/anaconda3/lib/python3.11/site-packages/sklearn/ensemble/_hist_gradient_boosting/gradient_boosting.py:1022\u001B[0m, in \u001B[0;36mBaseHistGradientBoosting._raw_predict\u001B[0;34m(self, X, n_threads)\u001B[0m\n\u001B[1;32m   1020\u001B[0m is_binned \u001B[38;5;241m=\u001B[39m \u001B[38;5;28mgetattr\u001B[39m(\u001B[38;5;28mself\u001B[39m, \u001B[38;5;124m\"\u001B[39m\u001B[38;5;124m_in_fit\u001B[39m\u001B[38;5;124m\"\u001B[39m, \u001B[38;5;28;01mFalse\u001B[39;00m)\n\u001B[1;32m   1021\u001B[0m \u001B[38;5;28;01mif\u001B[39;00m \u001B[38;5;129;01mnot\u001B[39;00m is_binned:\n\u001B[0;32m-> 1022\u001B[0m     X \u001B[38;5;241m=\u001B[39m \u001B[38;5;28mself\u001B[39m\u001B[38;5;241m.\u001B[39m_validate_data(\n\u001B[1;32m   1023\u001B[0m         X, dtype\u001B[38;5;241m=\u001B[39mX_DTYPE, force_all_finite\u001B[38;5;241m=\u001B[39m\u001B[38;5;28;01mFalse\u001B[39;00m, reset\u001B[38;5;241m=\u001B[39m\u001B[38;5;28;01mFalse\u001B[39;00m\n\u001B[1;32m   1024\u001B[0m     )\n\u001B[1;32m   1025\u001B[0m check_is_fitted(\u001B[38;5;28mself\u001B[39m)\n\u001B[1;32m   1026\u001B[0m \u001B[38;5;28;01mif\u001B[39;00m X\u001B[38;5;241m.\u001B[39mshape[\u001B[38;5;241m1\u001B[39m] \u001B[38;5;241m!=\u001B[39m \u001B[38;5;28mself\u001B[39m\u001B[38;5;241m.\u001B[39m_n_features:\n",
      "File \u001B[0;32m/opt/anaconda3/lib/python3.11/site-packages/sklearn/base.py:548\u001B[0m, in \u001B[0;36mBaseEstimator._validate_data\u001B[0;34m(self, X, y, reset, validate_separately, **check_params)\u001B[0m\n\u001B[1;32m    483\u001B[0m \u001B[38;5;28;01mdef\u001B[39;00m \u001B[38;5;21m_validate_data\u001B[39m(\n\u001B[1;32m    484\u001B[0m     \u001B[38;5;28mself\u001B[39m,\n\u001B[1;32m    485\u001B[0m     X\u001B[38;5;241m=\u001B[39m\u001B[38;5;124m\"\u001B[39m\u001B[38;5;124mno_validation\u001B[39m\u001B[38;5;124m\"\u001B[39m,\n\u001B[0;32m   (...)\u001B[0m\n\u001B[1;32m    489\u001B[0m     \u001B[38;5;241m*\u001B[39m\u001B[38;5;241m*\u001B[39mcheck_params,\n\u001B[1;32m    490\u001B[0m ):\n\u001B[1;32m    491\u001B[0m \u001B[38;5;250m    \u001B[39m\u001B[38;5;124;03m\"\"\"Validate input data and set or check the `n_features_in_` attribute.\u001B[39;00m\n\u001B[1;32m    492\u001B[0m \n\u001B[1;32m    493\u001B[0m \u001B[38;5;124;03m    Parameters\u001B[39;00m\n\u001B[0;32m   (...)\u001B[0m\n\u001B[1;32m    546\u001B[0m \u001B[38;5;124;03m        validated.\u001B[39;00m\n\u001B[1;32m    547\u001B[0m \u001B[38;5;124;03m    \"\"\"\u001B[39;00m\n\u001B[0;32m--> 548\u001B[0m     \u001B[38;5;28mself\u001B[39m\u001B[38;5;241m.\u001B[39m_check_feature_names(X, reset\u001B[38;5;241m=\u001B[39mreset)\n\u001B[1;32m    550\u001B[0m     \u001B[38;5;28;01mif\u001B[39;00m y \u001B[38;5;129;01mis\u001B[39;00m \u001B[38;5;28;01mNone\u001B[39;00m \u001B[38;5;129;01mand\u001B[39;00m \u001B[38;5;28mself\u001B[39m\u001B[38;5;241m.\u001B[39m_get_tags()[\u001B[38;5;124m\"\u001B[39m\u001B[38;5;124mrequires_y\u001B[39m\u001B[38;5;124m\"\u001B[39m]:\n\u001B[1;32m    551\u001B[0m         \u001B[38;5;28;01mraise\u001B[39;00m \u001B[38;5;167;01mValueError\u001B[39;00m(\n\u001B[1;32m    552\u001B[0m             \u001B[38;5;124mf\u001B[39m\u001B[38;5;124m\"\u001B[39m\u001B[38;5;124mThis \u001B[39m\u001B[38;5;132;01m{\u001B[39;00m\u001B[38;5;28mself\u001B[39m\u001B[38;5;241m.\u001B[39m\u001B[38;5;18m__class__\u001B[39m\u001B[38;5;241m.\u001B[39m\u001B[38;5;18m__name__\u001B[39m\u001B[38;5;132;01m}\u001B[39;00m\u001B[38;5;124m estimator \u001B[39m\u001B[38;5;124m\"\u001B[39m\n\u001B[1;32m    553\u001B[0m             \u001B[38;5;124m\"\u001B[39m\u001B[38;5;124mrequires y to be passed, but the target y is None.\u001B[39m\u001B[38;5;124m\"\u001B[39m\n\u001B[1;32m    554\u001B[0m         )\n",
      "File \u001B[0;32m/opt/anaconda3/lib/python3.11/site-packages/sklearn/base.py:481\u001B[0m, in \u001B[0;36mBaseEstimator._check_feature_names\u001B[0;34m(self, X, reset)\u001B[0m\n\u001B[1;32m    476\u001B[0m \u001B[38;5;28;01mif\u001B[39;00m \u001B[38;5;129;01mnot\u001B[39;00m missing_names \u001B[38;5;129;01mand\u001B[39;00m \u001B[38;5;129;01mnot\u001B[39;00m unexpected_names:\n\u001B[1;32m    477\u001B[0m     message \u001B[38;5;241m+\u001B[39m\u001B[38;5;241m=\u001B[39m (\n\u001B[1;32m    478\u001B[0m         \u001B[38;5;124m\"\u001B[39m\u001B[38;5;124mFeature names must be in the same order as they were in fit.\u001B[39m\u001B[38;5;130;01m\\n\u001B[39;00m\u001B[38;5;124m\"\u001B[39m\n\u001B[1;32m    479\u001B[0m     )\n\u001B[0;32m--> 481\u001B[0m \u001B[38;5;28;01mraise\u001B[39;00m \u001B[38;5;167;01mValueError\u001B[39;00m(message)\n",
      "\u001B[0;31mValueError\u001B[0m: The feature names should match those that were passed during fit.\nFeature names unseen at fit time:\n- predicted_price/mileage\n- predicted_price/year\n"
     ]
    }
   ],
   "execution_count": 54
  },
  {
   "metadata": {
    "ExecuteTime": {
     "end_time": "2024-06-05T16:42:45.567021Z",
     "start_time": "2024-06-05T16:42:11.654737Z"
    }
   },
   "cell_type": "code",
   "source": [
    "from sklearn.model_selection import GridSearchCV\n",
    "from sklearn.experimental import enable_hist_gradient_boosting\n",
    "from sklearn.ensemble import HistGradientBoostingRegressor\n",
    "\n",
    "# Define the parameter grid\n",
    "param_grid = {\n",
    "    'learning_rate': [0.01, 0.1, 0.2],\n",
    "    'max_iter': [100, 200, 300],\n",
    "    'max_leaf_nodes': [31, 50, 100],\n",
    "    'min_samples_leaf': [20, 50, 100]\n",
    "}\n",
    "\n",
    "# Initialize the model\n",
    "model = HistGradientBoostingRegressor(random_state=42)\n",
    "\n",
    "# Initialize Grid Search\n",
    "grid_search = GridSearchCV(estimator=model, param_grid=param_grid, cv=3, scoring='neg_mean_squared_error', verbose=2,\n",
    "                           n_jobs=-1)\n",
    "\n",
    "# Fit Grid Search\n",
    "grid_search.fit(X_train, y_train)\n",
    "\n",
    "# Best parameters and best score\n",
    "print(f'Best parameters: {grid_search.best_params_}')\n",
    "print(f'Best cross-validation MSE: {-grid_search.best_score_}')\n",
    "\n",
    "# Train the model with the best parameters\n",
    "best_model = grid_search.best_estimator_\n",
    "best_model.fit(X_train, y_train)\n",
    "\n",
    "# Predict on the validation set\n",
    "y_pred_val = best_model.predict(X_val)\n",
    "\n",
    "# Evaluate the model\n",
    "mse = mean_squared_error(y_val, y_pred_val)\n",
    "r2 = r2_score(y_val, y_pred_val)\n",
    "print(f'Validation Mean Squared Error: {mse}')\n",
    "print(f'Validation R-squared: {r2}')\n",
    "\n",
    "# Predict on the test set\n",
    "test_predictions = best_model.predict(X_test)\n",
    "\n",
    "# Add predicted price to test dataset\n",
    "test_df_encoded['predicted_price'] = test_predictions\n",
    "\n",
    "# Update the test dataset with the new features using the predicted prices\n",
    "test_df_encoded['predicted_price/year'] = test_df_encoded['predicted_price'] / test_df_encoded['model_year']\n",
    "test_df_encoded['predicted_price/mileage'] = test_df_encoded['predicted_price'] / test_df_encoded['milage']\n",
    "\n",
    "# Display the first few rows of the test dataframe with predictions\n",
    "print(test_df_encoded.head())\n"
   ],
   "id": "249285ad8b091490",
   "outputs": [
    {
     "name": "stdout",
     "output_type": "stream",
     "text": [
      "Fitting 3 folds for each of 81 candidates, totalling 243 fits\n"
     ]
    },
    {
     "name": "stderr",
     "output_type": "stream",
     "text": [
      "/opt/anaconda3/lib/python3.11/site-packages/sklearn/experimental/enable_hist_gradient_boosting.py:16: UserWarning: Since version 1.0, it is not needed to import enable_hist_gradient_boosting anymore. HistGradientBoostingClassifier and HistGradientBoostingRegressor are now stable and can be normally imported from sklearn.ensemble.\n",
      "  warnings.warn(\n"
     ]
    },
    {
     "name": "stdout",
     "output_type": "stream",
     "text": [
      "Best parameters: {'learning_rate': 0.2, 'max_iter': 100, 'max_leaf_nodes': 31, 'min_samples_leaf': 20}\n",
      "Best cross-validation MSE: 765997089.4282652\n",
      "Validation Mean Squared Error: 337425840.4854967\n",
      "Validation R-squared: 0.8851707418710737\n",
      "      id  brand  model  model_year  milage  engine  transmission  accident  \\\n",
      "0  54273     34    528        10.0   73000     544            33         1   \n",
      "1  54274     26   1246         9.0  128032     410            26         1   \n",
      "2  54275     34    317         9.0   51983     311            20         1   \n",
      "3  54276     25   1318         6.0   29500     911            42         0   \n",
      "4  54277      4   1710         4.0   90000     633            26         0   \n",
      "\n",
      "   predicted_price  price/year  price/mileage  predicted_price/year  \\\n",
      "0     20544.585403         NaN            NaN           2054.458540   \n",
      "1     21098.458341         NaN            NaN           2344.273149   \n",
      "2     19306.494212         NaN            NaN           2145.166024   \n",
      "3     14369.955717         NaN            NaN           2394.992620   \n",
      "4     11542.990856         NaN            NaN           2885.747714   \n",
      "\n",
      "   predicted_price/mileage  \n",
      "0                 0.281433  \n",
      "1                 0.164791  \n",
      "2                 0.371400  \n",
      "3                 0.487117  \n",
      "4                 0.128255  \n"
     ]
    }
   ],
   "execution_count": 44
  },
  {
   "metadata": {
    "ExecuteTime": {
     "end_time": "2024-06-05T16:48:34.912336Z",
     "start_time": "2024-06-05T16:48:31.564167Z"
    }
   },
   "cell_type": "code",
   "source": [
    "# Install XGBoost if it's not already installed\n",
    "!pip install xgboost\n",
    "\n",
    "import xgboost as xgb\n",
    "from sklearn.model_selection import train_test_split\n",
    "from sklearn.metrics import mean_squared_error, r2_score\n",
    "\n",
    "# Replace zero values in model_year and milage with a small number to avoid division by zero\n",
    "train_df_encoded['model_year'].replace(0, 0.1, inplace=True)\n",
    "train_df_encoded['milage'].replace(0, 0.1, inplace=True)\n",
    "test_df_encoded['model_year'].replace(0, 0.1, inplace=True)\n",
    "test_df_encoded['milage'].replace(0, 0.1, inplace=True)\n",
    "\n",
    "# Add new columns to the training dataset\n",
    "train_df_encoded['price/year'] = train_df_encoded['price'] / train_df_encoded['model_year']\n",
    "train_df_encoded['price/mileage'] = train_df_encoded['price'] / train_df_encoded['milage']\n",
    "\n",
    "# Prepare the data\n",
    "X = train_df_encoded.drop(columns=['price'])\n",
    "y = train_df_encoded['price']\n",
    "\n",
    "# Split the data into training and validation sets\n",
    "X_train, X_val, y_train, y_val = train_test_split(X, y, test_size=0.2, random_state=42)\n",
    "\n",
    "# Initialize and train the XGBoost model\n",
    "xgb_model = xgb.XGBRegressor(objective='reg:squarederror', random_state=42)\n",
    "xgb_model.fit(X_train, y_train)\n",
    "\n",
    "# Predict on the validation set\n",
    "y_pred_val = xgb_model.predict(X_val)\n",
    "\n",
    "# Evaluate the model\n",
    "mse = mean_squared_error(y_val, y_pred_val)\n",
    "r2 = r2_score(y_val, y_pred_val)\n",
    "print(f'Validation Mean Squared Error: {mse}')\n",
    "print(f'Validation R-squared: {r2}')\n",
    "\n",
    "# Prepare the test data\n",
    "X_test = test_df_encoded.drop(columns=['predicted_price'], errors='ignore')\n",
    "\n",
    "# Predict on the test set\n",
    "test_predictions = xgb_model.predict(X_test)\n",
    "\n",
    "# Add predicted price to test dataset\n",
    "test_df_encoded['predicted_price'] = test_predictions\n",
    "\n",
    "# Update the test dataset with the new features using the predicted prices\n",
    "test_df_encoded['predicted_price/year'] = test_df_encoded['predicted_price'] / test_df_encoded['model_year']\n",
    "test_df_encoded['predicted_price/mileage'] = test_df_encoded['predicted_price'] / test_df_encoded['milage']\n",
    "\n",
    "# Display the first few rows of the test dataframe with predictions\n",
    "print(test_df_encoded.head())\n"
   ],
   "id": "b0e1e754cdbf3a2d",
   "outputs": [
    {
     "name": "stdout",
     "output_type": "stream",
     "text": [
      "Collecting xgboost\r\n",
      "  Downloading xgboost-2.0.3-py3-none-macosx_12_0_arm64.whl.metadata (2.0 kB)\r\n",
      "Requirement already satisfied: numpy in /opt/anaconda3/lib/python3.11/site-packages (from xgboost) (1.26.4)\r\n",
      "Requirement already satisfied: scipy in /opt/anaconda3/lib/python3.11/site-packages (from xgboost) (1.11.4)\r\n",
      "Downloading xgboost-2.0.3-py3-none-macosx_12_0_arm64.whl (1.9 MB)\r\n",
      "\u001B[2K   \u001B[90m━━━━━━━━━━━━━━━━━━━━━━━━━━━━━━━━━━━━━━━━\u001B[0m \u001B[32m1.9/1.9 MB\u001B[0m \u001B[31m10.4 MB/s\u001B[0m eta \u001B[36m0:00:00\u001B[0m \u001B[36m0:00:01\u001B[0m\r\n",
      "\u001B[?25hInstalling collected packages: xgboost\r\n",
      "Successfully installed xgboost-2.0.3\r\n",
      "Validation Mean Squared Error: 565174739.7375674\n",
      "Validation R-squared: 0.8076656014729159\n"
     ]
    },
    {
     "ename": "ValueError",
     "evalue": "feature_names mismatch: ['id', 'brand', 'model', 'model_year', 'milage', 'engine', 'transmission', 'accident', 'price/year', 'price/mileage'] ['id', 'brand', 'model', 'model_year', 'milage', 'engine', 'transmission', 'accident', 'price/year', 'price/mileage', 'predicted_price/year', 'predicted_price/mileage']\ntraining data did not have the following fields: predicted_price/mileage, predicted_price/year",
     "output_type": "error",
     "traceback": [
      "\u001B[0;31m---------------------------------------------------------------------------\u001B[0m",
      "\u001B[0;31mValueError\u001B[0m                                Traceback (most recent call last)",
      "Cell \u001B[0;32mIn[45], line 42\u001B[0m\n\u001B[1;32m     39\u001B[0m X_test \u001B[38;5;241m=\u001B[39m test_df_encoded\u001B[38;5;241m.\u001B[39mdrop(columns\u001B[38;5;241m=\u001B[39m[\u001B[38;5;124m'\u001B[39m\u001B[38;5;124mpredicted_price\u001B[39m\u001B[38;5;124m'\u001B[39m], errors\u001B[38;5;241m=\u001B[39m\u001B[38;5;124m'\u001B[39m\u001B[38;5;124mignore\u001B[39m\u001B[38;5;124m'\u001B[39m)\n\u001B[1;32m     41\u001B[0m \u001B[38;5;66;03m# Predict on the test set\u001B[39;00m\n\u001B[0;32m---> 42\u001B[0m test_predictions \u001B[38;5;241m=\u001B[39m xgb_model\u001B[38;5;241m.\u001B[39mpredict(X_test)\n\u001B[1;32m     44\u001B[0m \u001B[38;5;66;03m# Add predicted price to test dataset\u001B[39;00m\n\u001B[1;32m     45\u001B[0m test_df_encoded[\u001B[38;5;124m'\u001B[39m\u001B[38;5;124mpredicted_price\u001B[39m\u001B[38;5;124m'\u001B[39m] \u001B[38;5;241m=\u001B[39m test_predictions\n",
      "File \u001B[0;32m/opt/anaconda3/lib/python3.11/site-packages/xgboost/sklearn.py:1168\u001B[0m, in \u001B[0;36mXGBModel.predict\u001B[0;34m(self, X, output_margin, validate_features, base_margin, iteration_range)\u001B[0m\n\u001B[1;32m   1166\u001B[0m \u001B[38;5;28;01mif\u001B[39;00m \u001B[38;5;28mself\u001B[39m\u001B[38;5;241m.\u001B[39m_can_use_inplace_predict():\n\u001B[1;32m   1167\u001B[0m     \u001B[38;5;28;01mtry\u001B[39;00m:\n\u001B[0;32m-> 1168\u001B[0m         predts \u001B[38;5;241m=\u001B[39m \u001B[38;5;28mself\u001B[39m\u001B[38;5;241m.\u001B[39mget_booster()\u001B[38;5;241m.\u001B[39minplace_predict(\n\u001B[1;32m   1169\u001B[0m             data\u001B[38;5;241m=\u001B[39mX,\n\u001B[1;32m   1170\u001B[0m             iteration_range\u001B[38;5;241m=\u001B[39miteration_range,\n\u001B[1;32m   1171\u001B[0m             predict_type\u001B[38;5;241m=\u001B[39m\u001B[38;5;124m\"\u001B[39m\u001B[38;5;124mmargin\u001B[39m\u001B[38;5;124m\"\u001B[39m \u001B[38;5;28;01mif\u001B[39;00m output_margin \u001B[38;5;28;01melse\u001B[39;00m \u001B[38;5;124m\"\u001B[39m\u001B[38;5;124mvalue\u001B[39m\u001B[38;5;124m\"\u001B[39m,\n\u001B[1;32m   1172\u001B[0m             missing\u001B[38;5;241m=\u001B[39m\u001B[38;5;28mself\u001B[39m\u001B[38;5;241m.\u001B[39mmissing,\n\u001B[1;32m   1173\u001B[0m             base_margin\u001B[38;5;241m=\u001B[39mbase_margin,\n\u001B[1;32m   1174\u001B[0m             validate_features\u001B[38;5;241m=\u001B[39mvalidate_features,\n\u001B[1;32m   1175\u001B[0m         )\n\u001B[1;32m   1176\u001B[0m         \u001B[38;5;28;01mif\u001B[39;00m _is_cupy_array(predts):\n\u001B[1;32m   1177\u001B[0m             \u001B[38;5;28;01mimport\u001B[39;00m \u001B[38;5;21;01mcupy\u001B[39;00m  \u001B[38;5;66;03m# pylint: disable=import-error\u001B[39;00m\n",
      "File \u001B[0;32m/opt/anaconda3/lib/python3.11/site-packages/xgboost/core.py:2418\u001B[0m, in \u001B[0;36mBooster.inplace_predict\u001B[0;34m(self, data, iteration_range, predict_type, missing, validate_features, base_margin, strict_shape)\u001B[0m\n\u001B[1;32m   2416\u001B[0m     data, fns, _ \u001B[38;5;241m=\u001B[39m _transform_pandas_df(data, enable_categorical)\n\u001B[1;32m   2417\u001B[0m     \u001B[38;5;28;01mif\u001B[39;00m validate_features:\n\u001B[0;32m-> 2418\u001B[0m         \u001B[38;5;28mself\u001B[39m\u001B[38;5;241m.\u001B[39m_validate_features(fns)\n\u001B[1;32m   2419\u001B[0m \u001B[38;5;28;01mif\u001B[39;00m _is_list(data) \u001B[38;5;129;01mor\u001B[39;00m _is_tuple(data):\n\u001B[1;32m   2420\u001B[0m     data \u001B[38;5;241m=\u001B[39m np\u001B[38;5;241m.\u001B[39marray(data)\n",
      "File \u001B[0;32m/opt/anaconda3/lib/python3.11/site-packages/xgboost/core.py:2970\u001B[0m, in \u001B[0;36mBooster._validate_features\u001B[0;34m(self, feature_names)\u001B[0m\n\u001B[1;32m   2964\u001B[0m \u001B[38;5;28;01mif\u001B[39;00m my_missing:\n\u001B[1;32m   2965\u001B[0m     msg \u001B[38;5;241m+\u001B[39m\u001B[38;5;241m=\u001B[39m (\n\u001B[1;32m   2966\u001B[0m         \u001B[38;5;124m\"\u001B[39m\u001B[38;5;130;01m\\n\u001B[39;00m\u001B[38;5;124mtraining data did not have the following fields: \u001B[39m\u001B[38;5;124m\"\u001B[39m\n\u001B[1;32m   2967\u001B[0m         \u001B[38;5;241m+\u001B[39m \u001B[38;5;124m\"\u001B[39m\u001B[38;5;124m, \u001B[39m\u001B[38;5;124m\"\u001B[39m\u001B[38;5;241m.\u001B[39mjoin(\u001B[38;5;28mstr\u001B[39m(s) \u001B[38;5;28;01mfor\u001B[39;00m s \u001B[38;5;129;01min\u001B[39;00m my_missing)\n\u001B[1;32m   2968\u001B[0m     )\n\u001B[0;32m-> 2970\u001B[0m \u001B[38;5;28;01mraise\u001B[39;00m \u001B[38;5;167;01mValueError\u001B[39;00m(msg\u001B[38;5;241m.\u001B[39mformat(\u001B[38;5;28mself\u001B[39m\u001B[38;5;241m.\u001B[39mfeature_names, feature_names))\n",
      "\u001B[0;31mValueError\u001B[0m: feature_names mismatch: ['id', 'brand', 'model', 'model_year', 'milage', 'engine', 'transmission', 'accident', 'price/year', 'price/mileage'] ['id', 'brand', 'model', 'model_year', 'milage', 'engine', 'transmission', 'accident', 'price/year', 'price/mileage', 'predicted_price/year', 'predicted_price/mileage']\ntraining data did not have the following fields: predicted_price/mileage, predicted_price/year"
     ]
    }
   ],
   "execution_count": 45
  },
  {
   "metadata": {
    "ExecuteTime": {
     "end_time": "2024-06-05T16:54:41.544421Z",
     "start_time": "2024-06-05T16:54:39.114658Z"
    }
   },
   "cell_type": "code",
   "source": [
    "# Install XGBoost if it's not already installed\n",
    "!pip install xgboost\n",
    "\n",
    "import xgboost as xgb\n",
    "from sklearn.model_selection import train_test_split\n",
    "from sklearn.metrics import mean_squared_error, r2_score\n",
    "\n",
    "# Replace zero values in model_year and milage with a small number to avoid division by zero\n",
    "train_df_encoded['model_year'].replace(0, 0.1, inplace=True)\n",
    "train_df_encoded['milage'].replace(0, 0.1, inplace=True)\n",
    "test_df_encoded['model_year'].replace(0, 0.1, inplace=True)\n",
    "test_df_encoded['milage'].replace(0, 0.1, inplace=True)\n",
    "\n",
    "# Add new columns to the training dataset\n",
    "train_df_encoded['price/year'] = train_df_encoded['price'] / train_df_encoded['model_year']\n",
    "train_df_encoded['price/mileage'] = train_df_encoded['price'] / train_df_encoded['milage']\n",
    "\n",
    "# Prepare the data\n",
    "X = train_df_encoded.drop(columns=['price'])\n",
    "y = train_df_encoded['price']\n",
    "\n",
    "# Split the data into training and validation sets\n",
    "X_train, X_val, y_train, y_val = train_test_split(X, y, test_size=0.2, random_state=42)\n",
    "\n",
    "# Initialize and train the XGBoost model\n",
    "xgb_model = xgb.XGBRegressor(objective='reg:squarederror', random_state=42)\n",
    "xgb_model.fit(X_train, y_train)\n",
    "\n",
    "# Predict on the validation set\n",
    "y_pred_val = xgb_model.predict(X_val)\n",
    "\n",
    "# Evaluate the model\n",
    "mse = mean_squared_error(y_val, y_pred_val)\n",
    "r2 = r2_score(y_val, y_pred_val)\n",
    "print(f'Validation Mean Squared Error: {mse}')\n",
    "print(f'Validation R-squared: {r2}')\n",
    "\n",
    "# Prepare the test data\n",
    "X_test = test_df_encoded.drop(columns=['predicted_price'], errors='ignore')\n",
    "\n",
    "# Predict on the test set\n",
    "test_predictions = xgb_model.predict(X_test)\n",
    "\n",
    "# Add predicted price to test dataset\n",
    "test_df_encoded['predicted_price'] = test_predictions\n",
    "\n",
    "# Update the test dataset with the new features using the predicted prices\n",
    "test_df_encoded['predicted_price/year'] = test_df_encoded['predicted_price'] / test_df_encoded['model_year']\n",
    "test_df_encoded['predicted_price/mileage'] = test_df_encoded['predicted_price'] / test_df_encoded['milage']\n",
    "\n",
    "# Display the first few rows of the test dataframe with predictions\n",
    "print(test_df_encoded.head())\n"
   ],
   "id": "681f0e5e2dd4232a",
   "outputs": [
    {
     "name": "stdout",
     "output_type": "stream",
     "text": [
      "Requirement already satisfied: xgboost in /opt/anaconda3/lib/python3.11/site-packages (2.0.3)\r\n",
      "Requirement already satisfied: numpy in /opt/anaconda3/lib/python3.11/site-packages (from xgboost) (1.26.4)\r\n",
      "Requirement already satisfied: scipy in /opt/anaconda3/lib/python3.11/site-packages (from xgboost) (1.11.4)\r\n",
      "Validation Mean Squared Error: 565174739.7375674\n",
      "Validation R-squared: 0.8076656014729159\n"
     ]
    },
    {
     "ename": "ValueError",
     "evalue": "feature_names mismatch: ['id', 'brand', 'model', 'model_year', 'milage', 'engine', 'transmission', 'accident', 'price/year', 'price/mileage'] ['id', 'brand', 'model', 'model_year', 'milage', 'engine', 'transmission', 'accident', 'price/year', 'price/mileage', 'predicted_price/year', 'predicted_price/mileage']\ntraining data did not have the following fields: predicted_price/mileage, predicted_price/year",
     "output_type": "error",
     "traceback": [
      "\u001B[0;31m---------------------------------------------------------------------------\u001B[0m",
      "\u001B[0;31mValueError\u001B[0m                                Traceback (most recent call last)",
      "Cell \u001B[0;32mIn[46], line 42\u001B[0m\n\u001B[1;32m     39\u001B[0m X_test \u001B[38;5;241m=\u001B[39m test_df_encoded\u001B[38;5;241m.\u001B[39mdrop(columns\u001B[38;5;241m=\u001B[39m[\u001B[38;5;124m'\u001B[39m\u001B[38;5;124mpredicted_price\u001B[39m\u001B[38;5;124m'\u001B[39m], errors\u001B[38;5;241m=\u001B[39m\u001B[38;5;124m'\u001B[39m\u001B[38;5;124mignore\u001B[39m\u001B[38;5;124m'\u001B[39m)\n\u001B[1;32m     41\u001B[0m \u001B[38;5;66;03m# Predict on the test set\u001B[39;00m\n\u001B[0;32m---> 42\u001B[0m test_predictions \u001B[38;5;241m=\u001B[39m xgb_model\u001B[38;5;241m.\u001B[39mpredict(X_test)\n\u001B[1;32m     44\u001B[0m \u001B[38;5;66;03m# Add predicted price to test dataset\u001B[39;00m\n\u001B[1;32m     45\u001B[0m test_df_encoded[\u001B[38;5;124m'\u001B[39m\u001B[38;5;124mpredicted_price\u001B[39m\u001B[38;5;124m'\u001B[39m] \u001B[38;5;241m=\u001B[39m test_predictions\n",
      "File \u001B[0;32m/opt/anaconda3/lib/python3.11/site-packages/xgboost/sklearn.py:1168\u001B[0m, in \u001B[0;36mXGBModel.predict\u001B[0;34m(self, X, output_margin, validate_features, base_margin, iteration_range)\u001B[0m\n\u001B[1;32m   1166\u001B[0m \u001B[38;5;28;01mif\u001B[39;00m \u001B[38;5;28mself\u001B[39m\u001B[38;5;241m.\u001B[39m_can_use_inplace_predict():\n\u001B[1;32m   1167\u001B[0m     \u001B[38;5;28;01mtry\u001B[39;00m:\n\u001B[0;32m-> 1168\u001B[0m         predts \u001B[38;5;241m=\u001B[39m \u001B[38;5;28mself\u001B[39m\u001B[38;5;241m.\u001B[39mget_booster()\u001B[38;5;241m.\u001B[39minplace_predict(\n\u001B[1;32m   1169\u001B[0m             data\u001B[38;5;241m=\u001B[39mX,\n\u001B[1;32m   1170\u001B[0m             iteration_range\u001B[38;5;241m=\u001B[39miteration_range,\n\u001B[1;32m   1171\u001B[0m             predict_type\u001B[38;5;241m=\u001B[39m\u001B[38;5;124m\"\u001B[39m\u001B[38;5;124mmargin\u001B[39m\u001B[38;5;124m\"\u001B[39m \u001B[38;5;28;01mif\u001B[39;00m output_margin \u001B[38;5;28;01melse\u001B[39;00m \u001B[38;5;124m\"\u001B[39m\u001B[38;5;124mvalue\u001B[39m\u001B[38;5;124m\"\u001B[39m,\n\u001B[1;32m   1172\u001B[0m             missing\u001B[38;5;241m=\u001B[39m\u001B[38;5;28mself\u001B[39m\u001B[38;5;241m.\u001B[39mmissing,\n\u001B[1;32m   1173\u001B[0m             base_margin\u001B[38;5;241m=\u001B[39mbase_margin,\n\u001B[1;32m   1174\u001B[0m             validate_features\u001B[38;5;241m=\u001B[39mvalidate_features,\n\u001B[1;32m   1175\u001B[0m         )\n\u001B[1;32m   1176\u001B[0m         \u001B[38;5;28;01mif\u001B[39;00m _is_cupy_array(predts):\n\u001B[1;32m   1177\u001B[0m             \u001B[38;5;28;01mimport\u001B[39;00m \u001B[38;5;21;01mcupy\u001B[39;00m  \u001B[38;5;66;03m# pylint: disable=import-error\u001B[39;00m\n",
      "File \u001B[0;32m/opt/anaconda3/lib/python3.11/site-packages/xgboost/core.py:2418\u001B[0m, in \u001B[0;36mBooster.inplace_predict\u001B[0;34m(self, data, iteration_range, predict_type, missing, validate_features, base_margin, strict_shape)\u001B[0m\n\u001B[1;32m   2416\u001B[0m     data, fns, _ \u001B[38;5;241m=\u001B[39m _transform_pandas_df(data, enable_categorical)\n\u001B[1;32m   2417\u001B[0m     \u001B[38;5;28;01mif\u001B[39;00m validate_features:\n\u001B[0;32m-> 2418\u001B[0m         \u001B[38;5;28mself\u001B[39m\u001B[38;5;241m.\u001B[39m_validate_features(fns)\n\u001B[1;32m   2419\u001B[0m \u001B[38;5;28;01mif\u001B[39;00m _is_list(data) \u001B[38;5;129;01mor\u001B[39;00m _is_tuple(data):\n\u001B[1;32m   2420\u001B[0m     data \u001B[38;5;241m=\u001B[39m np\u001B[38;5;241m.\u001B[39marray(data)\n",
      "File \u001B[0;32m/opt/anaconda3/lib/python3.11/site-packages/xgboost/core.py:2970\u001B[0m, in \u001B[0;36mBooster._validate_features\u001B[0;34m(self, feature_names)\u001B[0m\n\u001B[1;32m   2964\u001B[0m \u001B[38;5;28;01mif\u001B[39;00m my_missing:\n\u001B[1;32m   2965\u001B[0m     msg \u001B[38;5;241m+\u001B[39m\u001B[38;5;241m=\u001B[39m (\n\u001B[1;32m   2966\u001B[0m         \u001B[38;5;124m\"\u001B[39m\u001B[38;5;130;01m\\n\u001B[39;00m\u001B[38;5;124mtraining data did not have the following fields: \u001B[39m\u001B[38;5;124m\"\u001B[39m\n\u001B[1;32m   2967\u001B[0m         \u001B[38;5;241m+\u001B[39m \u001B[38;5;124m\"\u001B[39m\u001B[38;5;124m, \u001B[39m\u001B[38;5;124m\"\u001B[39m\u001B[38;5;241m.\u001B[39mjoin(\u001B[38;5;28mstr\u001B[39m(s) \u001B[38;5;28;01mfor\u001B[39;00m s \u001B[38;5;129;01min\u001B[39;00m my_missing)\n\u001B[1;32m   2968\u001B[0m     )\n\u001B[0;32m-> 2970\u001B[0m \u001B[38;5;28;01mraise\u001B[39;00m \u001B[38;5;167;01mValueError\u001B[39;00m(msg\u001B[38;5;241m.\u001B[39mformat(\u001B[38;5;28mself\u001B[39m\u001B[38;5;241m.\u001B[39mfeature_names, feature_names))\n",
      "\u001B[0;31mValueError\u001B[0m: feature_names mismatch: ['id', 'brand', 'model', 'model_year', 'milage', 'engine', 'transmission', 'accident', 'price/year', 'price/mileage'] ['id', 'brand', 'model', 'model_year', 'milage', 'engine', 'transmission', 'accident', 'price/year', 'price/mileage', 'predicted_price/year', 'predicted_price/mileage']\ntraining data did not have the following fields: predicted_price/mileage, predicted_price/year"
     ]
    }
   ],
   "execution_count": 46
  },
  {
   "metadata": {
    "ExecuteTime": {
     "end_time": "2024-06-05T16:56:39.373942Z",
     "start_time": "2024-06-05T16:56:13.956036Z"
    }
   },
   "cell_type": "code",
   "source": [
    "from sklearn.model_selection import GridSearchCV\n",
    "import xgboost as xgb\n",
    "\n",
    "# Define the parameter grid\n",
    "param_grid = {\n",
    "    'learning_rate': [0.01, 0.1, 0.2],\n",
    "    'max_depth': [3, 6, 9],\n",
    "    'n_estimators': [100, 200, 300],\n",
    "    'subsample': [0.7, 0.8, 0.9]\n",
    "}\n",
    "\n",
    "# Initialize the model\n",
    "xgb_model = xgb.XGBRegressor(objective='reg:squarederror', random_state=42)\n",
    "\n",
    "# Initialize Grid Search\n",
    "grid_search = GridSearchCV(estimator=xgb_model, param_grid=param_grid, cv=3, scoring='neg_mean_squared_error',\n",
    "                           verbose=2, n_jobs=-1)\n",
    "\n",
    "# Fit Grid Search\n",
    "grid_search.fit(X_train, y_train)\n",
    "\n",
    "# Best parameters and best score\n",
    "print(f'Best parameters: {grid_search.best_params_}')\n",
    "print(f'Best cross-validation MSE: {-grid_search.best_score_}')\n",
    "\n",
    "# Train the model with the best parameters\n",
    "best_xgb_model = grid_search.best_estimator_\n",
    "best_xgb_model.fit(X_train, y_train)\n",
    "\n",
    "# Predict on the validation set\n",
    "y_pred_val = best_xgb_model.predict(X_val)\n",
    "\n",
    "# Evaluate the model\n",
    "mse = mean_squared_error(y_val, y_pred_val)\n",
    "r2 = r2_score(y_val, y_pred_val)\n",
    "print(f'Validation Mean Squared Error: {mse}')\n",
    "print(f'Validation R-squared: {r2}')\n",
    "\n",
    "# Predict on the test set\n",
    "test_predictions = best_xgb_model.predict(X_test)\n",
    "\n",
    "# Add predicted price to test dataset\n",
    "test_df_encoded['predicted_price'] = test_predictions\n",
    "\n",
    "# Update the test dataset with the new features using the predicted prices\n",
    "test_df_encoded['predicted_price/year'] = test_df_encoded['predicted_price'] / test_df_encoded['model_year']\n",
    "test_df_encoded['predicted_price/mileage'] = test_df_encoded['predicted_price'] / test_df_encoded['milage']\n",
    "\n",
    "# Display the first few rows of the test dataframe with predictions\n",
    "print(test_df_encoded.head())\n"
   ],
   "id": "f24a1d97ff47e6b1",
   "outputs": [
    {
     "name": "stdout",
     "output_type": "stream",
     "text": [
      "Fitting 3 folds for each of 81 candidates, totalling 243 fits\n",
      "Best parameters: {'learning_rate': 0.1, 'max_depth': 3, 'n_estimators': 200, 'subsample': 0.7}\n",
      "Best cross-validation MSE: 463196784.3647556\n",
      "Validation Mean Squared Error: 347296372.2908291\n",
      "Validation R-squared: 0.8818117049848841\n"
     ]
    },
    {
     "ename": "ValueError",
     "evalue": "feature_names mismatch: ['id', 'brand', 'model', 'model_year', 'milage', 'engine', 'transmission', 'accident', 'price/year', 'price/mileage'] ['id', 'brand', 'model', 'model_year', 'milage', 'engine', 'transmission', 'accident', 'price/year', 'price/mileage', 'predicted_price/year', 'predicted_price/mileage']\ntraining data did not have the following fields: predicted_price/mileage, predicted_price/year",
     "output_type": "error",
     "traceback": [
      "\u001B[0;31m---------------------------------------------------------------------------\u001B[0m",
      "\u001B[0;31mValueError\u001B[0m                                Traceback (most recent call last)",
      "Cell \u001B[0;32mIn[47], line 39\u001B[0m\n\u001B[1;32m     36\u001B[0m \u001B[38;5;28mprint\u001B[39m(\u001B[38;5;124mf\u001B[39m\u001B[38;5;124m'\u001B[39m\u001B[38;5;124mValidation R-squared: \u001B[39m\u001B[38;5;132;01m{\u001B[39;00mr2\u001B[38;5;132;01m}\u001B[39;00m\u001B[38;5;124m'\u001B[39m)\n\u001B[1;32m     38\u001B[0m \u001B[38;5;66;03m# Predict on the test set\u001B[39;00m\n\u001B[0;32m---> 39\u001B[0m test_predictions \u001B[38;5;241m=\u001B[39m best_xgb_model\u001B[38;5;241m.\u001B[39mpredict(X_test)\n\u001B[1;32m     41\u001B[0m \u001B[38;5;66;03m# Add predicted price to test dataset\u001B[39;00m\n\u001B[1;32m     42\u001B[0m test_df_encoded[\u001B[38;5;124m'\u001B[39m\u001B[38;5;124mpredicted_price\u001B[39m\u001B[38;5;124m'\u001B[39m] \u001B[38;5;241m=\u001B[39m test_predictions\n",
      "File \u001B[0;32m/opt/anaconda3/lib/python3.11/site-packages/xgboost/sklearn.py:1168\u001B[0m, in \u001B[0;36mXGBModel.predict\u001B[0;34m(self, X, output_margin, validate_features, base_margin, iteration_range)\u001B[0m\n\u001B[1;32m   1166\u001B[0m \u001B[38;5;28;01mif\u001B[39;00m \u001B[38;5;28mself\u001B[39m\u001B[38;5;241m.\u001B[39m_can_use_inplace_predict():\n\u001B[1;32m   1167\u001B[0m     \u001B[38;5;28;01mtry\u001B[39;00m:\n\u001B[0;32m-> 1168\u001B[0m         predts \u001B[38;5;241m=\u001B[39m \u001B[38;5;28mself\u001B[39m\u001B[38;5;241m.\u001B[39mget_booster()\u001B[38;5;241m.\u001B[39minplace_predict(\n\u001B[1;32m   1169\u001B[0m             data\u001B[38;5;241m=\u001B[39mX,\n\u001B[1;32m   1170\u001B[0m             iteration_range\u001B[38;5;241m=\u001B[39miteration_range,\n\u001B[1;32m   1171\u001B[0m             predict_type\u001B[38;5;241m=\u001B[39m\u001B[38;5;124m\"\u001B[39m\u001B[38;5;124mmargin\u001B[39m\u001B[38;5;124m\"\u001B[39m \u001B[38;5;28;01mif\u001B[39;00m output_margin \u001B[38;5;28;01melse\u001B[39;00m \u001B[38;5;124m\"\u001B[39m\u001B[38;5;124mvalue\u001B[39m\u001B[38;5;124m\"\u001B[39m,\n\u001B[1;32m   1172\u001B[0m             missing\u001B[38;5;241m=\u001B[39m\u001B[38;5;28mself\u001B[39m\u001B[38;5;241m.\u001B[39mmissing,\n\u001B[1;32m   1173\u001B[0m             base_margin\u001B[38;5;241m=\u001B[39mbase_margin,\n\u001B[1;32m   1174\u001B[0m             validate_features\u001B[38;5;241m=\u001B[39mvalidate_features,\n\u001B[1;32m   1175\u001B[0m         )\n\u001B[1;32m   1176\u001B[0m         \u001B[38;5;28;01mif\u001B[39;00m _is_cupy_array(predts):\n\u001B[1;32m   1177\u001B[0m             \u001B[38;5;28;01mimport\u001B[39;00m \u001B[38;5;21;01mcupy\u001B[39;00m  \u001B[38;5;66;03m# pylint: disable=import-error\u001B[39;00m\n",
      "File \u001B[0;32m/opt/anaconda3/lib/python3.11/site-packages/xgboost/core.py:2418\u001B[0m, in \u001B[0;36mBooster.inplace_predict\u001B[0;34m(self, data, iteration_range, predict_type, missing, validate_features, base_margin, strict_shape)\u001B[0m\n\u001B[1;32m   2416\u001B[0m     data, fns, _ \u001B[38;5;241m=\u001B[39m _transform_pandas_df(data, enable_categorical)\n\u001B[1;32m   2417\u001B[0m     \u001B[38;5;28;01mif\u001B[39;00m validate_features:\n\u001B[0;32m-> 2418\u001B[0m         \u001B[38;5;28mself\u001B[39m\u001B[38;5;241m.\u001B[39m_validate_features(fns)\n\u001B[1;32m   2419\u001B[0m \u001B[38;5;28;01mif\u001B[39;00m _is_list(data) \u001B[38;5;129;01mor\u001B[39;00m _is_tuple(data):\n\u001B[1;32m   2420\u001B[0m     data \u001B[38;5;241m=\u001B[39m np\u001B[38;5;241m.\u001B[39marray(data)\n",
      "File \u001B[0;32m/opt/anaconda3/lib/python3.11/site-packages/xgboost/core.py:2970\u001B[0m, in \u001B[0;36mBooster._validate_features\u001B[0;34m(self, feature_names)\u001B[0m\n\u001B[1;32m   2964\u001B[0m \u001B[38;5;28;01mif\u001B[39;00m my_missing:\n\u001B[1;32m   2965\u001B[0m     msg \u001B[38;5;241m+\u001B[39m\u001B[38;5;241m=\u001B[39m (\n\u001B[1;32m   2966\u001B[0m         \u001B[38;5;124m\"\u001B[39m\u001B[38;5;130;01m\\n\u001B[39;00m\u001B[38;5;124mtraining data did not have the following fields: \u001B[39m\u001B[38;5;124m\"\u001B[39m\n\u001B[1;32m   2967\u001B[0m         \u001B[38;5;241m+\u001B[39m \u001B[38;5;124m\"\u001B[39m\u001B[38;5;124m, \u001B[39m\u001B[38;5;124m\"\u001B[39m\u001B[38;5;241m.\u001B[39mjoin(\u001B[38;5;28mstr\u001B[39m(s) \u001B[38;5;28;01mfor\u001B[39;00m s \u001B[38;5;129;01min\u001B[39;00m my_missing)\n\u001B[1;32m   2968\u001B[0m     )\n\u001B[0;32m-> 2970\u001B[0m \u001B[38;5;28;01mraise\u001B[39;00m \u001B[38;5;167;01mValueError\u001B[39;00m(msg\u001B[38;5;241m.\u001B[39mformat(\u001B[38;5;28mself\u001B[39m\u001B[38;5;241m.\u001B[39mfeature_names, feature_names))\n",
      "\u001B[0;31mValueError\u001B[0m: feature_names mismatch: ['id', 'brand', 'model', 'model_year', 'milage', 'engine', 'transmission', 'accident', 'price/year', 'price/mileage'] ['id', 'brand', 'model', 'model_year', 'milage', 'engine', 'transmission', 'accident', 'price/year', 'price/mileage', 'predicted_price/year', 'predicted_price/mileage']\ntraining data did not have the following fields: predicted_price/mileage, predicted_price/year"
     ]
    }
   ],
   "execution_count": 47
  },
  {
   "metadata": {
    "ExecuteTime": {
     "end_time": "2024-06-05T17:03:02.854367Z",
     "start_time": "2024-06-05T17:03:01.745680Z"
    }
   },
   "cell_type": "code",
   "source": [
    "from sklearn.model_selection import cross_val_score\n",
    "\n",
    "# Initialize the best XGBoost model\n",
    "best_xgb_model = xgb.XGBRegressor(\n",
    "    learning_rate=0.1,\n",
    "    max_depth=3,\n",
    "    n_estimators=200,\n",
    "    subsample=0.7,\n",
    "    objective='reg:squarederror',\n",
    "    random_state=42\n",
    ")\n",
    "\n",
    "# Perform cross-validation\n",
    "cv_scores = cross_val_score(best_xgb_model, X, y, cv=5, scoring='neg_mean_squared_error')\n",
    "cv_mse = -cv_scores.mean()\n",
    "cv_std = cv_scores.std()\n",
    "\n",
    "print(f'Cross-Validation MSE: {cv_mse}')\n",
    "print(f'Cross-Validation MSE Std Dev: {cv_std}')\n"
   ],
   "id": "6c6d7727db0bc2fb",
   "outputs": [
    {
     "name": "stdout",
     "output_type": "stream",
     "text": [
      "Cross-Validation MSE: 367104212.4197246\n",
      "Cross-Validation MSE Std Dev: 269442318.48350406\n"
     ]
    }
   ],
   "execution_count": 50
  },
  {
   "metadata": {
    "ExecuteTime": {
     "end_time": "2024-06-05T17:03:28.317209Z",
     "start_time": "2024-06-05T17:03:28.015298Z"
    }
   },
   "cell_type": "code",
   "source": [
    "import matplotlib.pyplot as plt\n",
    "\n",
    "# Fit the model on the entire training data\n",
    "best_xgb_model.fit(X, y)\n",
    "\n",
    "# Get feature importance\n",
    "feature_importance = best_xgb_model.feature_importances_\n",
    "features = X.columns\n",
    "\n",
    "# Plot feature importance\n",
    "plt.figure(figsize=(10, 6))\n",
    "plt.barh(features, feature_importance)\n",
    "plt.xlabel('Feature Importance')\n",
    "plt.ylabel('Features')\n",
    "plt.title('Feature Importance from XGBoost Model')\n",
    "plt.show()\n"
   ],
   "id": "20569430718cba2d",
   "outputs": [
    {
     "data": {
      "text/plain": [
       "<Figure size 1000x600 with 1 Axes>"
      ],
      "image/png": "[encoded data removed]"
     },
     "metadata": {},
     "output_type": "display_data"
    }
   ],
   "execution_count": 51
  },
  {
   "metadata": {
    "ExecuteTime": {
     "end_time": "2024-06-05T17:04:13.106151Z",
     "start_time": "2024-06-05T17:04:12.983388Z"
    }
   },
   "cell_type": "code",
   "source": [
    "import matplotlib.pyplot as plt\n",
    "\n",
    "# Predict on the validation set\n",
    "y_pred_val = best_xgb_model.predict(X_val)\n",
    "\n",
    "# Calculate residuals\n",
    "residuals = y_val - y_pred_val\n",
    "\n",
    "# Plot residuals\n",
    "plt.figure(figsize=(10, 6))\n",
    "plt.scatter(y_pred_val, residuals)\n",
    "plt.axhline(y=0, color='r', linestyle='--')\n",
    "plt.xlabel('Predicted Values')\n",
    "plt.ylabel('Residuals')\n",
    "plt.title('Residual Plot')\n",
    "plt.show()\n",
    "\n"
   ],
   "id": "a2c5c4e77707d4f1",
   "outputs": [
    {
     "data": {
      "text/plain": [
       "<Figure size 1000x600 with 1 Axes>"
      ],
      "image/png": "[encoded data removed]"
     },
     "metadata": {},
     "output_type": "display_data"
    }
   ],
   "execution_count": 52
  },
  {
   "metadata": {
    "ExecuteTime": {
     "end_time": "2024-06-05T17:09:04.288068Z",
     "start_time": "2024-06-05T17:09:03.486692Z"
    }
   },
   "cell_type": "code",
   "source": [
    "import matplotlib.pyplot as plt\n",
    "\n",
    "# Initialize and train the best XGBoost model\n",
    "best_xgb_model = xgb.XGBRegressor(\n",
    "    learning_rate=0.1,\n",
    "    max_depth=3,\n",
    "    n_estimators=200,\n",
    "    subsample=0.7,\n",
    "    objective='reg:squarederror',\n",
    "    random_state=42\n",
    ")\n",
    "\n",
    "# Fit the model on the entire training data\n",
    "best_xgb_model.fit(X, y)\n",
    "\n",
    "# Get feature importance\n",
    "feature_importance = best_xgb_model.feature_importances_\n",
    "features = X.columns\n",
    "\n",
    "# Plot feature importance\n",
    "plt.figure(figsize=(10, 6))\n",
    "plt.barh(features, feature_importance)\n",
    "plt.xlabel('Feature Importance')\n",
    "plt.ylabel('Features')\n",
    "plt.title('Feature Importance from XGBoost Model')\n",
    "plt.show()\n"
   ],
   "id": "1b4dd0779d03cc3e",
   "outputs": [
    {
     "data": {
      "text/plain": [
       "<Figure size 1000x600 with 1 Axes>"
      ],
      "image/png": "[encoded data removed]"
     },
     "metadata": {},
     "output_type": "display_data"
    }
   ],
   "execution_count": 53
  },
  {
   "metadata": {},
   "cell_type": "code",
   "outputs": [],
   "execution_count": null,
   "source": "",
   "id": "d4a62fa3444f0398"
  }
 ],
 "metadata": {
  "kernelspec": {
   "display_name": "Python 3",
   "language": "python",
   "name": "python3"
  },
  "language_info": {
   "codemirror_mode": {
    "name": "ipython",
    "version": 2
   },
   "file_extension": ".py",
   "mimetype": "text/x-python",
   "name": "python",
   "nbconvert_exporter": "python",
   "pygments_lexer": "ipython2",
   "version": "2.7.6"
  }
 },
 "nbformat": 4,
 "nbformat_minor": 5
}
